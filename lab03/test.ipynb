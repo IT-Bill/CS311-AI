{
 "cells": [
  {
   "cell_type": "code",
   "execution_count": 15,
   "metadata": {},
   "outputs": [],
   "source": [
    "from pathlib import Path\n",
    "from matplotlib import pyplot as plt\n",
    "import tomli #the lib to read config file\n",
    "import sys\n",
    "from agent import ProblemSolvingAgent\n",
    "import plotting\n",
    "from utils.map import mat2obs, read_map\n",
    "\n",
    "file_folder = Path(\".\").parent # file is more accurate then cwd\n",
    "test_folder = file_folder/'test_cases'\n",
    "save_fig =True # whether to generate gif file. If true, the real time display would be much slower. \n",
    "image_path = file_folder / 'images'  # image and animation path  \n",
    "gif_path = file_folder / 'gif'      # gif path\n",
    "sys.path.append(str(file_folder)) # add the current directory to the path.\n",
    "\n",
    "agent = ProblemSolvingAgent()"
   ]
  },
  {
   "cell_type": "code",
   "execution_count": 16,
   "metadata": {},
   "outputs": [
    {
     "name": "stdout",
     "output_type": "stream",
     "text": [
      "[(0, 0), (0, 1), (0, 2), (0, 3), (0, 4), (0, 5), (0, 6), (0, 7), (0, 8), (0, 9), (0, 10), (0, 11), (0, 12), (0, 13), (0, 14), (0, 15), (0, 16), (0, 17), (0, 18), (0, 19), (1, 0), (1, 16), (1, 19), (2, 0), (2, 16), (2, 19), (3, 0), (3, 16), (3, 19), (4, 0), (4, 8), (4, 9), (4, 10), (4, 11), (4, 12), (4, 16), (4, 19), (5, 0), (5, 3), (5, 4), (5, 5), (5, 6), (5, 7), (5, 8), (5, 12), (5, 16), (5, 19), (6, 0), (6, 3), (6, 12), (6, 16), (6, 19), (7, 0), (7, 3), (7, 6), (7, 7), (7, 8), (7, 9), (7, 12), (7, 13), (7, 16), (7, 19), (8, 0), (8, 2), (8, 3), (8, 6), (8, 9), (8, 10), (8, 13), (8, 16), (8, 19), (9, 0), (9, 2), (9, 6), (9, 10), (9, 13), (9, 16), (9, 19), (10, 0), (10, 2), (10, 6), (10, 10), (10, 13), (10, 16), (10, 19), (11, 0), (11, 2), (11, 6), (11, 13), (11, 16), (11, 19), (12, 0), (12, 2), (12, 6), (12, 7), (12, 8), (12, 9), (12, 10), (12, 11), (12, 12), (12, 13), (12, 16), (12, 19), (13, 0), (13, 2), (13, 3), (13, 16), (13, 19), (14, 0), (14, 3), (14, 16), (14, 19), (15, 0), (15, 3), (15, 6), (15, 7), (15, 8), (15, 9), (15, 10), (15, 11), (15, 12), (15, 13), (15, 14), (15, 15), (15, 16), (15, 19), (16, 0), (16, 3), (16, 4), (16, 5), (16, 6), (16, 19), (17, 0), (17, 19), (18, 0), (18, 19), (19, 0), (19, 1), (19, 2), (19, 3), (19, 4), (19, 5), (19, 6), (19, 7), (19, 8), (19, 9), (19, 10), (19, 11), (19, 12), (19, 13), (19, 14), (19, 15), (19, 16), (19, 17), (19, 18), (19, 19)]\n"
     ]
    }
   ],
   "source": [
    "with open(test_folder/f'case1.toml', 'rb') as f:\n",
    "    config = tomli.load(f)\n",
    "world_config = config['world']\n",
    "map = read_map(world_config, test_folder)\n",
    "obstacles = mat2obs(map)\n",
    "# coordinates of origin and destination\n",
    "start_point = tuple(world_config['start_point'])\n",
    "goal_point  = tuple(world_config['goal_point'])\n",
    "\n",
    "print(obstacles)\n"
   ]
  },
  {
   "cell_type": "code",
   "execution_count": 19,
   "metadata": {},
   "outputs": [
    {
     "name": "stdout",
     "output_type": "stream",
     "text": [
      "((2, 2), 1)\n",
      "((1, 3), 1)\n",
      "((1, 1), 1)\n",
      "((2, 1), 1.4142135623730951)\n",
      "((2, 3), 1.4142135623730951)\n"
     ]
    }
   ],
   "source": [
    "for neigh in agent.neighbours_of(obstacles, (1, 2)):\n",
    "    print(neigh)"
   ]
  },
  {
   "cell_type": "code",
   "execution_count": 28,
   "metadata": {},
   "outputs": [
    {
     "data": {
      "text/plain": [
       "[((2, 1), 1.4142135623730951),\n",
       " ((2, 3), 1.4142135623730951),\n",
       " ((2, 2), 1),\n",
       " ((1, 3), 1),\n",
       " ((1, 1), 1)]"
      ]
     },
     "execution_count": 28,
     "metadata": {},
     "output_type": "execute_result"
    }
   ],
   "source": [
    "def key(elem):\n",
    "    return -elem[1]\n",
    "a = list(agent.neighbours_of(obstacles, (1, 2)))\n",
    "a.sort(key=key)\n",
    "a"
   ]
  },
  {
   "cell_type": "code",
   "execution_count": 18,
   "metadata": {},
   "outputs": [
    {
     "name": "stderr",
     "output_type": "stream",
     "text": [
      "00:11:36 - utils.logger - \u001b[37mINFO\u001b[0m - The agent starts using DFS for searching. \n",
      "00:11:36 - utils.logger - \u001b[37mINFO\u001b[0m - The agent successfully searched a path! \n",
      "00:11:36 - utils.logger - \u001b[37mINFO\u001b[0m - Agent finishes after 0.0010006427764892578s of computing. \n"
     ]
    },
    {
     "data": {
      "text/plain": [
       "([], [])"
      ]
     },
     "execution_count": 18,
     "metadata": {},
     "output_type": "execute_result"
    }
   ],
   "source": [
    "agent.solve_by_searching(obstacles, start_point, goal_point, algorithm=\"DFS\")"
   ]
  }
 ],
 "metadata": {
  "kernelspec": {
   "display_name": "venv",
   "language": "python",
   "name": "python3"
  },
  "language_info": {
   "codemirror_mode": {
    "name": "ipython",
    "version": 3
   },
   "file_extension": ".py",
   "mimetype": "text/x-python",
   "name": "python",
   "nbconvert_exporter": "python",
   "pygments_lexer": "ipython3",
   "version": "3.8.8"
  },
  "orig_nbformat": 4
 },
 "nbformat": 4,
 "nbformat_minor": 2
}
