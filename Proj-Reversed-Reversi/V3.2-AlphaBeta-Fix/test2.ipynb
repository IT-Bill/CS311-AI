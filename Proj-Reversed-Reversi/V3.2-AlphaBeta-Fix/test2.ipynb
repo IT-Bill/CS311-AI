{
 "cells": [
  {
   "cell_type": "code",
   "execution_count": 1,
   "metadata": {},
   "outputs": [],
   "source": [
    "from game import *\n",
    "import numpy as np"
   ]
  },
  {
   "cell_type": "code",
   "execution_count": 2,
   "metadata": {},
   "outputs": [],
   "source": [
    "def log_to_list():\n",
    "    with open(\"chess_log.txt\", \"r\") as f:\n",
    "        data = f.read()\n",
    "    return eval(data)"
   ]
  },
  {
   "cell_type": "code",
   "execution_count": 3,
   "metadata": {},
   "outputs": [
    {
     "ename": "FileNotFoundError",
     "evalue": "[Errno 2] No such file or directory: 'chess_log.txt'",
     "output_type": "error",
     "traceback": [
      "\u001b[1;31m---------------------------------------------------------------------------\u001b[0m",
      "\u001b[1;31mFileNotFoundError\u001b[0m                         Traceback (most recent call last)",
      "Cell \u001b[1;32mIn[3], line 1\u001b[0m\n\u001b[1;32m----> 1\u001b[0m log \u001b[39m=\u001b[39m log_to_list()\n\u001b[0;32m      2\u001b[0m board \u001b[39m=\u001b[39m np\u001b[39m.\u001b[39marray(log[\u001b[39m5\u001b[39m])\n\u001b[0;32m      3\u001b[0m \u001b[39mprint\u001b[39m(board)\n",
      "Cell \u001b[1;32mIn[2], line 2\u001b[0m, in \u001b[0;36mlog_to_list\u001b[1;34m()\u001b[0m\n\u001b[0;32m      1\u001b[0m \u001b[39mdef\u001b[39;00m \u001b[39mlog_to_list\u001b[39m():\n\u001b[1;32m----> 2\u001b[0m     \u001b[39mwith\u001b[39;00m \u001b[39mopen\u001b[39;49m(\u001b[39m\"\u001b[39;49m\u001b[39mchess_log.txt\u001b[39;49m\u001b[39m\"\u001b[39;49m, \u001b[39m\"\u001b[39;49m\u001b[39mr\u001b[39;49m\u001b[39m\"\u001b[39;49m) \u001b[39mas\u001b[39;00m f:\n\u001b[0;32m      3\u001b[0m         data \u001b[39m=\u001b[39m f\u001b[39m.\u001b[39mread()\n\u001b[0;32m      4\u001b[0m     \u001b[39mreturn\u001b[39;00m \u001b[39meval\u001b[39m(data)\n",
      "File \u001b[1;32mt:\\CS311-AI\\venv\\lib\\site-packages\\IPython\\core\\interactiveshell.py:282\u001b[0m, in \u001b[0;36m_modified_open\u001b[1;34m(file, *args, **kwargs)\u001b[0m\n\u001b[0;32m    275\u001b[0m \u001b[39mif\u001b[39;00m file \u001b[39min\u001b[39;00m {\u001b[39m0\u001b[39m, \u001b[39m1\u001b[39m, \u001b[39m2\u001b[39m}:\n\u001b[0;32m    276\u001b[0m     \u001b[39mraise\u001b[39;00m \u001b[39mValueError\u001b[39;00m(\n\u001b[0;32m    277\u001b[0m         \u001b[39mf\u001b[39m\u001b[39m\"\u001b[39m\u001b[39mIPython won\u001b[39m\u001b[39m'\u001b[39m\u001b[39mt let you open fd=\u001b[39m\u001b[39m{\u001b[39;00mfile\u001b[39m}\u001b[39;00m\u001b[39m by default \u001b[39m\u001b[39m\"\u001b[39m\n\u001b[0;32m    278\u001b[0m         \u001b[39m\"\u001b[39m\u001b[39mas it is likely to crash IPython. If you know what you are doing, \u001b[39m\u001b[39m\"\u001b[39m\n\u001b[0;32m    279\u001b[0m         \u001b[39m\"\u001b[39m\u001b[39myou can use builtins\u001b[39m\u001b[39m'\u001b[39m\u001b[39m open.\u001b[39m\u001b[39m\"\u001b[39m\n\u001b[0;32m    280\u001b[0m     )\n\u001b[1;32m--> 282\u001b[0m \u001b[39mreturn\u001b[39;00m io_open(file, \u001b[39m*\u001b[39;49margs, \u001b[39m*\u001b[39;49m\u001b[39m*\u001b[39;49mkwargs)\n",
      "\u001b[1;31mFileNotFoundError\u001b[0m: [Errno 2] No such file or directory: 'chess_log.txt'"
     ]
    }
   ],
   "source": [
    "log = log_to_list()\n",
    "board = np.array(log[5])\n",
    "print(board)\n",
    "\n",
    "select_move_easy(board, 1, 7)"
   ]
  },
  {
   "cell_type": "code",
   "execution_count": null,
   "metadata": {},
   "outputs": [
    {
     "data": {
      "text/plain": [
       "'0x3c7effffffff7e3c'"
      ]
     },
     "execution_count": 20,
     "metadata": {},
     "output_type": "execute_result"
    }
   ],
   "source": [
    "from numpy import uint64 as u64\n",
    "import numpy as np\n",
    "mask_all = u64(0xffff_ffff_ffff_ffff)\n",
    "\n",
    "mask_corner = u64(0x8100_0000_0000_0081)  # 角\n",
    "mask_star = u64(0x4281_0000_0000_8142)  # 角旁边的两个位置\n",
    "mask_inner = mask_all ^ (mask_corner | mask_star)  # 其他位置\n",
    "hex(mask_inner)"
   ]
  },
  {
   "cell_type": "code",
   "execution_count": 4,
   "metadata": {},
   "outputs": [
    {
     "data": {
      "text/plain": [
       "array([[ 1,  1,  1,  1,  1,  1,  1,  1],\n",
       "       [-1, -1, -1, -1, -1, -1, -1, -1],\n",
       "       [-1, -1, -1, -1, -1, -1, -1, -1],\n",
       "       [-1, -1, -1, -1, -1, -1, -1, -1],\n",
       "       [-1, -1, -1, -1, -1, -1, -1, -1],\n",
       "       [-1, -1, -1, -1, -1, -1, -1, -1],\n",
       "       [ 1, -1, -1, -1, -1, -1, -1, -1],\n",
       "       [ 0, -1, -1, -1, -1, -1, -1, -1]])"
      ]
     },
     "execution_count": 4,
     "metadata": {},
     "output_type": "execute_result"
    }
   ],
   "source": [
    "board = np.full((8, 8), -1)\n",
    "board[0, 0] = board[6, 0] = board[0, :] = 1\n",
    "board[7, 0] = 0\n",
    "\n",
    "board"
   ]
  },
  {
   "cell_type": "code",
   "execution_count": null,
   "metadata": {},
   "outputs": [
    {
     "name": "stdout",
     "output_type": "stream",
     "text": [
      "(7, 0) -50331648\n"
     ]
    },
    {
     "data": {
      "text/plain": [
       "(7, 0)"
      ]
     },
     "execution_count": 22,
     "metadata": {},
     "output_type": "execute_result"
    }
   ],
   "source": [
    "select_move_easy(board, -1, max_depth=6)"
   ]
  },
  {
   "cell_type": "code",
   "execution_count": null,
   "metadata": {},
   "outputs": [
    {
     "data": {
      "text/plain": [
       "array([[ 0,  0,  0,  0,  0,  0,  0,  0],\n",
       "       [ 0, -1,  0,  0,  0,  0,  0,  0],\n",
       "       [ 0,  1, -1, -1, -1, -1,  0,  0],\n",
       "       [ 1,  1,  1, -1, -1, -1,  0,  0],\n",
       "       [ 1,  1, -1,  1, -1, -1,  0,  0],\n",
       "       [ 1,  1,  1, -1,  1, -1,  0,  0],\n",
       "       [-1, -1, -1, -1, -1, -1, -1,  0],\n",
       "       [ 0, -1, -1,  0,  0, -1,  1,  0]])"
      ]
     },
     "execution_count": 23,
     "metadata": {},
     "output_type": "execute_result"
    }
   ],
   "source": [
    "board =np.array([[0, 0, 0, 0, 0, 0, 0, 0],\n",
    "       [0, -1, 0, 0, 0, 0, 0, 0],\n",
    "       [0, 1, -1, -1, -1, -1, 0, 0],\n",
    "       [1, 1, 1, -1, -1, -1, 0, 0],\n",
    "       [1, 1, -1, 1, -1, -1, 0, 0],\n",
    "       [1, 1, 1, -1, 1, -1, 0, 0],\n",
    "       [-1, -1, -1, -1, -1, -1, -1, 0],\n",
    "       [0, -1, -1, 0, 0, -1, 1, 0]])\n",
    "\n",
    "board"
   ]
  },
  {
   "cell_type": "code",
   "execution_count": null,
   "metadata": {},
   "outputs": [
    {
     "name": "stdout",
     "output_type": "stream",
     "text": [
      "(0, 1) 120\n",
      "(1, 2) -96\n",
      "(1, 3) 72\n",
      "(1, 4) 40\n",
      "(1, 5) -32\n",
      "(1, 6) 24\n",
      "(2, 6) -120\n",
      "(3, 6) 0\n",
      "(4, 6) 16\n",
      "(5, 6) -80\n",
      "(7, 3) 120\n",
      "(7, 4) 56\n",
      "(7, 0) -7608\n"
     ]
    },
    {
     "data": {
      "text/plain": [
       "(0, 1)"
      ]
     },
     "execution_count": 24,
     "metadata": {},
     "output_type": "execute_result"
    }
   ],
   "source": [
    "select_move_easy(board, 1, 6)"
   ]
  },
  {
   "cell_type": "code",
   "execution_count": null,
   "metadata": {},
   "outputs": [
    {
     "data": {
      "text/plain": [
       "1048576"
      ]
     },
     "execution_count": 25,
     "metadata": {},
     "output_type": "execute_result"
    }
   ],
   "source": [
    "(u64(1) - u64(0)) << u64(20)"
   ]
  },
  {
   "cell_type": "code",
   "execution_count": null,
   "metadata": {},
   "outputs": [
    {
     "name": "stdout",
     "output_type": "stream",
     "text": [
      "(4, 7) -7936\n",
      "(0, 7) -13631488\n"
     ]
    },
    {
     "data": {
      "text/plain": [
       "(4, 7)"
      ]
     },
     "execution_count": 26,
     "metadata": {},
     "output_type": "execute_result"
    }
   ],
   "source": [
    "board = np.array(\n",
    "    [[0,  0,  0, 1,  -1,  -1,  -1,  0],\n",
    "    [0,  0,  0,  0,  0,  1,  -1,  -1],\n",
    "    [0,  0,  0,  0,  0,  1,  1,  1],\n",
    "    [0,  0,  0,  0, 0,  0,  0,  -1],\n",
    "    [0,  0,  0, 0,  0,  0,  0,  0],\n",
    "    [0,  0,  0,  0,  0,  0,  0,  0],\n",
    "    [0,  0,  0,  0,  0,  0,  0,  0],\n",
    "    [0,  0,  0,  0,  0,  0,  0,  0]])\n",
    "\n",
    "select_move_easy(board, 1, 6)"
   ]
  },
  {
   "attachments": {},
   "cell_type": "markdown",
   "metadata": {},
   "source": [
    "### 逐个删除"
   ]
  },
  {
   "cell_type": "code",
   "execution_count": null,
   "metadata": {},
   "outputs": [
    {
     "name": "stdout",
     "output_type": "stream",
     "text": [
      "16 8\n",
      "(2, 4) -40\n",
      "(2, 5) -40\n",
      "(3, 2) -40\n",
      "(3, 3) -8\n",
      "(3, 6) -8\n",
      "(4, 6) -8\n",
      "(5, 6) -48\n",
      "(7, 3) -8\n",
      "(7, 4) -16\n",
      "(7, 0) -3728\n"
     ]
    },
    {
     "data": {
      "text/plain": [
       "(3, 3)"
      ]
     },
     "execution_count": 27,
     "metadata": {},
     "output_type": "execute_result"
    }
   ],
   "source": [
    "board =np.array([\n",
    "    [ 0,  0,  0,  0,  0,  0,  0,  0],\n",
    "    [ 0,  0,  0,  0,  0,  0,  0,  0],\n",
    "    [ 0,  0,  0,  0,  0,  0,  0,  0],\n",
    "    [ 0,  0,  0,  0, -1, -1,  0,  0],\n",
    "    [ 1,  1, -1,  1, -1, -1,  0,  0],\n",
    "    [ 1,  1,  1, -1,  1, -1,  0,  0],\n",
    "    [-1, -1, -1, -1, -1, -1,  0,  0],\n",
    "    [ 0, -1, -1,  0,  0, -1,  1,  0]])\n",
    "\n",
    "b, w = get_bin_board(board)\n",
    "print(popcount(b), popcount(w))\n",
    "\n",
    "select_move_easy(board, 1, 6)"
   ]
  },
  {
   "cell_type": "code",
   "execution_count": null,
   "metadata": {},
   "outputs": [
    {
     "name": "stdout",
     "output_type": "stream",
     "text": [
      "16 8\n",
      "(2, 4) -40\n",
      "(2, 5) -40\n",
      "(3, 2) -40\n",
      "(3, 3) -8\n",
      "(3, 6) -8\n",
      "(4, 6) -8\n",
      "(5, 6) -48\n",
      "(7, 3) -8\n",
      "(7, 4) -16\n",
      "(7, 0) -3728\n"
     ]
    },
    {
     "data": {
      "text/plain": [
       "(3, 3)"
      ]
     },
     "execution_count": 28,
     "metadata": {},
     "output_type": "execute_result"
    }
   ],
   "source": [
    "board =np.array([\n",
    "    [ 0,  0,  0,  0,  0,  0,  0,  0],\n",
    "    [ 0,  0,  0,  0,  0,  0,  0,  0],\n",
    "    [ 0,  0,  0,  0,  0,  0,  0,  0],\n",
    "    [ 0,  0,  0,  0, -1, -1,  0,  0],\n",
    "    [ 1,  1, -1,  1, -1, -1,  0,  0],\n",
    "    [ 1,  1,  1, -1,  1, -1,  0,  0],\n",
    "    [-1, -1, -1, -1, -1, -1,  0,  0],\n",
    "    [ 0, -1, -1,  0,  0, -1,  1,  0]])\n",
    "\n",
    "# board[7, 6] 为 0 或 -1时，评分正常，为1时，评分不正常\n",
    "\n",
    "b, w = get_bin_board(board)\n",
    "print(popcount(b), popcount(w))\n",
    "\n",
    "select_move_easy(board, 1, 6)"
   ]
  },
  {
   "cell_type": "code",
   "execution_count": null,
   "metadata": {},
   "outputs": [
    {
     "name": "stdout",
     "output_type": "stream",
     "text": [
      "16 8\n",
      "(2, 4) -40\n",
      "(2, 5) -40\n",
      "(3, 2) -40\n",
      "(3, 3) -8\n",
      "(3, 6) -8\n",
      "(4, 6) -8\n",
      "(5, 6) -48\n",
      "(7, 3) -8\n",
      "(7, 4) -16\n",
      "(7, 0) -3728\n"
     ]
    },
    {
     "data": {
      "text/plain": [
       "(3, 3)"
      ]
     },
     "execution_count": 29,
     "metadata": {},
     "output_type": "execute_result"
    }
   ],
   "source": [
    "board =np.array([\n",
    "    [ 0,  0,  0,  0,  0,  0,  0,  0],\n",
    "    [ 0,  0,  0,  0,  0,  0,  0,  0],\n",
    "    [ 0,  0,  0,  0,  0,  0,  0,  0],\n",
    "    [ 0,  0,  0,  0, -1, -1,  0,  0],\n",
    "    [ 1,  1, -1,  1, -1, -1,  0,  0],\n",
    "    [ 1,  1,  1, -1,  1, -1,  0,  0],\n",
    "    [-1, -1, -1, -1, -1, -1,  0,  0],\n",
    "    [ 0, -1, -1,  0,  0, -1,  1,  0]])\n",
    "\n",
    "\n",
    "b, w = get_bin_board(board)\n",
    "print(popcount(b), popcount(w))\n",
    "\n",
    "select_move_easy(board, 1, 6)"
   ]
  },
  {
   "cell_type": "code",
   "execution_count": null,
   "metadata": {},
   "outputs": [
    {
     "name": "stdout",
     "output_type": "stream",
     "text": [
      "(0, 3) 3896\n",
      "(1, 4) 72\n",
      "(3, 4) 56\n",
      "(3, 6) 88\n",
      "(0, 7) -4048\n"
     ]
    },
    {
     "data": {
      "text/plain": [
       "(0, 3)"
      ]
     },
     "execution_count": 30,
     "metadata": {},
     "output_type": "execute_result"
    }
   ],
   "source": [
    "# 1 和 -1 都可以放右上角\n",
    "board = np.array([\n",
    "    [ 0,  1, -1,  0, -1, -1, -1,  0],\n",
    "    [ 0,  0,  0,  0,  0, -1,  1, -1],\n",
    "    [ 0,  0,  0,  0,  0, -1, -1, -1],\n",
    "    [ 0,  0,  0,  0,  0,  0,  0, -1],\n",
    "    [ 0,  0,  0,  0,  0,  0,  0, -1],\n",
    "    [ 0,  0,  0,  0,  0,  0,  0, -1],\n",
    "    [ 0,  0,  0,  0,  0,  0,  0,  1],\n",
    "    [ 0,  0,  0,  0,  0,  0,  0,  0]\n",
    "])\n",
    "\n",
    "select_move_easy(board, 1, 2)"
   ]
  },
  {
   "cell_type": "code",
   "execution_count": null,
   "metadata": {},
   "outputs": [
    {
     "data": {
      "text/plain": [
       "'0x2000'"
      ]
     },
     "execution_count": 31,
     "metadata": {},
     "output_type": "execute_result"
    }
   ],
   "source": [
    "mask_high_one = u64(0x8000_0000_0000_0000)\n",
    "hex(mask_high_one >> u64(50))"
   ]
  },
  {
   "cell_type": "code",
   "execution_count": null,
   "metadata": {},
   "outputs": [
    {
     "data": {
      "text/plain": [
       "-1024"
      ]
     },
     "execution_count": 32,
     "metadata": {},
     "output_type": "execute_result"
    }
   ],
   "source": [
    "-1 << 10"
   ]
  },
  {
   "cell_type": "code",
   "execution_count": null,
   "metadata": {},
   "outputs": [
    {
     "name": "stdout",
     "output_type": "stream",
     "text": [
      "[[ 0  0  0  0  0  0  0  0]\n",
      " [ 0  0  0  0  0  0  0  0]\n",
      " [ 0  0  0  0  0  0  0  0]\n",
      " [ 0  0  0  1 -1  0  0  0]\n",
      " [ 0  0  0 -1  1  0  0  0]\n",
      " [ 0  0  0  0  0  0  0  0]\n",
      " [ 0  0  0  0  0  0  0  0]\n",
      " [ 0  0  0  0  0  0  0  0]]\n",
      "[[0 0 0 0 0 0 0 0]\n",
      " [0 0 0 0 0 0 0 0]\n",
      " [0 0 0 0 0 0 0 0]\n",
      " [0 0 0 0 1 0 0 0]\n",
      " [0 0 0 1 0 0 0 0]\n",
      " [0 0 0 0 0 0 0 0]\n",
      " [0 0 0 0 0 0 0 0]\n",
      " [0 0 0 0 0 0 0 0]]\n",
      "[[0 0 0 0 0 0 0 0]\n",
      " [0 0 0 0 0 0 0 0]\n",
      " [0 0 0 0 0 0 0 0]\n",
      " [0 0 0 1 0 0 0 0]\n",
      " [0 0 0 0 1 0 0 0]\n",
      " [0 0 0 0 0 0 0 0]\n",
      " [0 0 0 0 0 0 0 0]\n",
      " [0 0 0 0 0 0 0 0]]\n"
     ]
    }
   ],
   "source": [
    "b, w = frontier(*get_bin_board(INIT_BOARD))\n",
    "print(INIT_BOARD)\n",
    "print(get_2d_board(b))\n",
    "print(get_2d_board(w))"
   ]
  },
  {
   "cell_type": "code",
   "execution_count": null,
   "metadata": {},
   "outputs": [
    {
     "data": {
      "text/plain": [
       "[17, 9, 5, 0, 10, 8, 19, 11, 18, 4, 12, 3, 13, 1, 7, 2, 6, 14, 16, 15]"
      ]
     },
     "execution_count": 29,
     "metadata": {},
     "output_type": "execute_result"
    }
   ],
   "source": [
    "from random import shuffle\n",
    "a = [i for i in range(20)]\n",
    "shuffle(a)\n",
    "a"
   ]
  },
  {
   "cell_type": "code",
   "execution_count": 10,
   "metadata": {},
   "outputs": [
    {
     "data": {
      "text/plain": [
       "-5.656854249492381"
      ]
     },
     "execution_count": 10,
     "metadata": {},
     "output_type": "execute_result"
    }
   ],
   "source": [
    "-np.linalg.norm(np.array([0 ,0]) - np.array([8 / 2, 8 / 2]))"
   ]
  }
 ],
 "metadata": {
  "kernelspec": {
   "display_name": "venv",
   "language": "python",
   "name": "python3"
  },
  "language_info": {
   "codemirror_mode": {
    "name": "ipython",
    "version": 3
   },
   "file_extension": ".py",
   "mimetype": "text/x-python",
   "name": "python",
   "nbconvert_exporter": "python",
   "pygments_lexer": "ipython3",
   "version": "3.8.8"
  },
  "orig_nbformat": 4
 },
 "nbformat": 4,
 "nbformat_minor": 2
}
