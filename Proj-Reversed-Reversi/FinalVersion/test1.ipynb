{
 "cells": [
  {
   "cell_type": "code",
   "execution_count": 1,
   "metadata": {},
   "outputs": [],
   "source": [
    "from game import *\n",
    "import numpy as np\n",
    "def print_board(board):\n",
    "    STONE_TO_CHAR = {\n",
    "        0: ' . ',\n",
    "        -1: ' x ',\n",
    "        1: ' o ',\n",
    "    }\n",
    "    for row in range(8):\n",
    "        print(\"%2s %s\" % (row, ''.join(\n",
    "            [STONE_TO_CHAR[board[row, col]] for col in range(8)])))\n",
    "    print(\"    \" + \"  \".join(str(e) for e in range(8)))"
   ]
  },
  {
   "cell_type": "code",
   "execution_count": 2,
   "metadata": {},
   "outputs": [
    {
     "name": "stdout",
     "output_type": "stream",
     "text": [
      " 0  .  .  .  x  x  o  o  . \n",
      " 1  .  .  .  x  x  o  o  x \n",
      " 2  .  .  .  x  x  o  x  x \n",
      " 3  .  .  x  x  x  o  x  x \n",
      " 4  .  .  x  x  o  o  x  x \n",
      " 5  .  x  x  o  o  x  x  x \n",
      " 6  .  x  x  x  x  x  .  o \n",
      " 7  .  o  o  x  x  .  .  . \n",
      "    0  1  2  3  4  5  6  7\n"
     ]
    }
   ],
   "source": [
    "def log_to_list():\n",
    "    dir = \"../../chess-log/board_txt/chess_log.txt\"\n",
    "    with open(dir, \"r\") as f:\n",
    "        data = f.read()\n",
    "    return np.array(eval(data))\n",
    "\n",
    "board = log_to_list()[38]\n",
    "print_board(board)\n",
    "\n",
    "\n"
   ]
  },
  {
   "cell_type": "code",
   "execution_count": 3,
   "metadata": {},
   "outputs": [
    {
     "name": "stdout",
     "output_type": "stream",
     "text": [
      "(6, 0) 736\n",
      "(7, 6) 1200\n",
      "(1, 2) 512\n",
      "(3, 1) 848\n",
      "(4, 1) 464\n",
      "(2, 1) 544\n",
      "(2, 2) 752\n",
      "(5, 0) 480\n",
      "(7, 5) 1024\n",
      "(0, 2) 720\n",
      "(6, 6) 1264\n",
      "(0, 7) 1504\n",
      "(7, 0) -352\n",
      "max_depth: 5\n",
      "Try time: 0.2165934000000007\n",
      "search again\n",
      "\n",
      "(6, 0) 768\n",
      "(7, 6) 1168\n",
      "(2, 2) 768\n",
      "(7, 5) 1104\n",
      "(6, 6) 1216\n",
      "(2, 1) 560\n",
      "(5, 0) 512\n",
      "(3, 1) 752\n",
      "(1, 2) 1136\n",
      "(4, 1) 560\n",
      "(0, 2) 1216\n",
      "(0, 7) 1360\n",
      "(7, 0) -336\n"
     ]
    },
    {
     "data": {
      "text/plain": [
       "(0, 7)"
      ]
     },
     "execution_count": 3,
     "metadata": {},
     "output_type": "execute_result"
    }
   ],
   "source": [
    "select_move_easy(board, 1)"
   ]
  },
  {
   "cell_type": "code",
   "execution_count": null,
   "metadata": {},
   "outputs": [
    {
     "name": "stdout",
     "output_type": "stream",
     "text": [
      "[2, 8, 0]\n",
      "\n",
      " 0  .  .  .  .  .  x  x  x \n",
      " 1  .  .  .  .  .  .  x  x \n",
      " 2  .  .  .  .  .  .  .  x \n",
      " 3  .  .  .  .  .  .  .  x \n",
      " 4  .  .  .  .  .  .  .  x \n",
      " 5  .  .  .  .  .  .  .  x \n",
      " 6  .  .  .  .  .  .  .  x \n",
      " 7  .  .  .  .  .  .  .  x \n",
      "    0  1  2  3  4  5  6  7\n"
     ]
    }
   ],
   "source": [
    "board = np.array([\n",
    "    [0, 0, 0, 0, 0,-1,-1,-1],\n",
    "    [0, 0, 0, 0, 0, 0,-1,-1],\n",
    "    [0, 0, 0, 0, 0, 0, 0,-1],\n",
    "    [0, 0, 0, 0, 0, 0, 0,-1],\n",
    "    [0, 0, 0, 0, 0, 0, 0,-1],\n",
    "    [0, 0, 0, 0, 0, 0, 0,-1],\n",
    "    [0, 0, 0, 0, 0, 0, 0,-1],\n",
    "    [0, 0, 0, 0, 0, 0, 0,-1]\n",
    "])\n",
    "\n",
    "board\n",
    "\n",
    "print(get_stable(get_2d_board((get_bin_board(board)[0]))))\n",
    "print()\n",
    "print_board(board)"
   ]
  },
  {
   "cell_type": "code",
   "execution_count": null,
   "metadata": {},
   "outputs": [
    {
     "data": {
      "text/plain": [
       "array([[0, 0, 0, 0, 0, 1, 1, 1],\n",
       "       [0, 0, 0, 0, 0, 0, 0, 0],\n",
       "       [0, 0, 0, 0, 0, 0, 0, 0],\n",
       "       [0, 0, 0, 0, 0, 0, 0, 0],\n",
       "       [0, 0, 0, 0, 0, 0, 0, 0],\n",
       "       [0, 0, 0, 0, 0, 0, 0, 0],\n",
       "       [0, 0, 0, 0, 0, 0, 0, 0],\n",
       "       [0, 0, 0, 0, 0, 0, 0, 0]])"
      ]
     },
     "execution_count": 84,
     "metadata": {},
     "output_type": "execute_result"
    }
   ],
   "source": [
    "diag2full = np.zeros((8, 8), dtype=int)\n",
    "for i in range(15):\n",
    "    diagsum = 0\n",
    "    if i <= 7:\n",
    "        sind1 = i\n",
    "        sind2 = 7\n",
    "        jrange = i + 1\n",
    "    else:\n",
    "        sind1 = 7\n",
    "        sind2 = 14 - i\n",
    "        jrange = 15 - i\n",
    "    for j in range(jrange):\n",
    "        diagsum += abs(board[sind1 - j][sind2 - j])\n",
    "    if diagsum == jrange:\n",
    "        for k in range(jrange):\n",
    "            diag2full[sind1 - j][sind2 - j] = True\n",
    "\n",
    "diag2full"
   ]
  },
  {
   "cell_type": "code",
   "execution_count": null,
   "metadata": {},
   "outputs": [
    {
     "data": {
      "text/plain": [
       "array([[0, 0, 0, 0, 0, 0, 0, 1],\n",
       "       [0, 0, 0, 0, 0, 0, 0, 1],\n",
       "       [0, 0, 0, 0, 0, 0, 0, 1],\n",
       "       [0, 0, 0, 0, 0, 0, 0, 1],\n",
       "       [0, 0, 0, 0, 0, 0, 0, 1],\n",
       "       [0, 0, 0, 0, 0, 0, 0, 1],\n",
       "       [0, 0, 0, 0, 0, 0, 0, 1],\n",
       "       [0, 0, 0, 0, 0, 0, 0, 1]])"
      ]
     },
     "execution_count": 76,
     "metadata": {},
     "output_type": "execute_result"
    }
   ],
   "source": [
    "colfull = np.zeros((8, 8), dtype=int)\n",
    "colfull[:, np.sum(abs(board), axis=0) == 8] = True\n",
    "colfull"
   ]
  },
  {
   "cell_type": "code",
   "execution_count": null,
   "metadata": {},
   "outputs": [
    {
     "data": {
      "text/plain": [
       "array([[0, 0, 0, 0, 0, 0, 0, 0],\n",
       "       [0, 0, 0, 0, 0, 0, 0, 0],\n",
       "       [0, 0, 0, 0, 0, 0, 0, 0],\n",
       "       [0, 0, 0, 0, 0, 0, 0, 0],\n",
       "       [0, 0, 0, 0, 0, 0, 0, 0],\n",
       "       [0, 0, 0, 0, 0, 0, 0, 0],\n",
       "       [0, 0, 0, 0, 0, 0, 0, 0],\n",
       "       [0, 0, 0, 0, 0, 0, 0, 0]])"
      ]
     },
     "execution_count": 6,
     "metadata": {},
     "output_type": "execute_result"
    }
   ],
   "source": [
    "np.zeros((8, 8), dtype=int)"
   ]
  },
  {
   "cell_type": "code",
   "execution_count": null,
   "metadata": {},
   "outputs": [],
   "source": [
    "def get_stable(board):\n",
    "    stable = [0, 0, 0]\n",
    "    # 角, 边, 八个方向都无空格\n",
    "    cind1 = [0, 0, 7, 7]\n",
    "    cind2 = [0, 7, 7, 0]\n",
    "    inc1 = [0, 1, 0, -1]\n",
    "    inc2 = [1, 0, -1, 0]\n",
    "    stop = [0, 0, 0, 0]\n",
    "\n",
    "    for i in range(4):\n",
    "        a = cind1[i], cind2[i]\n",
    "        if board[cind1[i], cind2[i]] == 1:\n",
    "            stop[i] = 1\n",
    "            stable[0] += 1\n",
    "            for j in range(1, 7):\n",
    "                a = cind1[i] + inc1[i] * j, cind2[i] + inc2[i] * j\n",
    "                if board[cind1[i] + inc1[i] * j][cind2[i] + inc2[i] * j] != 1:\n",
    "                    break\n",
    "                else:\n",
    "                    stop[i] = j + 1\n",
    "                    stable[1] += 1\n",
    "    for i in range(4):\n",
    "        a = cind1[i], cind2[i]\n",
    "        if board[cind1[i]][cind2[i]] == 1:\n",
    "            for j in range(1, 7 - stop[i - 1]):\n",
    "                a = cind1[i] + inc1[i] * j, cind2[i] + inc2[i] * j\n",
    "                if board[cind1[i] - inc1[i - 1] * j][cind2[i] - inc2[i - 1] * j] != 1:\n",
    "                    break\n",
    "                else:\n",
    "                    stable[1] += 1\n",
    "    \n",
    "    return stable"
   ]
  },
  {
   "cell_type": "code",
   "execution_count": null,
   "metadata": {},
   "outputs": [
    {
     "data": {
      "text/plain": [
       "[(7, 0),\n",
       " (0, 0),\n",
       " (7, 2),\n",
       " (5, 5),\n",
       " (5, 6),\n",
       " (6, 2),\n",
       " (6, 3),\n",
       " (7, 4),\n",
       " (6, 5),\n",
       " (7, 1)]"
      ]
     },
     "execution_count": 20,
     "metadata": {},
     "output_type": "execute_result"
    }
   ],
   "source": [
    "list(reversed([bin_to_coord(i) for i in sorted_move(legal_moves(*get_bin_board(board, 1)))]))"
   ]
  },
  {
   "cell_type": "code",
   "execution_count": null,
   "metadata": {},
   "outputs": [
    {
     "data": {
      "text/plain": [
       "True"
      ]
     },
     "execution_count": 4,
     "metadata": {},
     "output_type": "execute_result"
    }
   ],
   "source": [
    "None is None"
   ]
  }
 ],
 "metadata": {
  "kernelspec": {
   "display_name": "venv",
   "language": "python",
   "name": "python3"
  },
  "language_info": {
   "codemirror_mode": {
    "name": "ipython",
    "version": 3
   },
   "file_extension": ".py",
   "mimetype": "text/x-python",
   "name": "python",
   "nbconvert_exporter": "python",
   "pygments_lexer": "ipython3",
   "version": "3.8.8"
  },
  "orig_nbformat": 4,
  "vscode": {
   "interpreter": {
    "hash": "98543e311a2feb03afeb53ceb12f8d5e1ab4b4d563bdde469186bd85fe3de841"
   }
  }
 },
 "nbformat": 4,
 "nbformat_minor": 2
}
