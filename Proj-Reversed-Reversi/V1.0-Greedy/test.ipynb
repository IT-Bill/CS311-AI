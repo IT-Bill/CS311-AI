{
 "cells": [
  {
   "cell_type": "code",
   "execution_count": 1,
   "metadata": {},
   "outputs": [],
   "source": [
    "import numpy as np\n",
    "COLOR_BLACK = -1\n",
    "COLOR_WHITH = 1\n",
    "COLOR_NONE = 0"
   ]
  },
  {
   "cell_type": "code",
   "execution_count": 3,
   "metadata": {},
   "outputs": [
    {
     "data": {
      "text/plain": [
       "array([[ 0,  0,  0,  0,  0,  0,  0,  0],\n",
       "       [ 0,  0,  0,  0,  0,  0,  0,  0],\n",
       "       [ 0,  0,  0,  0,  0,  0,  0,  0],\n",
       "       [ 0,  0,  0,  1, -1,  0,  0,  0],\n",
       "       [ 0,  0,  0, -1,  1,  0,  0,  0],\n",
       "       [ 0,  0,  0,  0,  0,  0,  0,  0],\n",
       "       [ 0,  0,  0,  0,  0,  0,  0,  0],\n",
       "       [ 0,  0,  0,  0,  0,  0,  0,  0]])"
      ]
     },
     "execution_count": 3,
     "metadata": {},
     "output_type": "execute_result"
    }
   ],
   "source": [
    "board = np.zeros((8, 8), dtype=int)\n",
    "board[3, 4] = board[4, 3] = COLOR_BLACK\n",
    "board[3, 3] = board[4, 4] = COLOR_WHITH\n",
    "\n",
    "board"
   ]
  },
  {
   "cell_type": "code",
   "execution_count": 3,
   "metadata": {},
   "outputs": [],
   "source": [
    "WEIGHT_MAP = -np.array([[500, -25, 10, 5, 5, 10, -25, 500],\n",
    "     [-25, -45, 1, 1, 1, 1, -45, -25],\n",
    "     [10, 1, 3, 2, 2, 3, 1, 10],\n",
    "     [5, 1, 2, 1, 1, 2, 1, 5],\n",
    "     [5, 1, 2, 1, 1, 2, 1, 5],\n",
    "     [10, 1, 3, 2, 2, 3, 1, 10],\n",
    "     [-25, -45, 1, 1, 1, 1, -45, -25],\n",
    "     [500, -25, 10, 5, 5, 10, -25, 500]])"
   ]
  },
  {
   "cell_type": "code",
   "execution_count": 4,
   "metadata": {},
   "outputs": [
    {
     "data": {
      "text/plain": [
       "[]"
      ]
     },
     "execution_count": 4,
     "metadata": {},
     "output_type": "execute_result"
    }
   ],
   "source": [
    "from main import *\n",
    "\n",
    "\n",
    "ai = AI(8, COLOR_NONE, 5)\n",
    "ai.go(board)\n",
    "\n",
    "ai.candidate_list"
   ]
  },
  {
   "cell_type": "code",
   "execution_count": 5,
   "metadata": {},
   "outputs": [
    {
     "data": {
      "text/plain": [
       "array([[0., 0., 0., 0., 0.],\n",
       "       [0., 0., 1., 0., 0.],\n",
       "       [0., 0., 0., 0., 0.],\n",
       "       [0., 0., 0., 0., 0.]])"
      ]
     },
     "execution_count": 5,
     "metadata": {},
     "output_type": "execute_result"
    }
   ],
   "source": [
    "z = np.zeros((4, 5))\n",
    "z[[1, 1], [2, 2]] = 1\n",
    "z"
   ]
  },
  {
   "cell_type": "code",
   "execution_count": 6,
   "metadata": {},
   "outputs": [
    {
     "data": {
      "text/plain": [
       "2147483648"
      ]
     },
     "execution_count": 6,
     "metadata": {},
     "output_type": "execute_result"
    }
   ],
   "source": [
    "0x80000000"
   ]
  },
  {
   "cell_type": "code",
   "execution_count": 7,
   "metadata": {},
   "outputs": [
    {
     "name": "stdout",
     "output_type": "stream",
     "text": [
      "1 2\n"
     ]
    }
   ],
   "source": [
    "def a(x, y):\n",
    "    print(x, y)\n",
    "\n",
    "a(*(1, 2))"
   ]
  },
  {
   "cell_type": "code",
   "execution_count": 8,
   "metadata": {},
   "outputs": [
    {
     "data": {
      "text/plain": [
       "-2"
      ]
     },
     "execution_count": 8,
     "metadata": {},
     "output_type": "execute_result"
    }
   ],
   "source": [
    "WEIGHT_MAP[board == 1].sum()"
   ]
  },
  {
   "cell_type": "code",
   "execution_count": 53,
   "metadata": {},
   "outputs": [
    {
     "name": "stdout",
     "output_type": "stream",
     "text": [
      "0000 0\n",
      "0000 0\n",
      "0000 0\n",
      "0000 0\n",
      "1200 4608\n",
      "0073 115\n",
      "0600 1536\n",
      "4000 16384\n",
      "4011 16401\n",
      "0000 0\n",
      "c0a8 49320\n",
      "0001 1\n",
      "c0a8 49320\n",
      "0ac7 2759\n",
      "len 20\n",
      "2 24c1\n"
     ]
    },
    {
     "data": {
      "text/plain": [
       "'0xdb3c'"
      ]
     },
     "execution_count": 53,
     "metadata": {},
     "output_type": "execute_result"
    }
   ],
   "source": [
    "a = '4500007300004000401100000000000000000000120000730600400040110000c0a80001c0a80ac7'\n",
    "# a = '450000730000400040110000c0a80001c0a800c71f901f91000a00000123'\n",
    "a = a[24:]\n",
    "\n",
    "sum = 0\n",
    "for i in range(0, len(a), 4):\n",
    "    sum += int(a[i:i+4], 16)\n",
    "    print(a[i:i+4], int(a[i:i+4], 16))\n",
    "\n",
    "\n",
    "\n",
    "sum += 0x11\n",
    "sum += (len(a) - 16) // 2\n",
    "print(\"len\", (len(a) - 16) // 2)\n",
    "\n",
    "\n",
    "sum = '{}'.format(('%#x'%sum)[2:])\n",
    "sum1 = sum[-4:]\n",
    "sum2 = sum[:-4]\n",
    "# sum1, sum2\n",
    "print(sum2, sum1)\n",
    "\n",
    "sum = 0xffff - int(sum1, 16) - int(sum2, 16)\n",
    "sum = '%#x'%sum\n",
    "sum"
   ]
  }
 ],
 "metadata": {
  "kernelspec": {
   "display_name": "venv",
   "language": "python",
   "name": "python3"
  },
  "language_info": {
   "codemirror_mode": {
    "name": "ipython",
    "version": 3
   },
   "file_extension": ".py",
   "mimetype": "text/x-python",
   "name": "python",
   "nbconvert_exporter": "python",
   "pygments_lexer": "ipython3",
   "version": "3.8.8"
  },
  "orig_nbformat": 4
 },
 "nbformat": 4,
 "nbformat_minor": 2
}
