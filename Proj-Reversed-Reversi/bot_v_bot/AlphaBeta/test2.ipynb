{
 "cells": [
  {
   "cell_type": "code",
   "execution_count": 1,
   "metadata": {},
   "outputs": [],
   "source": [
    "from game import select_move_easy\n",
    "import numpy as np"
   ]
  },
  {
   "cell_type": "code",
   "execution_count": 2,
   "metadata": {},
   "outputs": [],
   "source": [
    "def log_to_list():\n",
    "    with open(\"chess_log.txt\", \"r\") as f:\n",
    "        data = f.read()\n",
    "    return eval(data)"
   ]
  },
  {
   "cell_type": "code",
   "execution_count": 3,
   "metadata": {},
   "outputs": [
    {
     "name": "stdout",
     "output_type": "stream",
     "text": [
      "[[ 0  0  0  0  0  0  0  0]\n",
      " [ 0  0  0  0  0  0  0  0]\n",
      " [ 0  0  0  0  0  0  0  0]\n",
      " [ 0  0  0  1 -1  0  0  0]\n",
      " [ 0  0  0 -1  1  0  0  0]\n",
      " [ 0  0  0  0  1  1 -1  0]\n",
      " [ 0  0  0  0  1  0 -1  0]\n",
      " [ 0  0  0  0  0  0 -1  0]]\n",
      "(2, 4) -144\n",
      "(3, 2) -48\n",
      "(3, 5) -48\n",
      "(4, 2) -48\n",
      "(5, 3) -40\n",
      "(5, 7) -48\n",
      "(7, 7) -3792\n"
     ]
    },
    {
     "data": {
      "text/plain": [
       "(5, 3)"
      ]
     },
     "execution_count": 3,
     "metadata": {},
     "output_type": "execute_result"
    }
   ],
   "source": [
    "log = log_to_list()\n",
    "board = np.array(log[5])\n",
    "print(board)\n",
    "\n",
    "select_move_easy(board, 1, 7)"
   ]
  },
  {
   "cell_type": "code",
   "execution_count": 4,
   "metadata": {},
   "outputs": [
    {
     "data": {
      "text/plain": [
       "'0x3c7effffffff7e3c'"
      ]
     },
     "execution_count": 4,
     "metadata": {},
     "output_type": "execute_result"
    }
   ],
   "source": [
    "from numpy import uint64 as u64\n",
    "import numpy as np\n",
    "mask_all = u64(0xffff_ffff_ffff_ffff)\n",
    "\n",
    "mask_corner = u64(0x8100_0000_0000_0081)  # 角\n",
    "mask_star = u64(0x4281_0000_0000_8142)  # 角旁边的两个位置\n",
    "mask_inner = mask_all ^ (mask_corner | mask_star)  # 其他位置\n",
    "hex(mask_inner)"
   ]
  },
  {
   "cell_type": "code",
   "execution_count": 5,
   "metadata": {},
   "outputs": [
    {
     "data": {
      "text/plain": [
       "array([[ 1,  1,  1,  1,  1,  1,  1,  1],\n",
       "       [-1, -1, -1, -1, -1, -1, -1, -1],\n",
       "       [-1, -1, -1, -1, -1, -1, -1, -1],\n",
       "       [-1, -1, -1, -1, -1, -1, -1, -1],\n",
       "       [-1, -1, -1, -1, -1, -1, -1, -1],\n",
       "       [-1, -1, -1, -1, -1, -1, -1, -1],\n",
       "       [ 1, -1, -1, -1, -1, -1, -1, -1],\n",
       "       [ 0, -1, -1, -1, -1, -1, -1, -1]])"
      ]
     },
     "execution_count": 5,
     "metadata": {},
     "output_type": "execute_result"
    }
   ],
   "source": [
    "board = np.full((8, 8), -1)\n",
    "board[0, 0] = board[6, 0] = board[0, :] = 1\n",
    "board[7, 0] = 0\n",
    "\n",
    "board"
   ]
  },
  {
   "cell_type": "code",
   "execution_count": 6,
   "metadata": {},
   "outputs": [
    {
     "data": {
      "text/plain": [
       "(7, 0)"
      ]
     },
     "execution_count": 6,
     "metadata": {},
     "output_type": "execute_result"
    }
   ],
   "source": [
    "select_move_easy(board, -1, max_depth=6)"
   ]
  },
  {
   "cell_type": "code",
   "execution_count": 7,
   "metadata": {},
   "outputs": [
    {
     "data": {
      "text/plain": [
       "array([[ 0,  0,  0,  0,  0,  0,  0,  0],\n",
       "       [ 0, -1,  0,  0,  0,  0,  0,  0],\n",
       "       [ 0,  1, -1, -1, -1, -1,  0,  0],\n",
       "       [ 1,  1,  1, -1, -1, -1,  0,  0],\n",
       "       [ 1,  1, -1,  1, -1, -1,  0,  0],\n",
       "       [ 1,  1,  1, -1,  1, -1,  0,  0],\n",
       "       [-1, -1, -1, -1, -1, -1, -1,  0],\n",
       "       [ 0, -1, -1,  0,  0, -1,  1,  0]])"
      ]
     },
     "execution_count": 7,
     "metadata": {},
     "output_type": "execute_result"
    }
   ],
   "source": [
    "board =np.array([[0, 0, 0, 0, 0, 0, 0, 0],\n",
    "       [0, -1, 0, 0, 0, 0, 0, 0],\n",
    "       [0, 1, -1, -1, -1, -1, 0, 0],\n",
    "       [1, 1, 1, -1, -1, -1, 0, 0],\n",
    "       [1, 1, -1, 1, -1, -1, 0, 0],\n",
    "       [1, 1, 1, -1, 1, -1, 0, 0],\n",
    "       [-1, -1, -1, -1, -1, -1, -1, 0],\n",
    "       [0, -1, -1, 0, 0, -1, 1, 0]])\n",
    "\n",
    "board"
   ]
  },
  {
   "cell_type": "code",
   "execution_count": 19,
   "metadata": {},
   "outputs": [
    {
     "name": "stdout",
     "output_type": "stream",
     "text": [
      "(0, 1) 424\n",
      "(1, 2) 320\n",
      "(1, 3) 304\n",
      "(1, 4) 288\n",
      "(1, 5) 288\n",
      "(1, 6) 200\n",
      "(2, 6) 224\n",
      "(3, 6) 240\n",
      "(4, 6) 304\n",
      "(5, 6) 8\n",
      "(7, 3) 544\n",
      "(7, 4) 264\n",
      "(7, 0) 4640\n"
     ]
    },
    {
     "data": {
      "text/plain": [
       "(7, 0)"
      ]
     },
     "execution_count": 19,
     "metadata": {},
     "output_type": "execute_result"
    }
   ],
   "source": [
    "select_move_easy(board, 1, 6)"
   ]
  },
  {
   "cell_type": "code",
   "execution_count": 9,
   "metadata": {},
   "outputs": [
    {
     "data": {
      "text/plain": [
       "1048576"
      ]
     },
     "execution_count": 9,
     "metadata": {},
     "output_type": "execute_result"
    }
   ],
   "source": [
    "(u64(1) - u64(0)) << u64(20)"
   ]
  }
 ],
 "metadata": {
  "kernelspec": {
   "display_name": "venv",
   "language": "python",
   "name": "python3"
  },
  "language_info": {
   "codemirror_mode": {
    "name": "ipython",
    "version": 3
   },
   "file_extension": ".py",
   "mimetype": "text/x-python",
   "name": "python",
   "nbconvert_exporter": "python",
   "pygments_lexer": "ipython3",
   "version": "3.10.9"
  },
  "orig_nbformat": 4
 },
 "nbformat": 4,
 "nbformat_minor": 2
}
