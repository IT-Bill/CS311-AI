{
 "cells": [
  {
   "cell_type": "code",
   "execution_count": 1,
   "metadata": {},
   "outputs": [],
   "source": [
    "import numpy as np\n",
    "from numpy import uint64 as u64\n",
    "from game import *\n",
    "\n",
    "# board = np.array([[ 0,  0,  0,  0,  0,  0,  0,  0],\n",
    "#                   [ 0,  0,  0,  0, -1,  0,  0,  0],\n",
    "#                   [ 0,  0,  0, -1, -1,  0,  0,  0],\n",
    "#                   [ 0,  0, -1, -1, -1, -1,  0,  0],\n",
    "#                   [ 0,  0,  1,  1,  1,  1, -1,  0],\n",
    "#                   [ 0,  0,  0,  0,  1, -1,  0, -1],\n",
    "#                   [ 0,  0,  0,  0,  0,  0,  0,  0],\n",
    "#                   [ 0,  0,  0,  0,  0,  0,  0,  0]])\n",
    "\n",
    "\n",
    "# INIT_BOARD = np.array([[0,  0,  0,  0,  0,  0,  0,  0],\n",
    "#                       [0,  0,  0,  0,  0,  0,  0,  0],\n",
    "#                       [0,  0,  0,  0,  0,  0,  0,  0],\n",
    "#                       [0,  0,  0,  -1, 1,  0,  0,  0],\n",
    "#                       [0,  0,  0, 1,  -1,  0,  0,  0],\n",
    "#                       [0,  0,  0,  0,  0,  0,  0,  0],\n",
    "#                       [0,  0,  0,  0,  0,  0,  0,  0],\n",
    "#                       [0,  0,  0,  0,  0,  0,  0,  0]])\n"
   ]
  },
  {
   "cell_type": "code",
   "execution_count": 2,
   "metadata": {},
   "outputs": [],
   "source": [
    "dir = \"../../chess-log/board_txt/\"\n",
    "def log_to_list():\n",
    "    with open(dir + \"奇怪占角.txt\", \"r\") as f:\n",
    "        data = f.read()\n",
    "    return np.array(eval(data))"
   ]
  },
  {
   "cell_type": "code",
   "execution_count": 3,
   "metadata": {},
   "outputs": [
    {
     "data": {
      "text/plain": [
       "array([[ 0,  1,  1,  1,  1,  1,  1,  0],\n",
       "       [-1, -1,  1, -1, -1, -1, -1, -1],\n",
       "       [-1,  1, -1, -1, -1, -1, -1, -1],\n",
       "       [ 1,  1,  1, -1, -1, -1, -1, -1],\n",
       "       [ 0,  1,  1,  1, -1, -1,  0, -1],\n",
       "       [ 0,  0,  1,  1,  1, -1,  0, -1],\n",
       "       [ 0,  0,  0,  1,  1,  1,  0,  0],\n",
       "       [ 0,  0,  0,  0,  0,  0,  1,  0]])"
      ]
     },
     "execution_count": 3,
     "metadata": {},
     "output_type": "execute_result"
    }
   ],
   "source": [
    "log = log_to_list()\n",
    "board = log[40]\n",
    "\n",
    "board"
   ]
  },
  {
   "cell_type": "code",
   "execution_count": 4,
   "metadata": {},
   "outputs": [
    {
     "name": "stdout",
     "output_type": "stream",
     "text": [
      "(5, 6) -1024\n",
      "(4, 6) -712\n",
      "(0, 0) -560\n",
      "(0, 7) -534\n",
      "max_depth: 5\n",
      "Try time: 0.09190600000147242\n",
      "search again\n",
      "\n",
      "(5, 6) -1056\n",
      "(4, 6) -752\n",
      "(0, 0) -672\n",
      "(0, 7) -634\n",
      "----------- 7\n"
     ]
    },
    {
     "data": {
      "text/plain": [
       "(0, 7)"
      ]
     },
     "execution_count": 4,
     "metadata": {},
     "output_type": "execute_result"
    }
   ],
   "source": [
    "select_move_easy(board, 1)"
   ]
  },
  {
   "cell_type": "code",
   "execution_count": 6,
   "metadata": {},
   "outputs": [
    {
     "name": "stdout",
     "output_type": "stream",
     "text": [
      "[[0 1 1 1 1 1 1 0]\n",
      " [0 0 0 0 0 0 0 0]\n",
      " [0 0 0 0 0 0 0 0]\n",
      " [0 0 0 0 0 0 0 0]\n",
      " [0 0 0 0 0 0 0 0]\n",
      " [0 0 0 0 0 0 0 0]\n",
      " [0 0 0 0 0 0 0 0]\n",
      " [0 0 0 0 0 0 0 0]]\n",
      "[[0 0 0 0 0 0 0 0]\n",
      " [0 0 0 0 0 0 0 0]\n",
      " [0 0 0 0 0 0 0 0]\n",
      " [0 0 0 0 0 0 0 0]\n",
      " [0 0 0 0 0 0 0 0]\n",
      " [0 0 0 0 0 0 0 0]\n",
      " [0 0 0 0 0 0 0 0]\n",
      " [0 1 1 1 1 1 1 0]]\n",
      "[[0 0 0 0 0 0 0 0]\n",
      " [1 0 0 0 0 0 0 0]\n",
      " [1 0 0 0 0 0 0 0]\n",
      " [1 0 0 0 0 0 0 0]\n",
      " [1 0 0 0 0 0 0 0]\n",
      " [1 0 0 0 0 0 0 0]\n",
      " [1 0 0 0 0 0 0 0]\n",
      " [0 0 0 0 0 0 0 0]]\n",
      "[[0 0 0 0 0 0 0 0]\n",
      " [0 0 0 0 0 0 0 1]\n",
      " [0 0 0 0 0 0 0 1]\n",
      " [0 0 0 0 0 0 0 1]\n",
      " [0 0 0 0 0 0 0 1]\n",
      " [0 0 0 0 0 0 0 1]\n",
      " [0 0 0 0 0 0 0 1]\n",
      " [0 0 0 0 0 0 0 0]]\n"
     ]
    }
   ],
   "source": [
    "mask_corner_parts = (\n",
    "    u64(0xf0f0_f0f0_0000_0000),  # 左上\n",
    "    u64(0x0f0f_0f0f_0000_0000),  # 右上\n",
    "    u64(0x0000_0000_f0f0_f0f0),  # 左下\n",
    "    u64(0x0000_0000_0f0f_0f0f),  # 右下\n",
    ")\n",
    "\n",
    "mask_udlr_lines = (\n",
    "    u64(0x7e00_0000_0000_0000), # up\n",
    "    u64(0x0000_0000_0000_007e), # down\n",
    "    u64(0x0080_8080_8080_8000), # left\n",
    "    u64(0x0001_0101_0101_0100), # down\n",
    ")\n",
    "\n",
    "for mask in mask_udlr_lines:\n",
    "    print(get_2d_board(mask))"
   ]
  }
 ],
 "metadata": {
  "kernelspec": {
   "display_name": "venv",
   "language": "python",
   "name": "python3"
  },
  "language_info": {
   "codemirror_mode": {
    "name": "ipython",
    "version": 3
   },
   "file_extension": ".py",
   "mimetype": "text/x-python",
   "name": "python",
   "nbconvert_exporter": "python",
   "pygments_lexer": "ipython3",
   "version": "3.10.9"
  },
  "orig_nbformat": 4
 },
 "nbformat": 4,
 "nbformat_minor": 2
}
