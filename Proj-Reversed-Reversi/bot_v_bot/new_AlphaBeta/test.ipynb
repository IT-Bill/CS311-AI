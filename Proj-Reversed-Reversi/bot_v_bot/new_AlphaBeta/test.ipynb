{
 "cells": [
  {
   "cell_type": "code",
   "execution_count": 1,
   "metadata": {},
   "outputs": [],
   "source": [
    "import numpy as np\n",
    "from numpy import uint64 as u\n",
    "\n",
    "board = np.array([[ 0,  0,  0,  0,  0,  0,  0,  0],\n",
    "                  [ 0,  0,  0,  0, -1,  0,  0,  0],\n",
    "                  [ 0,  0,  0, -1, -1,  0,  0,  0],\n",
    "                  [ 0,  0, -1, -1, -1, -1,  0,  0],\n",
    "                  [ 0,  0,  1,  1,  1,  1, -1,  0],\n",
    "                  [ 0,  0,  0,  0,  1, -1,  0, -1],\n",
    "                  [ 0,  0,  0,  0,  0,  0,  0,  0],\n",
    "                  [ 0,  0,  0,  0,  0,  0,  0,  0]])\n",
    "\n",
    "\n",
    "INIT_BOARD = np.array([[0,  0,  0,  0,  0,  0,  0,  0],\n",
    "                      [0,  0,  0,  0,  0,  0,  0,  0],\n",
    "                      [0,  0,  0,  0,  0,  0,  0,  0],\n",
    "                      [0,  0,  0,  -1, 1,  0,  0,  0],\n",
    "                      [0,  0,  0, 1,  -1,  0,  0,  0],\n",
    "                      [0,  0,  0,  0,  0,  0,  0,  0],\n",
    "                      [0,  0,  0,  0,  0,  0,  0,  0],\n",
    "                      [0,  0,  0,  0,  0,  0,  0,  0]])\n",
    "board = INIT_BOARD\n",
    "# board = np.array([\n",
    "#     [0, 0, 0, 0],\n",
    "#     [0, -1,1, 0],\n",
    "#     [0, 1, -1, 0],\n",
    "#     [0, 0, 0, 0]\n",
    "# ])\n"
   ]
  },
  {
   "cell_type": "code",
   "execution_count": 2,
   "metadata": {},
   "outputs": [
    {
     "data": {
      "text/plain": [
       "(68853694464, 34628173824)"
      ]
     },
     "execution_count": 2,
     "metadata": {},
     "output_type": "execute_result"
    }
   ],
   "source": [
    "# 将棋盘转换成二进制\n",
    "s = list('0' * 64)\n",
    "for p in np.argwhere(board == -1):\n",
    "    s[p[0] * 8 + p[1]] = '1'\n",
    "black_bin_board = np.uint64(int(''.join(s), 2))\n",
    "\n",
    "s = list('0' * 64)\n",
    "for p in np.argwhere(board == 1):\n",
    "    s[p[0] * 8 + p[1]] = '1'\n",
    "white_bin_board = np.uint64(int(''.join(s), 2))\n",
    "bin_board = (black_bin_board, white_bin_board)\n",
    "bin_board"
   ]
  },
  {
   "cell_type": "code",
   "execution_count": 3,
   "metadata": {},
   "outputs": [
    {
     "name": "stdout",
     "output_type": "stream",
     "text": [
      "0\n"
     ]
    },
    {
     "data": {
      "text/plain": [
       "'0000000000000000000000000000000000000000000000000000000000000000'"
      ]
     },
     "execution_count": 3,
     "metadata": {},
     "output_type": "execute_result"
    }
   ],
   "source": [
    "my_board, opposite_board = bin_board\n",
    "tmp = (my_board << u(8)) & opposite_board\n",
    "tmp = (tmp << u(8)) & opposite_board | tmp\n",
    "tmp = (tmp << u(16)) & opposite_board | tmp\n",
    "tmp = (tmp << u(16)) & opposite_board | tmp\n",
    "\n",
    "point = tmp << u(8)\n",
    "point = point & (my_board | opposite_board)\n",
    "point\n",
    "\n",
    "print(point)\n",
    "'{:064b}'.format(point)"
   ]
  },
  {
   "cell_type": "code",
   "execution_count": 4,
   "metadata": {},
   "outputs": [
    {
     "data": {
      "text/plain": [
       "dtype('uint64')"
      ]
     },
     "execution_count": 4,
     "metadata": {},
     "output_type": "execute_result"
    }
   ],
   "source": [
    "def change(a):\n",
    "    a = u(10)\n",
    "\n",
    "\n",
    "\n",
    "b = u(20)\n",
    "change(b)\n",
    "\n",
    "b.dtype\n",
    "\n"
   ]
  },
  {
   "cell_type": "code",
   "execution_count": 5,
   "metadata": {},
   "outputs": [
    {
     "ename": "ImportError",
     "evalue": "cannot import name 'Game' from 'game' (t:\\CS311-AI\\Proj-Reversed-Reversi\\bot_v_bot\\new_AlphaBeta\\game.py)",
     "output_type": "error",
     "traceback": [
      "\u001b[1;31m---------------------------------------------------------------------------\u001b[0m",
      "\u001b[1;31mImportError\u001b[0m                               Traceback (most recent call last)",
      "Cell \u001b[1;32mIn[5], line 1\u001b[0m\n\u001b[1;32m----> 1\u001b[0m \u001b[39mfrom\u001b[39;00m \u001b[39mgame\u001b[39;00m \u001b[39mimport\u001b[39;00m Game\n\u001b[0;32m      2\u001b[0m \u001b[39mimport\u001b[39;00m \u001b[39mnumpy\u001b[39;00m \u001b[39mas\u001b[39;00m \u001b[39mnp\u001b[39;00m\n\u001b[0;32m      4\u001b[0m INIT_BOARD \u001b[39m=\u001b[39m np\u001b[39m.\u001b[39marray([[\u001b[39m0\u001b[39m,  \u001b[39m0\u001b[39m,  \u001b[39m0\u001b[39m,  \u001b[39m0\u001b[39m,  \u001b[39m0\u001b[39m,  \u001b[39m0\u001b[39m,  \u001b[39m0\u001b[39m,  \u001b[39m0\u001b[39m],\n\u001b[0;32m      5\u001b[0m                       [\u001b[39m0\u001b[39m,  \u001b[39m0\u001b[39m,  \u001b[39m0\u001b[39m,  \u001b[39m0\u001b[39m,  \u001b[39m0\u001b[39m,  \u001b[39m0\u001b[39m,  \u001b[39m0\u001b[39m,  \u001b[39m0\u001b[39m],\n\u001b[0;32m      6\u001b[0m                       [\u001b[39m0\u001b[39m,  \u001b[39m0\u001b[39m,  \u001b[39m0\u001b[39m,  \u001b[39m0\u001b[39m,  \u001b[39m0\u001b[39m,  \u001b[39m0\u001b[39m,  \u001b[39m0\u001b[39m,  \u001b[39m0\u001b[39m],\n\u001b[1;32m   (...)\u001b[0m\n\u001b[0;32m     10\u001b[0m                       [\u001b[39m0\u001b[39m,  \u001b[39m0\u001b[39m,  \u001b[39m0\u001b[39m,  \u001b[39m0\u001b[39m,  \u001b[39m0\u001b[39m,  \u001b[39m0\u001b[39m,  \u001b[39m0\u001b[39m,  \u001b[39m0\u001b[39m],\n\u001b[0;32m     11\u001b[0m                       [\u001b[39m0\u001b[39m,  \u001b[39m0\u001b[39m,  \u001b[39m0\u001b[39m,  \u001b[39m0\u001b[39m,  \u001b[39m0\u001b[39m,  \u001b[39m0\u001b[39m,  \u001b[39m0\u001b[39m,  \u001b[39m0\u001b[39m]])\n",
      "\u001b[1;31mImportError\u001b[0m: cannot import name 'Game' from 'game' (t:\\CS311-AI\\Proj-Reversed-Reversi\\bot_v_bot\\new_AlphaBeta\\game.py)"
     ]
    }
   ],
   "source": [
    "from game import Game\n",
    "import numpy as np\n",
    "\n",
    "INIT_BOARD = np.array([[0,  0,  0,  0,  0,  0,  0,  0],\n",
    "                      [0,  0,  0,  0,  0,  0,  0,  0],\n",
    "                      [0,  0,  0,  0,  0,  0,  0,  0],\n",
    "                      [0,  0,  0,  -1, 1,  0,  0,  0],\n",
    "                      [0,  0,  0, 1,  -1,  0,  0,  0],\n",
    "                      [0,  0,  0,  0,  0,  0,  0,  0],\n",
    "                      [0,  0,  0,  0,  0,  0,  0,  0],\n",
    "                      [0,  0,  0,  0,  0,  0,  0,  0]])\n",
    "\n",
    "game = Game(INIT_BOARD)\n",
    "\n",
    "# moves = game.get_legal_moves(-1)\n",
    "# print(bin(moves))\n",
    "\n",
    "for i in range(100000):\n",
    "    game.get_legal_moves(1)"
   ]
  },
  {
   "cell_type": "code",
   "execution_count": null,
   "metadata": {},
   "outputs": [],
   "source": [
    "board = INIT_BOARD\n",
    "\n",
    "\n",
    "for i in range(100000):\n",
    "    s = list('0' * 64)\n",
    "    for p in np.argwhere(board == -1):\n",
    "        s[p[0] * 8 + p[1]] = '1'\n",
    "    black_bin_board = np.uint64(int(''.join(s), 2))\n",
    "    # board[board != 1] = 0\n",
    "    # board = board.reshape((64, ))\n",
    "    # int(''.join([str(s) for s in board.tolist()]), 2)\n",
    "\n",
    "    # int(''.join(list(map(lambda s: str(s), board.tolist()))), 2)\n",
    "# str(board)"
   ]
  },
  {
   "cell_type": "code",
   "execution_count": null,
   "metadata": {},
   "outputs": [],
   "source": [
    "\n",
    "\n",
    "\n",
    "for t in range(100000):\n",
    "    [i for i, j in enumerate(\"{:064b}\".format(68853694464)) if j == '1']\n",
    "    # print(a)"
   ]
  },
  {
   "cell_type": "code",
   "execution_count": null,
   "metadata": {},
   "outputs": [
    {
     "data": {
      "text/plain": [
       "(2278445824671744, 1007157248)"
      ]
     },
     "execution_count": 1,
     "metadata": {},
     "output_type": "execute_result"
    }
   ],
   "source": [
    "import numpy as np\n",
    "board = np.array([[ 0,  0,  0,  0,  0,  0,  0,  0],\n",
    "                  [ 0,  0,  0,  0, -1,  0,  0,  0],\n",
    "                  [ 0,  0,  0, -1, -1,  0,  0,  0],\n",
    "                  [ 0,  0, -1, -1, -1, -1,  0,  0],\n",
    "                  [ 0,  0,  1,  1,  1,  1, -1,  0],\n",
    "                  [ 0,  0,  0,  0,  1, -1,  0, -1],\n",
    "                  [ 0,  0,  0,  0,  0,  0,  0,  0],\n",
    "                  [ 0,  0,  0,  0,  0,  0,  0,  0]])\n",
    "\n",
    "from game import *\n",
    "black_board, white_board = get_bin_board(board)\n",
    "black_board, white_board"
   ]
  },
  {
   "cell_type": "code",
   "execution_count": null,
   "metadata": {},
   "outputs": [
    {
     "name": "stdout",
     "output_type": "stream",
     "text": [
      "[[0 0 0 0 0 0 0 0]\n",
      " [0 0 0 0 0 0 0 0]\n",
      " [0 0 0 0 0 0 0 0]\n",
      " [0 0 0 0 0 0 0 0]\n",
      " [0 1 0 0 0 0 0 0]\n",
      " [0 1 1 1 0 0 1 0]\n",
      " [0 0 0 0 1 1 0 0]\n",
      " [0 0 0 0 0 0 0 0]]\n"
     ]
    }
   ],
   "source": [
    "moves = legal_moves(black_board, white_board)\n",
    "print_2d_board(moves)"
   ]
  },
  {
   "cell_type": "code",
   "execution_count": null,
   "metadata": {},
   "outputs": [
    {
     "data": {
      "text/plain": [
       "12"
      ]
     },
     "execution_count": 3,
     "metadata": {},
     "output_type": "execute_result"
    }
   ],
   "source": [
    "select_move(black_board, white_board)"
   ]
  },
  {
   "cell_type": "code",
   "execution_count": null,
   "metadata": {},
   "outputs": [
    {
     "name": "stdout",
     "output_type": "stream",
     "text": [
      "100000000\n"
     ]
    }
   ],
   "source": [
    "def loop():\n",
    "    a = 0\n",
    "    for i in range(100000000):\n",
    "        a += 1\n",
    "    print(a)\n",
    "\n",
    "loop()\n",
    "\n"
   ]
  },
  {
   "cell_type": "code",
   "execution_count": null,
   "metadata": {},
   "outputs": [
    {
     "name": "stdout",
     "output_type": "stream",
     "text": [
      "100000000\n"
     ]
    }
   ],
   "source": [
    "a = 0\n",
    "def loop2():\n",
    "    global a\n",
    "    for i in range(100000000):\n",
    "        a += 1\n",
    "    print(a)\n",
    "\n",
    "loop2()"
   ]
  },
  {
   "cell_type": "code",
   "execution_count": null,
   "metadata": {},
   "outputs": [],
   "source": [
    "def log_to_list():\n",
    "    with open(\"chess_log.txt\", \"r\") as f:\n",
    "        data = f.read()\n",
    "    return eval(data)"
   ]
  },
  {
   "cell_type": "code",
   "execution_count": null,
   "metadata": {},
   "outputs": [
    {
     "data": {
      "text/plain": [
       "[[0, 0, 0, 0, 0, 0, 0, 0],\n",
       " [0, 0, 0, 0, 0, 0, 0, 0],\n",
       " [0, 0, 0, 0, 0, 0, 0, 0],\n",
       " [0, 0, 0, 1, -1, 0, 0, 0],\n",
       " [0, 0, 0, -1, 1, 0, 0, 0],\n",
       " [0, 0, 0, 0, 1, 1, -1, 0],\n",
       " [0, 0, 0, 0, 1, 0, -1, 0],\n",
       " [0, 0, 0, 0, 0, 0, -1, 0]]"
      ]
     },
     "execution_count": 31,
     "metadata": {},
     "output_type": "execute_result"
    }
   ],
   "source": [
    "\n",
    "\n",
    "log = log_to_list()\n",
    "board = log[5]\n",
    "\n"
   ]
  },
  {
   "cell_type": "code",
   "execution_count": null,
   "metadata": {},
   "outputs": [],
   "source": [
    "STONE_TO_CHAR = {\n",
    "    0: ' . ',\n",
    "    -1: ' x ',\n",
    "    1: ' o ',\n",
    "}\n",
    "\n",
    "def print_board_2(board):\n",
    "    for row in range(8):\n",
    "        print(\"%2s %s\" % (row, ''.join([STONE_TO_CHAR[board[row, col]] for col in range(8)])))\n",
    "    print(\"    \" + \"  \".join(str(e) for e in range(8)))\n"
   ]
  },
  {
   "cell_type": "code",
   "execution_count": null,
   "metadata": {},
   "outputs": [
    {
     "name": "stdout",
     "output_type": "stream",
     "text": [
      " 0  .  .  .  .  .  .  .  . \n",
      " 1  .  .  .  .  x  .  .  . \n",
      " 2  .  .  .  x  x  .  .  . \n",
      " 3  .  .  x  x  x  x  .  . \n",
      " 4  .  .  o  o  o  o  x  . \n",
      " 5  .  .  .  .  o  x  .  x \n",
      " 6  .  .  .  .  .  .  .  . \n",
      " 7  .  .  .  .  .  .  .  . \n",
      "    0  1  2  3  4  5  6  7\n"
     ]
    }
   ],
   "source": [
    "import numpy as np\n",
    "board = np.array([[ 0,  0,  0,  0,  0,  0,  0,  0],\n",
    "                  [ 0,  0,  0,  0, -1,  0,  0,  0],\n",
    "                  [ 0,  0,  0, -1, -1,  0,  0,  0],\n",
    "                  [ 0,  0, -1, -1, -1, -1,  0,  0],\n",
    "                  [ 0,  0,  1,  1,  1,  1, -1,  0],\n",
    "                  [ 0,  0,  0,  0,  1, -1,  0, -1],\n",
    "                  [ 0,  0,  0,  0,  0,  0,  0,  0],\n",
    "                  [ 0,  0,  0,  0,  0,  0,  0,  0]])\n",
    "\n",
    "print_board_2(board)"
   ]
  }
 ],
 "metadata": {
  "kernelspec": {
   "display_name": "venv",
   "language": "python",
   "name": "python3"
  },
  "language_info": {
   "codemirror_mode": {
    "name": "ipython",
    "version": 3
   },
   "file_extension": ".py",
   "mimetype": "text/x-python",
   "name": "python",
   "nbconvert_exporter": "python",
   "pygments_lexer": "ipython3",
   "version": "3.8.8"
  },
  "orig_nbformat": 4
 },
 "nbformat": 4,
 "nbformat_minor": 2
}
