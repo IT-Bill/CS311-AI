{
 "cells": [
  {
   "cell_type": "code",
   "execution_count": 24,
   "metadata": {},
   "outputs": [],
   "source": [
    "from game import *\n",
    "import numpy as np\n",
    "def print_board(board):\n",
    "    STONE_TO_CHAR = {\n",
    "        0: ' . ',\n",
    "        -1: ' x ',\n",
    "        1: ' o ',\n",
    "    }\n",
    "    for row in range(8):\n",
    "        print(\"%2s %s\" % (row, ''.join(\n",
    "            [STONE_TO_CHAR[board[row, col]] for col in range(8)])))\n",
    "    print(\"    \" + \"  \".join(str(e) for e in range(8)))"
   ]
  },
  {
   "cell_type": "code",
   "execution_count": 25,
   "metadata": {},
   "outputs": [],
   "source": [
    "import numpy as np\n",
    "\n",
    "def get_stable(board, color):\n",
    "    stable = [0, 0, 0]\n",
    "    # 角, 边, 八个方向都无空格\n",
    "    cind1 = [0, 0, 7, 7]\n",
    "    cind2 = [0, 7, 7, 0]\n",
    "    inc1 = [0, 1, 0, -1]\n",
    "    inc2 = [1, 0, -1, 0]\n",
    "    stop = [0, 0, 0, 0]\n",
    "    for i in range(4):\n",
    "        if board[cind1[i]][cind2[i]] == color:\n",
    "            stop[i] = 1\n",
    "            stable[0] += 1\n",
    "            for j in range(1, 7):\n",
    "                if board[cind1[i] + inc1[i] * j][cind2[i] + inc2[i] * j] != color:\n",
    "                    break\n",
    "                else:\n",
    "                    stop[i] = j + 1\n",
    "                    stable[1] += 1\n",
    "    for i in range(4):\n",
    "        if board[cind1[i]][cind2[i]] == color:\n",
    "            for j in range(1, 7 - stop[i - 1]):\n",
    "                if board[cind1[i] - inc1[i - 1] * j][cind2[i] - inc2[i - 1] * j] != color:\n",
    "                    break\n",
    "                else:\n",
    "                    stable[1] += 1\n",
    "    colfull = np.zeros((8, 8), dtype=int)\n",
    "    colfull[:, np.sum(abs(board), axis=0) == 8] = True\n",
    "    rowfull = np.zeros((8, 8), dtype=int)\n",
    "    rowfull[np.sum(abs(board), axis=1) == 8, :] = True\n",
    "    diag1full = np.zeros((8, 8), dtype=int)\n",
    "    for i in range(15):\n",
    "        diagsum = 0\n",
    "        if i <= 7:\n",
    "            sind1 = i\n",
    "            sind2 = 0\n",
    "            jrange = i + 1\n",
    "        else:\n",
    "            sind1 = 7\n",
    "            sind2 = i - 7\n",
    "            jrange = 15 - i\n",
    "        for j in range(jrange):\n",
    "            diagsum += abs(board[sind1 - j][sind2 + j])\n",
    "        if diagsum == jrange:\n",
    "            for k in range(jrange):\n",
    "                diag1full[sind1 - j][sind2 + j] = True\n",
    "    diag2full = np.zeros((8, 8), dtype=int)\n",
    "    for i in range(15):\n",
    "        diagsum = 0\n",
    "        if i <= 7:\n",
    "            sind1 = i\n",
    "            sind2 = 7\n",
    "            jrange = i + 1\n",
    "        else:\n",
    "            sind1 = 7\n",
    "            sind2 = 14 - i\n",
    "            jrange = 15 - i\n",
    "        for j in range(jrange):\n",
    "            diagsum += abs(board[sind1 - j][sind2 - j])\n",
    "        if diagsum == jrange:\n",
    "            for k in range(jrange):\n",
    "                diag2full[sind1 - j][sind2 - j] = True\n",
    "    stable[2] = sum(\n",
    "        sum(np.logical_and(np.logical_and(np.logical_and(colfull, rowfull), diag1full), diag2full)))\n",
    "    return stable"
   ]
  },
  {
   "cell_type": "code",
   "execution_count": 43,
   "metadata": {},
   "outputs": [
    {
     "name": "stdout",
     "output_type": "stream",
     "text": [
      " 0  x  o  o  o  o  o  o  x \n",
      " 1  x  o  o  o  o  o  x  x \n",
      " 2  x  o  x  o  o  x  o  x \n",
      " 3  o  o  o  x  x  o  o  x \n",
      " 4  o  o  o  x  x  o  o  x \n",
      " 5  o  o  x  o  o  x  o  x \n",
      " 6  o  x  o  o  o  o  x  x \n",
      " 7  x  x  x  x  x  x  x  x \n",
      "    0  1  2  3  4  5  6  7\n"
     ]
    }
   ],
   "source": [
    "def log_to_list():\n",
    "    dir = \"../../chess-log/chess_log_4dig_lose2.txt\"\n",
    "    with open(dir, \"r\") as f:\n",
    "        data = f.read()\n",
    "    return np.array(eval(data))\n",
    "\n",
    "board = log_to_list()[59]\n",
    "print_board(board)\n",
    "\n",
    "for i in range(10000):\n",
    "    get_stable(board, 1)"
   ]
  }
 ],
 "metadata": {
  "kernelspec": {
   "display_name": "venv",
   "language": "python",
   "name": "python3"
  },
  "language_info": {
   "codemirror_mode": {
    "name": "ipython",
    "version": 3
   },
   "file_extension": ".py",
   "mimetype": "text/x-python",
   "name": "python",
   "nbconvert_exporter": "python",
   "pygments_lexer": "ipython3",
   "version": "3.8.8"
  },
  "orig_nbformat": 4
 },
 "nbformat": 4,
 "nbformat_minor": 2
}
