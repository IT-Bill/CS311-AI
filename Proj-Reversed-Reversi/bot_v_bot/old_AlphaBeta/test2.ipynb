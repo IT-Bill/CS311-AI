{
 "cells": [
  {
   "cell_type": "code",
   "execution_count": 1,
   "metadata": {},
   "outputs": [],
   "source": [
    "from game import select_move_easy, get_bin_board, popcount\n",
    "import numpy as np"
   ]
  },
  {
   "cell_type": "code",
   "execution_count": 2,
   "metadata": {},
   "outputs": [],
   "source": [
    "def log_to_list():\n",
    "    with open(\"chess_log.txt\", \"r\") as f:\n",
    "        data = f.read()\n",
    "    return eval(data)"
   ]
  },
  {
   "cell_type": "code",
   "execution_count": 3,
   "metadata": {},
   "outputs": [
    {
     "name": "stdout",
     "output_type": "stream",
     "text": [
      "[[ 0  0  0  0  0  0  0  0]\n",
      " [ 0  0  0  0  0  0  0  0]\n",
      " [ 0  0  0  0  0  0  0  0]\n",
      " [ 0  0  0  1 -1  0  0  0]\n",
      " [ 0  0  0 -1  1  0  0  0]\n",
      " [ 0  0  0  0  1  1 -1  0]\n",
      " [ 0  0  0  0  1  0 -1  0]\n",
      " [ 0  0  0  0  0  0 -1  0]]\n",
      "(2, 4) -160\n",
      "(3, 2) -128\n",
      "(3, 5) -128\n",
      "(4, 2) -128\n",
      "(5, 3) -128\n",
      "(5, 7) -144\n",
      "(7, 7) -3840\n"
     ]
    },
    {
     "data": {
      "text/plain": [
       "(3, 2)"
      ]
     },
     "execution_count": 3,
     "metadata": {},
     "output_type": "execute_result"
    }
   ],
   "source": [
    "log = log_to_list()\n",
    "board = np.array(log[5])\n",
    "print(board)\n",
    "\n",
    "select_move_easy(board, 1, 7)"
   ]
  },
  {
   "cell_type": "code",
   "execution_count": 4,
   "metadata": {},
   "outputs": [
    {
     "data": {
      "text/plain": [
       "'0x3c7effffffff7e3c'"
      ]
     },
     "execution_count": 4,
     "metadata": {},
     "output_type": "execute_result"
    }
   ],
   "source": [
    "from numpy import uint64 as u64\n",
    "import numpy as np\n",
    "mask_all = u64(0xffff_ffff_ffff_ffff)\n",
    "\n",
    "mask_corner = u64(0x8100_0000_0000_0081)  # 角\n",
    "mask_star = u64(0x4281_0000_0000_8142)  # 角旁边的两个位置\n",
    "mask_inner = mask_all ^ (mask_corner | mask_star)  # 其他位置\n",
    "hex(mask_inner)"
   ]
  },
  {
   "cell_type": "code",
   "execution_count": 5,
   "metadata": {},
   "outputs": [
    {
     "data": {
      "text/plain": [
       "array([[ 1,  1,  1,  1,  1,  1,  1,  1],\n",
       "       [-1, -1, -1, -1, -1, -1, -1, -1],\n",
       "       [-1, -1, -1, -1, -1, -1, -1, -1],\n",
       "       [-1, -1, -1, -1, -1, -1, -1, -1],\n",
       "       [-1, -1, -1, -1, -1, -1, -1, -1],\n",
       "       [-1, -1, -1, -1, -1, -1, -1, -1],\n",
       "       [ 1, -1, -1, -1, -1, -1, -1, -1],\n",
       "       [ 0, -1, -1, -1, -1, -1, -1, -1]])"
      ]
     },
     "execution_count": 5,
     "metadata": {},
     "output_type": "execute_result"
    }
   ],
   "source": [
    "board = np.full((8, 8), -1)\n",
    "board[0, 0] = board[6, 0] = board[0, :] = 1\n",
    "board[7, 0] = 0\n",
    "\n",
    "board"
   ]
  },
  {
   "cell_type": "code",
   "execution_count": 6,
   "metadata": {},
   "outputs": [
    {
     "name": "stdout",
     "output_type": "stream",
     "text": [
      "(7, 0) -50331648\n"
     ]
    },
    {
     "data": {
      "text/plain": [
       "(7, 0)"
      ]
     },
     "execution_count": 6,
     "metadata": {},
     "output_type": "execute_result"
    }
   ],
   "source": [
    "select_move_easy(board, -1, max_depth=6)"
   ]
  },
  {
   "cell_type": "code",
   "execution_count": 7,
   "metadata": {},
   "outputs": [
    {
     "data": {
      "text/plain": [
       "array([[ 0,  0,  0,  0,  0,  0,  0,  0],\n",
       "       [ 0, -1,  0,  0,  0,  0,  0,  0],\n",
       "       [ 0,  1, -1, -1, -1, -1,  0,  0],\n",
       "       [ 1,  1,  1, -1, -1, -1,  0,  0],\n",
       "       [ 1,  1, -1,  1, -1, -1,  0,  0],\n",
       "       [ 1,  1,  1, -1,  1, -1,  0,  0],\n",
       "       [-1, -1, -1, -1, -1, -1, -1,  0],\n",
       "       [ 0, -1, -1,  0,  0, -1,  1,  0]])"
      ]
     },
     "execution_count": 7,
     "metadata": {},
     "output_type": "execute_result"
    }
   ],
   "source": [
    "board =np.array([[0, 0, 0, 0, 0, 0, 0, 0],\n",
    "       [0, -1, 0, 0, 0, 0, 0, 0],\n",
    "       [0, 1, -1, -1, -1, -1, 0, 0],\n",
    "       [1, 1, 1, -1, -1, -1, 0, 0],\n",
    "       [1, 1, -1, 1, -1, -1, 0, 0],\n",
    "       [1, 1, 1, -1, 1, -1, 0, 0],\n",
    "       [-1, -1, -1, -1, -1, -1, -1, 0],\n",
    "       [0, -1, -1, 0, 0, -1, 1, 0]])\n",
    "\n",
    "board"
   ]
  },
  {
   "cell_type": "code",
   "execution_count": 8,
   "metadata": {},
   "outputs": [
    {
     "name": "stdout",
     "output_type": "stream",
     "text": [
      "(0, 1) 248\n",
      "(1, 2) 56\n",
      "(1, 3) 224\n",
      "(1, 4) 208\n",
      "(1, 5) 120\n",
      "(1, 6) 176\n",
      "(2, 6) 40\n",
      "(3, 6) 192\n",
      "(4, 6) 192\n",
      "(5, 6) 72\n",
      "(7, 3) 232\n",
      "(7, 4) 208\n",
      "(7, 0) -15672\n"
     ]
    },
    {
     "data": {
      "text/plain": [
       "(0, 1)"
      ]
     },
     "execution_count": 8,
     "metadata": {},
     "output_type": "execute_result"
    }
   ],
   "source": [
    "select_move_easy(board, 1, 6)"
   ]
  },
  {
   "cell_type": "code",
   "execution_count": 9,
   "metadata": {},
   "outputs": [
    {
     "data": {
      "text/plain": [
       "1048576"
      ]
     },
     "execution_count": 9,
     "metadata": {},
     "output_type": "execute_result"
    }
   ],
   "source": [
    "(u64(1) - u64(0)) << u64(20)"
   ]
  },
  {
   "cell_type": "code",
   "execution_count": 10,
   "metadata": {},
   "outputs": [
    {
     "name": "stdout",
     "output_type": "stream",
     "text": [
      "(4, 7) -16160\n",
      "(0, 7) -13631488\n"
     ]
    },
    {
     "data": {
      "text/plain": [
       "(4, 7)"
      ]
     },
     "execution_count": 10,
     "metadata": {},
     "output_type": "execute_result"
    }
   ],
   "source": [
    "board = np.array(\n",
    "    [[0,  0,  0, 1,  -1,  -1,  -1,  0],\n",
    "    [0,  0,  0,  0,  0,  1,  -1,  -1],\n",
    "    [0,  0,  0,  0,  0,  1,  1,  1],\n",
    "    [0,  0,  0,  0, 0,  0,  0,  -1],\n",
    "    [0,  0,  0, 0,  0,  0,  0,  0],\n",
    "    [0,  0,  0,  0,  0,  0,  0,  0],\n",
    "    [0,  0,  0,  0,  0,  0,  0,  0],\n",
    "    [0,  0,  0,  0,  0,  0,  0,  0]])\n",
    "\n",
    "select_move_easy(board, 1, 6)"
   ]
  },
  {
   "attachments": {},
   "cell_type": "markdown",
   "metadata": {},
   "source": [
    "### 逐个删除"
   ]
  },
  {
   "cell_type": "code",
   "execution_count": 11,
   "metadata": {},
   "outputs": [
    {
     "name": "stdout",
     "output_type": "stream",
     "text": [
      "16 8\n",
      "(2, 4) 104\n",
      "(2, 5) 104\n",
      "(3, 2) 104\n",
      "(3, 3) 120\n",
      "(3, 6) 120\n",
      "(4, 6) 120\n",
      "(5, 6) 104\n",
      "(7, 3) 120\n",
      "(7, 4) 120\n",
      "(7, 0) -11912\n"
     ]
    },
    {
     "data": {
      "text/plain": [
       "(3, 3)"
      ]
     },
     "execution_count": 11,
     "metadata": {},
     "output_type": "execute_result"
    }
   ],
   "source": [
    "board =np.array([\n",
    "    [ 0,  0,  0,  0,  0,  0,  0,  0],\n",
    "    [ 0,  0,  0,  0,  0,  0,  0,  0],\n",
    "    [ 0,  0,  0,  0,  0,  0,  0,  0],\n",
    "    [ 0,  0,  0,  0, -1, -1,  0,  0],\n",
    "    [ 1,  1, -1,  1, -1, -1,  0,  0],\n",
    "    [ 1,  1,  1, -1,  1, -1,  0,  0],\n",
    "    [-1, -1, -1, -1, -1, -1,  0,  0],\n",
    "    [ 0, -1, -1,  0,  0, -1,  1,  0]])\n",
    "\n",
    "b, w = get_bin_board(board)\n",
    "print(popcount(b), popcount(w))\n",
    "\n",
    "select_move_easy(board, 1, 6)"
   ]
  },
  {
   "cell_type": "code",
   "execution_count": 12,
   "metadata": {},
   "outputs": [
    {
     "name": "stdout",
     "output_type": "stream",
     "text": [
      "16 8\n",
      "(2, 4) 104\n",
      "(2, 5) 104\n",
      "(3, 2) 104\n",
      "(3, 3) 120\n",
      "(3, 6) 120\n",
      "(4, 6) 120\n",
      "(5, 6) 104\n",
      "(7, 3) 120\n",
      "(7, 4) 120\n",
      "(7, 0) -11912\n"
     ]
    },
    {
     "data": {
      "text/plain": [
       "(3, 3)"
      ]
     },
     "execution_count": 12,
     "metadata": {},
     "output_type": "execute_result"
    }
   ],
   "source": [
    "board =np.array([\n",
    "    [ 0,  0,  0,  0,  0,  0,  0,  0],\n",
    "    [ 0,  0,  0,  0,  0,  0,  0,  0],\n",
    "    [ 0,  0,  0,  0,  0,  0,  0,  0],\n",
    "    [ 0,  0,  0,  0, -1, -1,  0,  0],\n",
    "    [ 1,  1, -1,  1, -1, -1,  0,  0],\n",
    "    [ 1,  1,  1, -1,  1, -1,  0,  0],\n",
    "    [-1, -1, -1, -1, -1, -1,  0,  0],\n",
    "    [ 0, -1, -1,  0,  0, -1,  1,  0]])\n",
    "\n",
    "# board[7, 6] 为 0 或 -1时，评分正常，为1时，评分不正常\n",
    "\n",
    "b, w = get_bin_board(board)\n",
    "print(popcount(b), popcount(w))\n",
    "\n",
    "select_move_easy(board, 1, 6)"
   ]
  },
  {
   "cell_type": "code",
   "execution_count": 13,
   "metadata": {},
   "outputs": [
    {
     "name": "stdout",
     "output_type": "stream",
     "text": [
      "16 8\n",
      "(2, 4) 104\n",
      "(2, 5) 104\n",
      "(3, 2) 104\n",
      "(3, 3) 120\n",
      "(3, 6) 120\n",
      "(4, 6) 120\n",
      "(5, 6) 104\n",
      "(7, 3) 120\n",
      "(7, 4) 120\n",
      "(7, 0) -11912\n"
     ]
    },
    {
     "data": {
      "text/plain": [
       "(3, 3)"
      ]
     },
     "execution_count": 13,
     "metadata": {},
     "output_type": "execute_result"
    }
   ],
   "source": [
    "board =np.array([\n",
    "    [ 0,  0,  0,  0,  0,  0,  0,  0],\n",
    "    [ 0,  0,  0,  0,  0,  0,  0,  0],\n",
    "    [ 0,  0,  0,  0,  0,  0,  0,  0],\n",
    "    [ 0,  0,  0,  0, -1, -1,  0,  0],\n",
    "    [ 1,  1, -1,  1, -1, -1,  0,  0],\n",
    "    [ 1,  1,  1, -1,  1, -1,  0,  0],\n",
    "    [-1, -1, -1, -1, -1, -1,  0,  0],\n",
    "    [ 0, -1, -1,  0,  0, -1,  1,  0]])\n",
    "\n",
    "\n",
    "b, w = get_bin_board(board)\n",
    "print(popcount(b), popcount(w))\n",
    "\n",
    "select_move_easy(board, 1, 6)"
   ]
  },
  {
   "cell_type": "code",
   "execution_count": 14,
   "metadata": {},
   "outputs": [
    {
     "name": "stdout",
     "output_type": "stream",
     "text": [
      "(0, 3) 3888\n",
      "(1, 4) 72\n",
      "(3, 4) 72\n",
      "(3, 6) 88\n",
      "(0, 7) -12280\n"
     ]
    },
    {
     "data": {
      "text/plain": [
       "(0, 3)"
      ]
     },
     "execution_count": 14,
     "metadata": {},
     "output_type": "execute_result"
    }
   ],
   "source": [
    "# 1 和 -1 都可以放右上角\n",
    "board = np.array([\n",
    "    [ 0,  1, -1,  0, -1, -1, -1,  0],\n",
    "    [ 0,  0,  0,  0,  0, -1,  1, -1],\n",
    "    [ 0,  0,  0,  0,  0, -1, -1, -1],\n",
    "    [ 0,  0,  0,  0,  0,  0,  0, -1],\n",
    "    [ 0,  0,  0,  0,  0,  0,  0, -1],\n",
    "    [ 0,  0,  0,  0,  0,  0,  0, -1],\n",
    "    [ 0,  0,  0,  0,  0,  0,  0,  1],\n",
    "    [ 0,  0,  0,  0,  0,  0,  0,  0]\n",
    "])\n",
    "\n",
    "select_move_easy(board, 1, 2)"
   ]
  },
  {
   "cell_type": "code",
   "execution_count": 15,
   "metadata": {},
   "outputs": [
    {
     "data": {
      "text/plain": [
       "'0x2000'"
      ]
     },
     "execution_count": 15,
     "metadata": {},
     "output_type": "execute_result"
    }
   ],
   "source": [
    "mask_high_one = u64(0x8000_0000_0000_0000)\n",
    "hex(mask_high_one >> u64(50))"
   ]
  }
 ],
 "metadata": {
  "kernelspec": {
   "display_name": "venv",
   "language": "python",
   "name": "python3"
  },
  "language_info": {
   "codemirror_mode": {
    "name": "ipython",
    "version": 3
   },
   "file_extension": ".py",
   "mimetype": "text/x-python",
   "name": "python",
   "nbconvert_exporter": "python",
   "pygments_lexer": "ipython3",
   "version": "3.8.8"
  },
  "orig_nbformat": 4
 },
 "nbformat": 4,
 "nbformat_minor": 2
}
