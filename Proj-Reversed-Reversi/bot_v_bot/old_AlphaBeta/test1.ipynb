{
 "cells": [
  {
   "cell_type": "code",
   "execution_count": 2,
   "metadata": {},
   "outputs": [],
   "source": [
    "from game import *\n",
    "import numpy as np\n",
    "def print_board(board):\n",
    "    STONE_TO_CHAR = {\n",
    "        0: ' . ',\n",
    "        -1: ' x ',\n",
    "        1: ' o ',\n",
    "    }\n",
    "    for row in range(8):\n",
    "        print(\"%2s %s\" % (row, ''.join(\n",
    "            [STONE_TO_CHAR[board[row, col]] for col in range(8)])))\n",
    "    print(\"    \" + \"  \".join(str(e) for e in range(8)))"
   ]
  },
  {
   "cell_type": "code",
   "execution_count": 3,
   "metadata": {},
   "outputs": [
    {
     "data": {
      "text/plain": [
       "array([[ 0,  0,  0, -1, -1,  1,  1,  0],\n",
       "       [ 0,  0,  0, -1, -1,  1,  1, -1],\n",
       "       [ 0,  0,  0, -1, -1,  1, -1, -1],\n",
       "       [ 0,  0, -1, -1, -1,  1, -1, -1],\n",
       "       [ 0,  0, -1, -1,  1,  1, -1, -1],\n",
       "       [ 0, -1, -1,  1,  1, -1, -1, -1],\n",
       "       [ 0, -1, -1, -1, -1, -1,  0,  1],\n",
       "       [ 0,  1,  1, -1, -1,  0,  0,  0]])"
      ]
     },
     "execution_count": 3,
     "metadata": {},
     "output_type": "execute_result"
    }
   ],
   "source": [
    "def log_to_list():\n",
    "    dir = \"../../chess-log/board_txt/chess_log.txt\"\n",
    "    with open(dir, \"r\") as f:\n",
    "        data = f.read()\n",
    "    return np.array(eval(data))\n",
    "\n",
    "board = log_to_list()[38]\n",
    "board\n",
    "\n",
    "\n"
   ]
  },
  {
   "cell_type": "code",
   "execution_count": 20,
   "metadata": {},
   "outputs": [
    {
     "name": "stdout",
     "output_type": "stream",
     "text": [
      "(6, 0) 736\n",
      "(7, 6) 1200\n",
      "(1, 2) 512\n",
      "(6, 6) 1264\n",
      "(2, 1) 624\n",
      "(3, 1) 752\n",
      "(2, 2) 704\n",
      "(7, 5) 1024\n",
      "(0, 2) 720\n",
      "(4, 1) 512\n",
      "(5, 0) 496\n",
      "(0, 7) 1504\n",
      "(7, 0) -320\n",
      "max_depth: 5\n",
      "Try time: 0.29035209999995004\n",
      "search again\n",
      "\n",
      "(6, 0) 768\n",
      "(7, 6) 1168\n",
      "(3, 1) 800\n",
      "(4, 1) 560\n",
      "(7, 5) 1104\n",
      "(2, 1) 560\n",
      "(2, 2) 736\n",
      "(1, 2) 1152\n",
      "(0, 2) 1216\n",
      "(6, 6) 1216\n",
      "(5, 0) 512\n",
      "(0, 7) 1360\n",
      "(7, 0) -336\n"
     ]
    },
    {
     "data": {
      "text/plain": [
       "(0, 7)"
      ]
     },
     "execution_count": 20,
     "metadata": {},
     "output_type": "execute_result"
    }
   ],
   "source": [
    "select_move_easy(board, 1)"
   ]
  },
  {
   "cell_type": "code",
   "execution_count": 21,
   "metadata": {},
   "outputs": [
    {
     "name": "stdout",
     "output_type": "stream",
     "text": [
      " 0  .  .  .  x  x  o  o  o \n",
      " 1  .  .  .  x  x  o  o  o \n",
      " 2  .  .  .  x  x  o  x  o \n",
      " 3  .  .  x  x  x  o  x  o \n",
      " 4  .  .  x  x  o  o  x  o \n",
      " 5  .  x  x  o  o  x  x  o \n",
      " 6  .  x  x  x  x  x  .  o \n",
      " 7  .  o  o  x  x  .  .  . \n",
      "    0  1  2  3  4  5  6  7\n"
     ]
    }
   ],
   "source": [
    "m, o, _ = apply_move(*get_bin_board(board, 1), 7)\n",
    "print_board(get_np_board(o, m))"
   ]
  }
 ],
 "metadata": {
  "kernelspec": {
   "display_name": "venv",
   "language": "python",
   "name": "python3"
  },
  "language_info": {
   "codemirror_mode": {
    "name": "ipython",
    "version": 3
   },
   "file_extension": ".py",
   "mimetype": "text/x-python",
   "name": "python",
   "nbconvert_exporter": "python",
   "pygments_lexer": "ipython3",
   "version": "3.8.8"
  },
  "orig_nbformat": 4,
  "vscode": {
   "interpreter": {
    "hash": "98543e311a2feb03afeb53ceb12f8d5e1ab4b4d563bdde469186bd85fe3de841"
   }
  }
 },
 "nbformat": 4,
 "nbformat_minor": 2
}
