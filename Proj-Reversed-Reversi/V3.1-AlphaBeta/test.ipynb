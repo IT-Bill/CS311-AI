{
 "cells": [
  {
   "cell_type": "code",
   "execution_count": 3,
   "metadata": {},
   "outputs": [],
   "source": [
    "import numpy as np\n",
    "\n",
    "board = np.array([[ 0,  0,  0,  0,  0,  0,  0,  0],\n",
    "                  [ 0,  0,  0,  0, -1,  0,  0,  0],\n",
    "                  [ 0,  0,  0, -1, -1,  0,  0,  0],\n",
    "                  [ 0,  0, -1, -1, -1, -1,  0,  0],\n",
    "                  [ 0,  0,  1,  1,  1,  1, -1,  0],\n",
    "                  [ 0,  0,  0,  0,  1, -1,  0, -1],\n",
    "                  [ 0,  0,  0,  0,  0,  0,  0,  0],\n",
    "                  [ 0,  0,  0,  0,  0,  0,  0,  0]])\n",
    "\n",
    "\n"
   ]
  },
  {
   "cell_type": "code",
   "execution_count": 7,
   "metadata": {},
   "outputs": [
    {
     "data": {
      "text/plain": [
       "array([[   0,    0,    0,    0,    0,    0,    0,    0],\n",
       "       [   0,    0,    0,    0, -256,    0,    0,    0],\n",
       "       [   0,    0,    0, -256, -256,    0,    0,    0],\n",
       "       [   0,    0, -256, -256, -256, -256,    0,    0],\n",
       "       [   0,    0,    0,    0,    0,    0, -256,    0],\n",
       "       [   0,    0,    0,    0,    0, -256,    0, -256],\n",
       "       [   0,    0,    0,    0,    0,    0,    0,    0],\n",
       "       [   0,    0,    0,    0,    0,    0,    0,    0]], dtype=int32)"
      ]
     },
     "execution_count": 7,
     "metadata": {},
     "output_type": "execute_result"
    }
   ],
   "source": [
    "my_board, opposite_board = board, board\n",
    "tmp = (my_board << 8) & opposite_board\n",
    "tmp = (tmp << 8) & opposite_board | tmp\n",
    "\n",
    "\n",
    "tmp"
   ]
  }
 ],
 "metadata": {
  "kernelspec": {
   "display_name": "venv",
   "language": "python",
   "name": "python3"
  },
  "language_info": {
   "codemirror_mode": {
    "name": "ipython",
    "version": 3
   },
   "file_extension": ".py",
   "mimetype": "text/x-python",
   "name": "python",
   "nbconvert_exporter": "python",
   "pygments_lexer": "ipython3",
   "version": "3.10.9"
  },
  "orig_nbformat": 4
 },
 "nbformat": 4,
 "nbformat_minor": 2
}
