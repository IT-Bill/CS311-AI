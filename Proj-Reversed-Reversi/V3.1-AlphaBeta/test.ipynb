{
 "cells": [
  {
   "cell_type": "code",
   "execution_count": 62,
   "metadata": {},
   "outputs": [],
   "source": [
    "import numpy as np\n",
    "from numpy import uint64 as u\n",
    "\n",
    "board = np.array([[ 0,  0,  0,  0,  0,  0,  0,  0],\n",
    "                  [ 0,  0,  0,  0, -1,  0,  0,  0],\n",
    "                  [ 0,  0,  0, -1, -1,  0,  0,  0],\n",
    "                  [ 0,  0, -1, -1, -1, -1,  0,  0],\n",
    "                  [ 0,  0,  1,  1,  1,  1, -1,  0],\n",
    "                  [ 0,  0,  0,  0,  1, -1,  0, -1],\n",
    "                  [ 0,  0,  0,  0,  0,  0,  0,  0],\n",
    "                  [ 0,  0,  0,  0,  0,  0,  0,  0]])\n",
    "\n",
    "\n",
    "INIT_BOARD = np.array([[0,  0,  0,  0,  0,  0,  0,  0],\n",
    "                      [0,  0,  0,  0,  0,  0,  0,  0],\n",
    "                      [0,  0,  0,  0,  0,  0,  0,  0],\n",
    "                      [0,  0,  0,  -1, 1,  0,  0,  0],\n",
    "                      [0,  0,  0, 1,  -1,  0,  0,  0],\n",
    "                      [0,  0,  0,  0,  0,  0,  0,  0],\n",
    "                      [0,  0,  0,  0,  0,  0,  0,  0],\n",
    "                      [0,  0,  0,  0,  0,  0,  0,  0]])\n",
    "board = INIT_BOARD\n",
    "# board = np.array([\n",
    "#     [0, 0, 0, 0],\n",
    "#     [0, -1,1, 0],\n",
    "#     [0, 1, -1, 0],\n",
    "#     [0, 0, 0, 0]\n",
    "# ])\n"
   ]
  },
  {
   "cell_type": "code",
   "execution_count": 79,
   "metadata": {},
   "outputs": [
    {
     "data": {
      "text/plain": [
       "(68853694464, 34628173824)"
      ]
     },
     "execution_count": 79,
     "metadata": {},
     "output_type": "execute_result"
    }
   ],
   "source": [
    "# 将棋盘转换成二进制\n",
    "s = list('0' * 64)\n",
    "for p in np.argwhere(board == -1):\n",
    "    s[p[0] * 8 + p[1]] = '1'\n",
    "black_bin_board = np.uint64(int(''.join(s), 2))\n",
    "\n",
    "s = list('0' * 64)\n",
    "for p in np.argwhere(board == 1):\n",
    "    s[p[0] * 8 + p[1]] = '1'\n",
    "white_bin_board = np.uint64(int(''.join(s), 2))\n",
    "bin_board = (black_bin_board, white_bin_board)\n",
    "bin_board"
   ]
  },
  {
   "cell_type": "code",
   "execution_count": 64,
   "metadata": {},
   "outputs": [
    {
     "name": "stdout",
     "output_type": "stream",
     "text": [
      "0\n"
     ]
    },
    {
     "data": {
      "text/plain": [
       "'0000000000000000000000000000000000000000000000000000000000000000'"
      ]
     },
     "execution_count": 64,
     "metadata": {},
     "output_type": "execute_result"
    }
   ],
   "source": [
    "my_board, opposite_board = bin_board\n",
    "tmp = (my_board << u(8)) & opposite_board\n",
    "tmp = (tmp << u(8)) & opposite_board | tmp\n",
    "tmp = (tmp << u(16)) & opposite_board | tmp\n",
    "tmp = (tmp << u(16)) & opposite_board | tmp\n",
    "\n",
    "point = tmp << u(8)\n",
    "point = point & (my_board | opposite_board)\n",
    "point\n",
    "\n",
    "print(point)\n",
    "'{:064b}'.format(point)"
   ]
  },
  {
   "cell_type": "code",
   "execution_count": 42,
   "metadata": {},
   "outputs": [
    {
     "data": {
      "text/plain": [
       "20"
      ]
     },
     "execution_count": 42,
     "metadata": {},
     "output_type": "execute_result"
    }
   ],
   "source": [
    "def change(a):\n",
    "    a = 10\n",
    "\n",
    "\n",
    "b = 20\n",
    "change(b)\n",
    "\n",
    "b\n",
    "\n"
   ]
  },
  {
   "cell_type": "code",
   "execution_count": 80,
   "metadata": {},
   "outputs": [
    {
     "name": "stdout",
     "output_type": "stream",
     "text": [
      "0b1111111111111111111111111110011111100111111111111111111111111111\n",
      "0b100000000000000000000000000000000000\n"
     ]
    }
   ],
   "source": [
    "from numpy import uint64 as u64\n",
    "step1, step8 = u64(1), u64(8)\n",
    "mask_W, mask_E = u64(0xfefefefe_fefefefe), u64(0x7f7f7f7f_7f7f7f7f)\n",
    "\n",
    "def N(x):\n",
    "    return x << step8\n",
    "\n",
    "def S(x):\n",
    "    return x >> step8\n",
    "\n",
    "def W(x):\n",
    "    return (x & mask_W) << step1\n",
    "\n",
    "def E(x):\n",
    "    return (x & mask_E) >> step1\n",
    "\n",
    "def NW(x):\n",
    "    return N(W(x))\n",
    "\n",
    "def NE(x):\n",
    "    return N(E(x))\n",
    "\n",
    "def SW(x):\n",
    "    return S(W(x))\n",
    "\n",
    "def SE(x):\n",
    "    return S(E(x))\n",
    "\n",
    "# def get_legal_move(board, next_player):\n",
    "my_board, opposite_board = bin_board\n",
    "\n",
    "result = u64(0)\n",
    "\n",
    "empty = ~(u64(my_board | opposite_board))\n",
    "victim = N(my_board) & opposite_board\n",
    "\n",
    "print(bin(empty))\n",
    "print(bin(victim))\n"
   ]
  },
  {
   "cell_type": "code",
   "execution_count": 88,
   "metadata": {},
   "outputs": [
    {
     "data": {
      "text/plain": [
       "'0b10000000010000100000000100000000000000000000'"
      ]
     },
     "execution_count": 88,
     "metadata": {},
     "output_type": "execute_result"
    }
   ],
   "source": [
    "def get_legal_move(bin_board, next_player):\n",
    "    my_board, opposite_board = bin_board\n",
    "    result = u64(0)\n",
    "\n",
    "    empty = ~(u64(my_board | opposite_board))\n",
    "\n",
    "    for dir in [N, S, W, E, NW, NE, SW, SE]:\n",
    "\n",
    "        victim = dir(my_board) & opposite_board\n",
    "\n",
    "        for i in range(5):\n",
    "            victim |= dir(victim) & opposite_board\n",
    "\n",
    "        result |= dir(victim) & empty\n",
    "\n",
    "    return result\n",
    "\n",
    "for i in range(10000):\n",
    "    res = get_legal_move(bin_board, -1)\n",
    "bin(res)"
   ]
  },
  {
   "cell_type": "code",
   "execution_count": 7,
   "metadata": {},
   "outputs": [],
   "source": [
    "from game import Game\n",
    "import numpy as np\n",
    "\n",
    "INIT_BOARD = np.array([[0,  0,  0,  0,  0,  0,  0,  0],\n",
    "                      [0,  0,  0,  0,  0,  0,  0,  0],\n",
    "                      [0,  0,  0,  0,  0,  0,  0,  0],\n",
    "                      [0,  0,  0,  -1, 1,  0,  0,  0],\n",
    "                      [0,  0,  0, 1,  -1,  0,  0,  0],\n",
    "                      [0,  0,  0,  0,  0,  0,  0,  0],\n",
    "                      [0,  0,  0,  0,  0,  0,  0,  0],\n",
    "                      [0,  0,  0,  0,  0,  0,  0,  0]])\n",
    "\n",
    "game = Game(INIT_BOARD)\n",
    "\n",
    "# moves = game.get_legal_moves(-1)\n",
    "# print(bin(moves))\n",
    "\n",
    "for i in range(20000):\n",
    "    game.get_legal_moves(1)"
   ]
  },
  {
   "cell_type": "code",
   "execution_count": 9,
   "metadata": {},
   "outputs": [
    {
     "ename": "SyntaxError",
     "evalue": "invalid syntax (2110267911.py, line 1)",
     "output_type": "error",
     "traceback": [
      "\u001b[1;36m  Cell \u001b[1;32mIn[9], line 1\u001b[1;36m\u001b[0m\n\u001b[1;33m    (1 == 1) ? 1 : 0\u001b[0m\n\u001b[1;37m             ^\u001b[0m\n\u001b[1;31mSyntaxError\u001b[0m\u001b[1;31m:\u001b[0m invalid syntax\n"
     ]
    }
   ],
   "source": []
  }
 ],
 "metadata": {
  "kernelspec": {
   "display_name": "venv",
   "language": "python",
   "name": "python3"
  },
  "language_info": {
   "codemirror_mode": {
    "name": "ipython",
    "version": 3
   },
   "file_extension": ".py",
   "mimetype": "text/x-python",
   "name": "python",
   "nbconvert_exporter": "python",
   "pygments_lexer": "ipython3",
   "version": "3.10.9"
  },
  "orig_nbformat": 4
 },
 "nbformat": 4,
 "nbformat_minor": 2
}
