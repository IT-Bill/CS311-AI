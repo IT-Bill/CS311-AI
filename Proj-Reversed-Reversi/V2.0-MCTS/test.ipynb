{
 "cells": [
  {
   "cell_type": "code",
   "execution_count": 1,
   "metadata": {},
   "outputs": [
    {
     "name": "stdout",
     "output_type": "stream",
     "text": [
      "from gotypes import Player, Point\n",
      "\n",
      "__all__ = [\"HASH_CODE\", \"INIT_BOARD\"]\n",
      "\n",
      "HASH_CODE = {\n",
      "    (Point(row=0, col=0), Player.black): 2289980335500564411,\n",
      "    (Point(row=0, col=0), Player.white): 5029705470751529549,\n",
      "    (Point(row=0, col=1), Player.black): 6333084298055126073,\n",
      "    (Point(row=0, col=1), Player.white): 7794633687160500598,\n",
      "    (Point(row=0, col=2), Player.black): 3872473272532234811,\n",
      "    (Point(row=0, col=2), Player.white): 9129676604319917602,\n",
      "    (Point(row=0, col=3), Player.black): 5420976099491598583,\n",
      "    (Point(row=0, col=3), Player.white): 4509674573516390443,\n",
      "    (Point(row=0, col=4), Player.black): 5537988761805779473,\n",
      "    (Point(row=0, col=4), Player.white): 7221740581435621035,\n",
      "    (Point(row=0, col=5), Player.black): 4597774674252994820,\n",
      "    (Point(row=0, col=5), Player.white): 7573158101894082723,\n",
      "    (Point(row=0, col=6), Player.black): 3896167362486480916,\n",
      "    (Point(row=0, col=6), Player.white): 8808200917131043459,\n",
      "    (Point(row=0, col=7), Player.black): 5578886041707613276,\n",
      "    (Point(row=0, col=7), Player.white): 6841605802051744627,\n",
      "    (Point(row=1, col=0), Player.black): 9080100829827024620,\n",
      "    (Point(row=1, col=0), Player.white): 6811709396508754361,\n",
      "    (Point(row=1, col=1), Player.black): 4033181888117206744,\n",
      "    (Point(row=1, col=1), Player.white): 2804033566978275163,\n",
      "    (Point(row=1, col=2), Player.black): 5303973895577076876,\n",
      "    (Point(row=1, col=2), Player.white): 5062272246691999613,\n",
      "    (Point(row=1, col=3), Player.black): 5624945748250225578,\n",
      "    (Point(row=1, col=3), Player.white): 6684120049371856994,\n",
      "    (Point(row=1, col=4), Player.black): 8165250523369079484,\n",
      "    (Point(row=1, col=4), Player.white): 72909087645142838,\n",
      "    (Point(row=1, col=5), Player.black): 8395520370260301771,\n",
      "    (Point(row=1, col=5), Player.white): 1041884442745420766,\n",
      "    (Point(row=1, col=6), Player.black): 6001277683266115075,\n",
      "    (Point(row=1, col=6), Player.white): 4390904342622204575,\n",
      "    (Point(row=1, col=7), Player.black): 6713780364074086719,\n",
      "    (Point(row=1, col=7), Player.white): 2586966221187611318,\n",
      "    (Point(row=2, col=0), Player.black): 7960948508611855063,\n",
      "    (Point(row=2, col=0), Player.white): 225898321149078378,\n",
      "    (Point(row=2, col=1), Player.black): 873072716681344862,\n",
      "    (Point(row=2, col=1), Player.white): 247242720679034761,\n",
      "    (Point(row=2, col=2), Player.black): 3921400285022543418,\n",
      "    (Point(row=2, col=2), Player.white): 5217122351370703797,\n",
      "    (Point(row=2, col=3), Player.black): 1623592822741857538,\n",
      "    (Point(row=2, col=3), Player.white): 7922137571231879589,\n",
      "    (Point(row=2, col=4), Player.black): 2215370894585623258,\n",
      "    (Point(row=2, col=4), Player.white): 1158574261177475106,\n",
      "    (Point(row=2, col=5), Player.black): 4523090770054954699,\n",
      "    (Point(row=2, col=5), Player.white): 120275681862312626,\n",
      "    (Point(row=2, col=6), Player.black): 5171912985430140518,\n",
      "    (Point(row=2, col=6), Player.white): 3496218800116651878,\n",
      "    (Point(row=2, col=7), Player.black): 4274317852901620325,\n",
      "    (Point(row=2, col=7), Player.white): 418045046392234736,\n",
      "    (Point(row=3, col=0), Player.black): 4502298110720898697,\n",
      "    (Point(row=3, col=0), Player.white): 8035297880926644239,\n",
      "    (Point(row=3, col=1), Player.black): 2026470119521213327,\n",
      "    (Point(row=3, col=1), Player.white): 1907308174451167759,\n",
      "    (Point(row=3, col=2), Player.black): 786457595394191401,\n",
      "    (Point(row=3, col=2), Player.white): 3385991213686391121,\n",
      "    (Point(row=3, col=3), Player.black): 3674737917687803478,\n",
      "    (Point(row=3, col=3), Player.white): 8981719858259092888,\n",
      "    (Point(row=3, col=4), Player.black): 8898964553071371265,\n",
      "    (Point(row=3, col=4), Player.white): 4194027581320769455,\n",
      "    (Point(row=3, col=5), Player.black): 8607007008004471633,\n",
      "    (Point(row=3, col=5), Player.white): 711987238128667037,\n",
      "    (Point(row=3, col=6), Player.black): 5402958484578426801,\n",
      "    (Point(row=3, col=6), Player.white): 6103676963732670562,\n",
      "    (Point(row=3, col=7), Player.black): 7805645822432858987,\n",
      "    (Point(row=3, col=7), Player.white): 287201632022482323,\n",
      "    (Point(row=4, col=0), Player.black): 8784605632021795225,\n",
      "    (Point(row=4, col=0), Player.white): 1323375660626502051,\n",
      "    (Point(row=4, col=1), Player.black): 8225026009985292691,\n",
      "    (Point(row=4, col=1), Player.white): 2487293448737186835,\n",
      "    (Point(row=4, col=2), Player.black): 8135610686988871002,\n",
      "    (Point(row=4, col=2), Player.white): 680529669380895733,\n",
      "    (Point(row=4, col=3), Player.black): 8123876770920167821,\n",
      "    (Point(row=4, col=3), Player.white): 8963014531355367953,\n",
      "    (Point(row=4, col=4), Player.black): 6645051061591271823,\n",
      "    (Point(row=4, col=4), Player.white): 7181147900458496029,\n",
      "    (Point(row=4, col=5), Player.black): 1690295700076934928,\n",
      "    (Point(row=4, col=5), Player.white): 9045747846725626232,\n",
      "    (Point(row=4, col=6), Player.black): 2400861180290186977,\n",
      "    (Point(row=4, col=6), Player.white): 2045140532484243221,\n",
      "    (Point(row=4, col=7), Player.black): 1577697437790405702,\n",
      "    (Point(row=4, col=7), Player.white): 2269545756429864301,\n",
      "    (Point(row=5, col=0), Player.black): 8934397067416591143,\n",
      "    (Point(row=5, col=0), Player.white): 7928494437212820700,\n",
      "    (Point(row=5, col=1), Player.black): 8437316386325414458,\n",
      "    (Point(row=5, col=1), Player.white): 7893725313447432688,\n",
      "    (Point(row=5, col=2), Player.black): 833570781047028593,\n",
      "    (Point(row=5, col=2), Player.white): 8688399037626565913,\n",
      "    (Point(row=5, col=3), Player.black): 4886483137217099870,\n",
      "    (Point(row=5, col=3), Player.white): 7948751471860304116,\n",
      "    (Point(row=5, col=4), Player.black): 5066393998936596515,\n",
      "    (Point(row=5, col=4), Player.white): 4128643086323392258,\n",
      "    (Point(row=5, col=5), Player.black): 3757903730367686914,\n",
      "    (Point(row=5, col=5), Player.white): 6803595223644877997,\n",
      "    (Point(row=5, col=6), Player.black): 841006000179557535,\n",
      "    (Point(row=5, col=6), Player.white): 6476334481905086681,\n",
      "    (Point(row=5, col=7), Player.black): 6572458133144303067,\n",
      "    (Point(row=5, col=7), Player.white): 3961363688063537763,\n",
      "    (Point(row=6, col=0), Player.black): 7156617252888267696,\n",
      "    (Point(row=6, col=0), Player.white): 2010639293413152208,\n",
      "    (Point(row=6, col=1), Player.black): 5168339655661817159,\n",
      "    (Point(row=6, col=1), Player.white): 6881723021996760643,\n",
      "    (Point(row=6, col=2), Player.black): 3398413886417038737,\n",
      "    (Point(row=6, col=2), Player.white): 2798569571133375533,\n",
      "    (Point(row=6, col=3), Player.black): 60175330718876911,\n",
      "    (Point(row=6, col=3), Player.white): 1243119494510898310,\n",
      "    (Point(row=6, col=4), Player.black): 7458659983605201867,\n",
      "    (Point(row=6, col=4), Player.white): 7411634856942690498,\n",
      "    (Point(row=6, col=5), Player.black): 7244471883296952516,\n",
      "    (Point(row=6, col=5), Player.white): 8714453508362782031,\n",
      "    (Point(row=6, col=6), Player.black): 7567758024206695569,\n",
      "    (Point(row=6, col=6), Player.white): 6568763877823955145,\n",
      "    (Point(row=6, col=7), Player.black): 196451845307676237,\n",
      "    (Point(row=6, col=7), Player.white): 5714261389744519315,\n",
      "    (Point(row=7, col=0), Player.black): 3856283122574736824,\n",
      "    (Point(row=7, col=0), Player.white): 639524839743402517,\n",
      "    (Point(row=7, col=1), Player.black): 363473789515633919,\n",
      "    (Point(row=7, col=1), Player.white): 3018861497260371046,\n",
      "    (Point(row=7, col=2), Player.black): 5655917183479270027,\n",
      "    (Point(row=7, col=2), Player.white): 627159659688201596,\n",
      "    (Point(row=7, col=3), Player.black): 6038346688849037998,\n",
      "    (Point(row=7, col=3), Player.white): 5030694525563277090,\n",
      "    (Point(row=7, col=4), Player.black): 2355270024476073611,\n",
      "    (Point(row=7, col=4), Player.white): 3442291903497398563,\n",
      "    (Point(row=7, col=5), Player.black): 5656928901806147052,\n",
      "    (Point(row=7, col=5), Player.white): 6787496495272770173,\n",
      "    (Point(row=7, col=6), Player.black): 1466943802242530902,\n",
      "    (Point(row=7, col=6), Player.white): 4937363621003963520,\n",
      "    (Point(row=7, col=7), Player.black): 8720321158052866401,\n",
      "    (Point(row=7, col=7), Player.white): 2495753187577926847,\n",
      "}\n",
      "\n",
      "INIT_BOARD = 0\n"
     ]
    }
   ],
   "source": [
    "from utils import get_zobrist\n",
    "get_zobrist()"
   ]
  },
  {
   "cell_type": "code",
   "execution_count": 2,
   "metadata": {},
   "outputs": [
    {
     "data": {
      "text/plain": [
       "{(1, 2), (3, 4)}"
      ]
     },
     "execution_count": 2,
     "metadata": {},
     "output_type": "execute_result"
    }
   ],
   "source": [
    "s = set([(1, 2), (3, 4)])\n",
    "s"
   ]
  },
  {
   "cell_type": "code",
   "execution_count": 13,
   "metadata": {},
   "outputs": [
    {
     "data": {
      "text/plain": [
       "array([2, 2], dtype=int64)"
      ]
     },
     "execution_count": 13,
     "metadata": {},
     "output_type": "execute_result"
    }
   ],
   "source": [
    "import numpy as np\n",
    "\n",
    "a = np.zeros((8, 8))\n",
    "b = np.zeros((8, 8))\n",
    "b[1, 1] = b[2, 2] = b[3, 3] = 10\n",
    "a != b\n",
    "c = np.argwhere(a != b)\n",
    "c[1]"
   ]
  },
  {
   "cell_type": "code",
   "execution_count": 39,
   "metadata": {},
   "outputs": [
    {
     "data": {
      "text/plain": [
       "array([0., 0.])"
      ]
     },
     "execution_count": 39,
     "metadata": {},
     "output_type": "execute_result"
    }
   ],
   "source": [
    "b[((1, 1), (2, 2))]"
   ]
  },
  {
   "cell_type": "code",
   "execution_count": 23,
   "metadata": {},
   "outputs": [
    {
     "data": {
      "text/plain": [
       "1"
      ]
     },
     "execution_count": 23,
     "metadata": {},
     "output_type": "execute_result"
    }
   ],
   "source": [
    "a = np.array([1, 0, 1])\n",
    "(a == 0).sum()"
   ]
  },
  {
   "cell_type": "code",
   "execution_count": 35,
   "metadata": {},
   "outputs": [
    {
     "data": {
      "text/plain": [
       "Point(row=1, col=2)"
      ]
     },
     "execution_count": 35,
     "metadata": {},
     "output_type": "execute_result"
    }
   ],
   "source": [
    "from gotypes import Point\n",
    "\n",
    "p = Point(1, 2)\n",
    "\n",
    "\n"
   ]
  },
  {
   "cell_type": "code",
   "execution_count": 30,
   "metadata": {},
   "outputs": [],
   "source": [
    "a = []\n",
    "for i in range(5000_0000):\n",
    "    a.append(i)\n",
    "\n"
   ]
  },
  {
   "cell_type": "code",
   "execution_count": 34,
   "metadata": {},
   "outputs": [],
   "source": [
    "a = np.zeros((5000_0000, ))\n",
    "for i in range(5000_0000):\n",
    "    a[i] = i"
   ]
  },
  {
   "cell_type": "code",
   "execution_count": 2,
   "metadata": {},
   "outputs": [
    {
     "name": "stdout",
     "output_type": "stream",
     "text": [
      "C3\n",
      "D2\n",
      "E5\n",
      "F4\n"
     ]
    },
    {
     "data": {
      "text/plain": [
       "array([[ 0,  0,  0,  0,  0,  0,  0,  0],\n",
       "       [ 0,  0,  0,  0,  0,  0,  0,  0],\n",
       "       [ 0,  0,  0, -1,  0,  0,  0,  0],\n",
       "       [ 0,  0,  0, -1, -1,  0,  0,  0],\n",
       "       [ 0,  0,  0, -1,  1,  0,  0,  0],\n",
       "       [ 0,  0,  0,  0,  0,  0,  0,  0],\n",
       "       [ 0,  0,  0,  0,  0,  0,  0,  0],\n",
       "       [ 0,  0,  0,  0,  0,  0,  0,  0]])"
      ]
     },
     "execution_count": 2,
     "metadata": {},
     "output_type": "execute_result"
    }
   ],
   "source": [
    "from game import GameState, Board, Move\n",
    "from gotypes import Point\n",
    "\n",
    "board = Board()\n",
    "game_state: GameState = GameState.new_game()\n",
    "moves = game_state.legal_moves()\n",
    "for m in moves:\n",
    "    print(m)\n",
    "\n",
    "game_state = game_state.apply_move(moves[0])\n",
    "# game_state.board.grid\n",
    "# game_state.board.grid[moves[0].point]\n",
    "# game_state.board.place_stones(game_state.next_player, Point(2, 4), [Point(3, 3)])\n",
    "# game_state.board.grid[tuple(([Point(4, 3), Point(4, 3), Point(5, 5)]))] = 10\n",
    "game_state.board.grid"
   ]
  },
  {
   "cell_type": "code",
   "execution_count": 3,
   "metadata": {},
   "outputs": [
    {
     "name": "stdout",
     "output_type": "stream",
     "text": [
      "    0  1  2  3  4  5  6  7\n"
     ]
    }
   ],
   "source": [
    "COLS = 'ABCDEFGH'\n",
    "print(\"    \" + \"  \".join(str(e) for e in range(len(COLS))))"
   ]
  },
  {
   "cell_type": "code",
   "execution_count": 20,
   "metadata": {},
   "outputs": [
    {
     "data": {
      "text/plain": [
       "(Point(row=4, col=3), Point(row=4, col=3))"
      ]
     },
     "execution_count": 20,
     "metadata": {},
     "output_type": "execute_result"
    }
   ],
   "source": [
    "tuple(([Point(4, 3), Point(4, 3)]))"
   ]
  },
  {
   "cell_type": "code",
   "execution_count": 26,
   "metadata": {},
   "outputs": [
    {
     "data": {
      "text/plain": [
       "[Point(row=4, col=3), Point(row=4, col=3)]"
      ]
     },
     "execution_count": 26,
     "metadata": {},
     "output_type": "execute_result"
    }
   ],
   "source": [
    "[Point(4, 3)] + [Point(4, 3)]"
   ]
  },
  {
   "cell_type": "code",
   "execution_count": 3,
   "metadata": {},
   "outputs": [
    {
     "data": {
      "text/plain": [
       "(Point(row=4, col=3), Point(row=4, col=3), Point(row=5, col=5))"
      ]
     },
     "execution_count": 3,
     "metadata": {},
     "output_type": "execute_result"
    }
   ],
   "source": [
    "tuple(([Point(4, 3), Point(4, 3), Point(5, 5)]))"
   ]
  },
  {
   "cell_type": "code",
   "execution_count": 15,
   "metadata": {},
   "outputs": [
    {
     "data": {
      "text/plain": [
       "array([[0, 0, 0, 0, 0, 0, 0, 0],\n",
       "       [0, 0, 0, 0, 0, 0, 0, 0],\n",
       "       [0, 0, 0, 0, 0, 0, 0, 0],\n",
       "       [1, 1, 1, 1, 1, 1, 1, 1],\n",
       "       [1, 1, 1, 1, 1, 1, 1, 1],\n",
       "       [1, 1, 1, 1, 1, 1, 1, 1],\n",
       "       [0, 0, 0, 0, 0, 0, 0, 0],\n",
       "       [0, 0, 0, 0, 0, 0, 0, 0]])"
      ]
     },
     "execution_count": 15,
     "metadata": {},
     "output_type": "execute_result"
    }
   ],
   "source": [
    "# game_state.board.grid[[(4, 3), (3, 4), (5, 5)]] = 1\n",
    "\n",
    "game_state.board.grid[np.array([(4, 3), (3, 4), (5, 5)])] = 1\n",
    "game_state.board.grid"
   ]
  },
  {
   "cell_type": "code",
   "execution_count": 32,
   "metadata": {},
   "outputs": [
    {
     "data": {
      "text/plain": [
       "(array([1, 6]), array([2, 3]))"
      ]
     },
     "execution_count": 32,
     "metadata": {},
     "output_type": "execute_result"
    }
   ],
   "source": [
    "a = np.array([[ 0,  0,  0,  0,  0,  0,  0,  0],\n",
    "       [ 0,  0,  0,  0,  0,  0,  0,  0],\n",
    "       [ 0,  0,  0,  0,  0,  0,  0,  0],\n",
    "       [ 0,  0,  0,  1, -1,  0,  0,  0],\n",
    "       [ 0,  0,  0, -1,  1,  0,  0,  0],\n",
    "       [ 0,  0,  0,  0,  0,  0,  0,  0],\n",
    "       [ 0,  0,  0,  0,  0,  0,  0,  0],\n",
    "       [ 0,  0,  0,  0,  0,  0,  0,  0]])\n",
    "a[(1, 2), (2, 3)] = 1\n",
    "\n",
    "b = np.array([(1, 2), (6, 3)])\n",
    "b[:, 0], b[:, 1]"
   ]
  },
  {
   "cell_type": "code",
   "execution_count": 33,
   "metadata": {},
   "outputs": [
    {
     "data": {
      "text/plain": [
       "array([[4, 3],\n",
       "       [4, 3],\n",
       "       [5, 5]])"
      ]
     },
     "execution_count": 33,
     "metadata": {},
     "output_type": "execute_result"
    }
   ],
   "source": [
    "np.array([Point(4, 3), Point(4, 3), Point(5, 5)])\n"
   ]
  },
  {
   "cell_type": "code",
   "execution_count": 4,
   "metadata": {},
   "outputs": [
    {
     "ename": "TypeError",
     "evalue": "'method' object is not iterable",
     "output_type": "error",
     "traceback": [
      "\u001b[1;31m---------------------------------------------------------------------------\u001b[0m",
      "\u001b[1;31mTypeError\u001b[0m                                 Traceback (most recent call last)",
      "Cell \u001b[1;32mIn[4], line 13\u001b[0m\n\u001b[0;32m     11\u001b[0m \u001b[39mfrom\u001b[39;00m \u001b[39msubmit\u001b[39;00m \u001b[39mimport\u001b[39;00m AI\n\u001b[0;32m     12\u001b[0m ai \u001b[39m=\u001b[39m AI(\u001b[39m8\u001b[39m, \u001b[39m1\u001b[39m, \u001b[39m5\u001b[39m)\n\u001b[1;32m---> 13\u001b[0m ai\u001b[39m.\u001b[39;49mgo(a)\n",
      "File \u001b[1;32mp:\\CS311-AI\\Proj-Reversed-Reversi\\V2.0-MCTS\\submit.py:23\u001b[0m, in \u001b[0;36mAI.go\u001b[1;34m(self, chessboard)\u001b[0m\n\u001b[0;32m     21\u001b[0m board \u001b[39m=\u001b[39m Board(grid\u001b[39m=\u001b[39mchessboard)\n\u001b[0;32m     22\u001b[0m game_state \u001b[39m=\u001b[39m GameState(board, Player(\u001b[39mself\u001b[39m\u001b[39m.\u001b[39mcolor), \u001b[39mNone\u001b[39;00m, \u001b[39mNone\u001b[39;00m)\n\u001b[1;32m---> 23\u001b[0m \u001b[39mfor\u001b[39;00m move \u001b[39min\u001b[39;00m game_state\u001b[39m.\u001b[39mlegal_moves:\n\u001b[0;32m     24\u001b[0m     \u001b[39mself\u001b[39m\u001b[39m.\u001b[39mcandidate_list\u001b[39m.\u001b[39mappend([move\u001b[39m.\u001b[39mpoint\u001b[39m.\u001b[39mrow, move\u001b[39m.\u001b[39mpoint\u001b[39m.\u001b[39mcol])\n\u001b[0;32m     26\u001b[0m \u001b[39mif\u001b[39;00m \u001b[39mlen\u001b[39m(\u001b[39mself\u001b[39m\u001b[39m.\u001b[39mcandidate_list) \u001b[39m>\u001b[39m \u001b[39m0\u001b[39m:\n",
      "\u001b[1;31mTypeError\u001b[0m: 'method' object is not iterable"
     ]
    }
   ],
   "source": [
    "import numpy as np\n",
    "a = np.array([[ 0,  0,  0,  0,  0,  0,  0,  0],\n",
    "       [ 0,  0,  0,  0,  0,  0,  0,  0],\n",
    "       [ 0,  0,  0,  0,  0,  0,  0,  0],\n",
    "       [ 0,  0,  0,  1, -1,  0,  0,  0],\n",
    "       [ 0,  0,  0, -1,  1,  0,  0,  0],\n",
    "       [ 0,  0,  0,  0,  0,  0,  0,  0],\n",
    "       [ 0,  0,  0,  0,  0,  0,  0,  0],\n",
    "       [ 0,  0,  0,  0,  0,  0,  0,  0]])\n",
    "\n",
    "from submit import AI\n",
    "ai = AI(8, 1, 5)\n",
    "ai.go(a)"
   ]
  }
 ],
 "metadata": {
  "kernelspec": {
   "display_name": "venv",
   "language": "python",
   "name": "python3"
  },
  "language_info": {
   "codemirror_mode": {
    "name": "ipython",
    "version": 3
   },
   "file_extension": ".py",
   "mimetype": "text/x-python",
   "name": "python",
   "nbconvert_exporter": "python",
   "pygments_lexer": "ipython3",
   "version": "3.8.8"
  },
  "orig_nbformat": 4
 },
 "nbformat": 4,
 "nbformat_minor": 2
}
