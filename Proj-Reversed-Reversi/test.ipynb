{
 "cells": [
  {
   "cell_type": "code",
   "execution_count": 3,
   "metadata": {},
   "outputs": [],
   "source": [
    "import numpy as np\n",
    "COLOR_BLACK = -1\n",
    "COLOR_WHITH = 1\n",
    "COLOR_NONE = 0"
   ]
  },
  {
   "cell_type": "code",
   "execution_count": 4,
   "metadata": {},
   "outputs": [
    {
     "data": {
      "text/plain": [
       "array([[ 0.,  0.,  0.,  0.,  0.,  0.,  0.,  0.],\n",
       "       [ 0.,  0.,  0.,  0.,  0.,  0.,  0.,  0.],\n",
       "       [ 0.,  0.,  0.,  0.,  0.,  0.,  0.,  0.],\n",
       "       [ 0.,  0.,  0.,  0., -1.,  0.,  0.,  0.],\n",
       "       [ 0.,  0.,  0., -1.,  0.,  0.,  0.,  0.],\n",
       "       [ 0.,  0.,  0.,  0.,  0.,  0.,  0.,  0.],\n",
       "       [ 0.,  0.,  0.,  0.,  0.,  0.,  0.,  0.],\n",
       "       [ 0.,  0.,  0.,  0.,  0.,  0.,  0.,  0.]])"
      ]
     },
     "execution_count": 4,
     "metadata": {},
     "output_type": "execute_result"
    }
   ],
   "source": [
    "board = np.zeros((8, 8))\n",
    "board[3, 4] = board[4, 3] = COLOR_BLACK\n",
    "\n",
    "board"
   ]
  },
  {
   "cell_type": "code",
   "execution_count": 7,
   "metadata": {},
   "outputs": [
    {
     "data": {
      "text/plain": [
       "0"
      ]
     },
     "execution_count": 7,
     "metadata": {},
     "output_type": "execute_result"
    }
   ],
   "source": [
    "1 // 2\n"
   ]
  },
  {
   "cell_type": "code",
   "execution_count": 10,
   "metadata": {},
   "outputs": [
    {
     "data": {
      "text/plain": [
       "array([[-500,   25,  -10,   -5,   -5,  -10,   25, -500],\n",
       "       [  25,   45,   -1,   -1,   -1,   -1,   45,   25],\n",
       "       [ -10,   -1,   -3,   -2,   -2,   -3,   -1,  -10],\n",
       "       [  -5,   -1,   -2,   -1,   -1,   -2,   -1,   -5],\n",
       "       [  -5,   -1,   -2,   -1,   -1,   -2,   -1,   -5],\n",
       "       [ -10,   -1,   -3,   -2,   -2,   -3,   -1,  -10],\n",
       "       [  25,   45,   -1,   -1,   -1,   -1,   45,   25],\n",
       "       [-500,   25,  -10,   -5,   -5,  -10,   25, -500]])"
      ]
     },
     "execution_count": 10,
     "metadata": {},
     "output_type": "execute_result"
    }
   ],
   "source": [
    "WEIGHT_MAP = -np.array([[500, -25, 10, 5, 5, 10, -25, 500],\n",
    "     [-25, -45, 1, 1, 1, 1, -45, -25],\n",
    "     [10, 1, 3, 2, 2, 3, 1, 10],\n",
    "     [5, 1, 2, 1, 1, 2, 1, 5],\n",
    "     [5, 1, 2, 1, 1, 2, 1, 5],\n",
    "     [10, 1, 3, 2, 2, 3, 1, 10],\n",
    "     [-25, -45, 1, 1, 1, 1, -45, -25],\n",
    "     [500, -25, 10, 5, 5, 10, -25, 500]])"
   ]
  },
  {
   "cell_type": "code",
   "execution_count": null,
   "metadata": {},
   "outputs": [],
   "source": []
  }
 ],
 "metadata": {
  "kernelspec": {
   "display_name": "venv",
   "language": "python",
   "name": "python3"
  },
  "language_info": {
   "codemirror_mode": {
    "name": "ipython",
    "version": 3
   },
   "file_extension": ".py",
   "mimetype": "text/x-python",
   "name": "python",
   "nbconvert_exporter": "python",
   "pygments_lexer": "ipython3",
   "version": "3.10.9"
  },
  "orig_nbformat": 4
 },
 "nbformat": 4,
 "nbformat_minor": 2
}
