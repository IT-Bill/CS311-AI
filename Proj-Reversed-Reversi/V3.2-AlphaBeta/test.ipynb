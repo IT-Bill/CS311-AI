{
 "cells": [
  {
   "cell_type": "code",
   "execution_count": 2,
   "metadata": {},
   "outputs": [],
   "source": [
    "import numpy as np\n",
    "from numpy import uint64 as u\n",
    "\n",
    "board = np.array([[ 0,  0,  0,  0,  0,  0,  0,  0],\n",
    "                  [ 0,  0,  0,  0, -1,  0,  0,  0],\n",
    "                  [ 0,  0,  0, -1, -1,  0,  0,  0],\n",
    "                  [ 0,  0, -1, -1, -1, -1,  0,  0],\n",
    "                  [ 0,  0,  1,  1,  1,  1, -1,  0],\n",
    "                  [ 0,  0,  0,  0,  1, -1,  0, -1],\n",
    "                  [ 0,  0,  0,  0,  0,  0,  0,  0],\n",
    "                  [ 0,  0,  0,  0,  0,  0,  0,  0]])\n",
    "\n",
    "\n",
    "INIT_BOARD = np.array([[0,  0,  0,  0,  0,  0,  0,  0],\n",
    "                      [0,  0,  0,  0,  0,  0,  0,  0],\n",
    "                      [0,  0,  0,  0,  0,  0,  0,  0],\n",
    "                      [0,  0,  0,  -1, 1,  0,  0,  0],\n",
    "                      [0,  0,  0, 1,  -1,  0,  0,  0],\n",
    "                      [0,  0,  0,  0,  0,  0,  0,  0],\n",
    "                      [0,  0,  0,  0,  0,  0,  0,  0],\n",
    "                      [0,  0,  0,  0,  0,  0,  0,  0]])\n",
    "board = INIT_BOARD\n",
    "# board = np.array([\n",
    "#     [0, 0, 0, 0],\n",
    "#     [0, -1,1, 0],\n",
    "#     [0, 1, -1, 0],\n",
    "#     [0, 0, 0, 0]\n",
    "# ])\n"
   ]
  },
  {
   "cell_type": "code",
   "execution_count": 12,
   "metadata": {},
   "outputs": [
    {
     "data": {
      "text/plain": [
       "(68853694464, 34628173824)"
      ]
     },
     "execution_count": 12,
     "metadata": {},
     "output_type": "execute_result"
    }
   ],
   "source": [
    "# 将棋盘转换成二进制\n",
    "s = list('0' * 64)\n",
    "for p in np.argwhere(board == -1):\n",
    "    s[p[0] * 8 + p[1]] = '1'\n",
    "black_bin_board = np.uint64(int(''.join(s), 2))\n",
    "\n",
    "s = list('0' * 64)\n",
    "for p in np.argwhere(board == 1):\n",
    "    s[p[0] * 8 + p[1]] = '1'\n",
    "white_bin_board = np.uint64(int(''.join(s), 2))\n",
    "bin_board = (black_bin_board, white_bin_board)\n",
    "bin_board"
   ]
  },
  {
   "cell_type": "code",
   "execution_count": 11,
   "metadata": {},
   "outputs": [
    {
     "name": "stdout",
     "output_type": "stream",
     "text": [
      "0\n"
     ]
    },
    {
     "data": {
      "text/plain": [
       "'0000000000000000000000000000000000000000000000000000000000000000'"
      ]
     },
     "execution_count": 11,
     "metadata": {},
     "output_type": "execute_result"
    }
   ],
   "source": [
    "my_board, opposite_board = bin_board\n",
    "tmp = (my_board << u(8)) & opposite_board\n",
    "tmp = (tmp << u(8)) & opposite_board | tmp\n",
    "tmp = (tmp << u(16)) & opposite_board | tmp\n",
    "tmp = (tmp << u(16)) & opposite_board | tmp\n",
    "\n",
    "point = tmp << u(8)\n",
    "point = point & (my_board | opposite_board)\n",
    "point\n",
    "\n",
    "print(point)\n",
    "'{:064b}'.format(point)"
   ]
  },
  {
   "cell_type": "code",
   "execution_count": 8,
   "metadata": {},
   "outputs": [
    {
     "data": {
      "text/plain": [
       "dtype('uint64')"
      ]
     },
     "execution_count": 8,
     "metadata": {},
     "output_type": "execute_result"
    }
   ],
   "source": [
    "def change(a):\n",
    "    a = u(10)\n",
    "\n",
    "\n",
    "\n",
    "b = u(20)\n",
    "change(b)\n",
    "\n",
    "b.dtype\n",
    "\n"
   ]
  },
  {
   "cell_type": "code",
   "execution_count": 17,
   "metadata": {},
   "outputs": [],
   "source": [
    "from game import Game\n",
    "import numpy as np\n",
    "\n",
    "INIT_BOARD = np.array([[0,  0,  0,  0,  0,  0,  0,  0],\n",
    "                      [0,  0,  0,  0,  0,  0,  0,  0],\n",
    "                      [0,  0,  0,  0,  0,  0,  0,  0],\n",
    "                      [0,  0,  0,  -1, 1,  0,  0,  0],\n",
    "                      [0,  0,  0, 1,  -1,  0,  0,  0],\n",
    "                      [0,  0,  0,  0,  0,  0,  0,  0],\n",
    "                      [0,  0,  0,  0,  0,  0,  0,  0],\n",
    "                      [0,  0,  0,  0,  0,  0,  0,  0]])\n",
    "\n",
    "game = Game(INIT_BOARD)\n",
    "\n",
    "# moves = game.get_legal_moves(-1)\n",
    "# print(bin(moves))\n",
    "\n",
    "for i in range(100000):\n",
    "    game.get_legal_moves(1)"
   ]
  },
  {
   "cell_type": "code",
   "execution_count": 13,
   "metadata": {},
   "outputs": [],
   "source": [
    "board = INIT_BOARD\n",
    "\n",
    "\n",
    "for i in range(100000):\n",
    "    s = list('0' * 64)\n",
    "    for p in np.argwhere(board == -1):\n",
    "        s[p[0] * 8 + p[1]] = '1'\n",
    "    black_bin_board = np.uint64(int(''.join(s), 2))\n",
    "    # board[board != 1] = 0\n",
    "    # board = board.reshape((64, ))\n",
    "    # int(''.join([str(s) for s in board.tolist()]), 2)\n",
    "\n",
    "    # int(''.join(list(map(lambda s: str(s), board.tolist()))), 2)\n",
    "# str(board)"
   ]
  },
  {
   "cell_type": "code",
   "execution_count": 4,
   "metadata": {},
   "outputs": [
    {
     "data": {
      "text/plain": [
       "True"
      ]
     },
     "execution_count": 4,
     "metadata": {},
     "output_type": "execute_result"
    }
   ],
   "source": [
    "not u(0)"
   ]
  },
  {
   "cell_type": "code",
   "execution_count": 45,
   "metadata": {},
   "outputs": [],
   "source": [
    "\n",
    "\n",
    "\n",
    "for t in range(100000):\n",
    "    [i for i, j in enumerate(\"{:064b}\".format(68853694464)) if j == '1']\n",
    "    # print(a)"
   ]
  }
 ],
 "metadata": {
  "kernelspec": {
   "display_name": "venv",
   "language": "python",
   "name": "python3"
  },
  "language_info": {
   "codemirror_mode": {
    "name": "ipython",
    "version": 3
   },
   "file_extension": ".py",
   "mimetype": "text/x-python",
   "name": "python",
   "nbconvert_exporter": "python",
   "pygments_lexer": "ipython3",
   "version": "3.8.8"
  },
  "orig_nbformat": 4
 },
 "nbformat": 4,
 "nbformat_minor": 2
}
