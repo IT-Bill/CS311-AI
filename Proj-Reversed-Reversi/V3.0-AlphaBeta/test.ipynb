{
 "cells": [
  {
   "cell_type": "code",
   "execution_count": 3,
   "metadata": {},
   "outputs": [],
   "source": [
    "import numpy as np\n",
    "\n",
    "board = np.array([[ 0,  0,  0,  0,  0,  0,  0,  0],\n",
    "                  [ 0,  0,  0,  0, -1,  0,  0,  0],\n",
    "                  [ 0,  0,  0, -1, -1,  0,  0,  0],\n",
    "                  [ 0,  0, -1, -1, -1, -1,  0,  0],\n",
    "                  [ 0,  0,  1,  1,  1,  1, -1,  0],\n",
    "                  [ 0,  0,  0,  0,  1, -1,  0, -1],\n",
    "                  [ 0,  0,  0,  0,  0,  0,  0,  0],\n",
    "                  [ 0,  0,  0,  0,  0,  0,  0,  0]])\n",
    "\n",
    "\n"
   ]
  },
  {
   "cell_type": "code",
   "execution_count": 1,
   "metadata": {},
   "outputs": [],
   "source": [
    "from game import GameState\n",
    "\n",
    "game = GameState.new_game()\n",
    "for i in range(10000):\n",
    "    game.legal_moves()"
   ]
  }
 ],
 "metadata": {
  "kernelspec": {
   "display_name": "venv",
   "language": "python",
   "name": "python3"
  },
  "language_info": {
   "codemirror_mode": {
    "name": "ipython",
    "version": 3
   },
   "file_extension": ".py",
   "mimetype": "text/x-python",
   "name": "python",
   "nbconvert_exporter": "python",
   "pygments_lexer": "ipython3",
   "version": "3.8.8"
  },
  "orig_nbformat": 4
 },
 "nbformat": 4,
 "nbformat_minor": 2
}
