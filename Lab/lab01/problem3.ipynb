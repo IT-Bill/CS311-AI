{
 "cells": [
  {
   "cell_type": "markdown",
   "metadata": {},
   "source": [
    "### Snake: Simulate a snake game and print the game results.\n",
    "\n",
    "You are given a map that ‘x’ represents a rock, ‘-’represents a space, ‘#’represents the body of snake. ‘@’represent the head of the snake and a sequence of actions that ‘0,1,2,3’represent to move to up/down/left/right correspondingly for one step.\n",
    "A greedy snake starts in the map state and moves one step per unit of time according to the sequence of actions until all actions complete or fail. It will fail when the head and the stone overlap, the head goes beyond the boundary, or the head overlaps the body. \n",
    "\n",
    "#### Input\n",
    "A matrix with type char (the map). \n",
    "A sequence with type int (the motions). \n",
    "\n",
    "#### Output\n",
    "the the result of the game:\n",
    "If it failed, output the running time of the game.\n",
    "If it didn’t fail, output the final position of the head (in the form “%d, %d”)."
   ]
  },
  {
   "cell_type": "code",
   "execution_count": null,
   "metadata": {},
   "outputs": [],
   "source": [
    "\"\"\"\n",
    "Example:\n",
    "input:\n",
    "map:\n",
    "---------\n",
    "------x--\n",
    "-x-------\n",
    "---@-----\n",
    "---##----\n",
    "------x--\n",
    "--x----x-\n",
    "-x-------\n",
    "---------\n",
    "action:\n",
    "0 0 3 3 0 3 3 1 1 1 1 1 3 1 1 2 2 2 2 2\n",
    "\n",
    "output:\n",
    "7 3\n",
    "\"\"\""
   ]
  },
  {
   "cell_type": "code",
   "execution_count": 1,
   "metadata": {
    "pycharm": {
     "name": "#%%\n"
    }
   },
   "outputs": [],
   "source": [
    "\n",
    "def move(game_map, actions):\n",
    "    body = []\n",
    "\n",
    "    for i in range(len(game_map)):\n",
    "        for j in range(len(game_map[i])):\n",
    "            if game_map[i][j] == '@':\n",
    "                head_x = i\n",
    "                head_y = j\n",
    "                break\n",
    "\n",
    "    flag = [[0] * (len(game_map[i])) for i in range(len(game_map))]\n",
    "    \n",
    "    cur_x = head_x\n",
    "    cur_y = head_y\n",
    "    is_tail = False\n",
    "    while not is_tail:\n",
    "        is_tail = True\n",
    "        directs = [[cur_x - 1, cur_y],\n",
    "                   [cur_x + 1, cur_y],\n",
    "                   [cur_x, cur_y - 1],\n",
    "                   [cur_x, cur_y + 1]]\n",
    "        \n",
    "        for direct in directs:\n",
    "            x = direct[0]\n",
    "            y = direct[1]\n",
    "            if 0 <= x < len(game_map) and 0 <= y < len(game_map[0]) and game_map[x][y] == '#' and flag[x][y] == 0:\n",
    "                # 这个位置是body，而且没有被访问过\n",
    "                body.append([x, y])\n",
    "                flag[x][y] = 1\n",
    "                is_tail = False\n",
    "                cur_x = x\n",
    "                cur_y = y\n",
    "    # print(body)\n",
    "\n",
    "    move_dict = {0: [-1, 0], 1: [1, 0], 2: [0, -1], 3:[0, 1]}\n",
    "    for i, action in enumerate(actions):\n",
    "        del body[len(body) - 1]\n",
    "        body.insert(0, [head_x, head_y])\n",
    "        head_x += move_dict[action][0]\n",
    "        head_y += move_dict[action][1]\n",
    "\n",
    "        # 判断头是否撞到石头，身体，墙\n",
    "        if not (0 <= head_x < len(game_map) and 0 <= head_y < len(game_map[0]) and \\\n",
    "            game_map[head_x][head_y] != 'x' and \\\n",
    "            [head_x, head_y] not in body):\n",
    "\n",
    "            print(i + 1)\n",
    "            return\n",
    "    \n",
    "    print((head_x, head_y))\n",
    "\n",
    "\n",
    "    "
   ]
  },
  {
   "cell_type": "code",
   "execution_count": 2,
   "metadata": {
    "pycharm": {
     "name": "#%%\n"
    }
   },
   "outputs": [
    {
     "name": "stdout",
     "output_type": "stream",
     "text": [
      "(7, 3)\n",
      "11\n",
      "12\n",
      "33\n"
     ]
    }
   ],
   "source": [
    "# test block, you may need to modify this block.\n",
    "for test_case in range(1, 5):\n",
    "    with open(f'./test_cases/problem3/{test_case}-map.txt', 'r') as f:\n",
    "        game_map = [list(line.strip()) for line in f.readlines()]\n",
    "    with open(f'./test_cases/problem3/{test_case}-actions.txt', 'r') as f:\n",
    "        actions = [*map(int, f.read().split(' '))]\n",
    "    # print(actions)\n",
    "    move(game_map, actions)\n"
   ]
  }
 ],
 "metadata": {
  "kernelspec": {
   "display_name": "venv",
   "language": "python",
   "name": "python3"
  },
  "language_info": {
   "codemirror_mode": {
    "name": "ipython",
    "version": 3
   },
   "file_extension": ".py",
   "mimetype": "text/x-python",
   "name": "python",
   "nbconvert_exporter": "python",
   "pygments_lexer": "ipython3",
   "version": "3.10.9"
  },
  "vscode": {
   "interpreter": {
    "hash": "e03d9bf61560fbe9065c6c0f5969f2b93392fe3a4ac69fa6d38874fb95dd7d7c"
   }
  }
 },
 "nbformat": 4,
 "nbformat_minor": 1
}
