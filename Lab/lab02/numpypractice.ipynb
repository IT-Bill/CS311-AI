{
 "cells": [
  {
   "cell_type": "code",
   "execution_count": 2,
   "id": "c6d4c1e2",
   "metadata": {},
   "outputs": [],
   "source": [
    "import numpy as np"
   ]
  },
  {
   "cell_type": "markdown",
   "id": "64da1d8e",
   "metadata": {},
   "source": [
    "## Practice\n",
    "\n",
    "1. Create a 10*10 ndarray object, and the matrix boundary value is 1, and the rest are 0.\n"
   ]
  },
  {
   "cell_type": "code",
   "execution_count": 14,
   "id": "035382e3",
   "metadata": {},
   "outputs": [
    {
     "data": {
      "text/plain": [
       "array([[1., 1., 1., 1., 1., 1., 1., 1., 1., 1.],\n",
       "       [1., 0., 0., 0., 0., 0., 0., 0., 0., 1.],\n",
       "       [1., 0., 0., 0., 0., 0., 0., 0., 0., 1.],\n",
       "       [1., 0., 0., 0., 0., 0., 0., 0., 0., 1.],\n",
       "       [1., 0., 0., 0., 0., 0., 0., 0., 0., 1.],\n",
       "       [1., 0., 0., 0., 0., 0., 0., 0., 0., 1.],\n",
       "       [1., 0., 0., 0., 0., 0., 0., 0., 0., 1.],\n",
       "       [1., 0., 0., 0., 0., 0., 0., 0., 0., 1.],\n",
       "       [1., 0., 0., 0., 0., 0., 0., 0., 0., 1.],\n",
       "       [1., 1., 1., 1., 1., 1., 1., 1., 1., 1.]])"
      ]
     },
     "execution_count": 14,
     "metadata": {},
     "output_type": "execute_result"
    }
   ],
   "source": [
    "#1\n",
    "m = np.zeros((10, 10))\n",
    "m[0, :] = m[:, 0] = m[m.shape[0] - 1, :] = m[:, m.shape[1] - 1] = 1\n",
    "m"
   ]
  },
  {
   "cell_type": "markdown",
   "id": "8d3b3c80",
   "metadata": {},
   "source": [
    "2. Create a 5*5 matrix with each row being 0 to 4"
   ]
  },
  {
   "cell_type": "code",
   "execution_count": 8,
   "id": "6c26347e",
   "metadata": {},
   "outputs": [
    {
     "data": {
      "text/plain": [
       "array([[0, 1, 2, 3, 4],\n",
       "       [0, 1, 2, 3, 4],\n",
       "       [0, 1, 2, 3, 4],\n",
       "       [0, 1, 2, 3, 4],\n",
       "       [0, 1, 2, 3, 4]])"
      ]
     },
     "execution_count": 8,
     "metadata": {},
     "output_type": "execute_result"
    }
   ],
   "source": [
    "#2\n",
    "np.tile(np.arange(5), (5, 1))"
   ]
  },
  {
   "cell_type": "markdown",
   "id": "8b226308",
   "metadata": {},
   "source": [
    "3. Create an 8*8 matrix and fill it with a checkerboard pattern, like [[0,1],[1,0]])"
   ]
  },
  {
   "cell_type": "code",
   "execution_count": 16,
   "id": "e83e8494",
   "metadata": {},
   "outputs": [
    {
     "data": {
      "text/plain": [
       "array([[0, 1, 0, 1, 0, 1, 0, 1],\n",
       "       [1, 0, 1, 0, 1, 0, 1, 0],\n",
       "       [0, 1, 0, 1, 0, 1, 0, 1],\n",
       "       [1, 0, 1, 0, 1, 0, 1, 0],\n",
       "       [0, 1, 0, 1, 0, 1, 0, 1],\n",
       "       [1, 0, 1, 0, 1, 0, 1, 0],\n",
       "       [0, 1, 0, 1, 0, 1, 0, 1],\n",
       "       [1, 0, 1, 0, 1, 0, 1, 0]])"
      ]
     },
     "execution_count": 16,
     "metadata": {},
     "output_type": "execute_result"
    }
   ],
   "source": [
    "#3\n",
    "np.tile([[0, 1], [1, 0]], (4, 4))"
   ]
  },
  {
   "cell_type": "markdown",
   "id": "04663245",
   "metadata": {},
   "source": [
    "4. output all the odd numbers in the array  \n",
    "   Example:  \n",
    "   in:    arr = np.array([0, 1, 2, 3, 4, 5, 6, 7, 8, 9])  \n",
    "   out:   array([1, 3, 5, 7, 9])  "
   ]
  },
  {
   "cell_type": "code",
   "execution_count": 26,
   "id": "7964df33",
   "metadata": {},
   "outputs": [
    {
     "data": {
      "text/plain": [
       "array([1, 3, 5, 7, 9])"
      ]
     },
     "execution_count": 26,
     "metadata": {},
     "output_type": "execute_result"
    }
   ],
   "source": [
    "#4\n",
    "arr = np.arange(10)\n",
    "arr[arr % 2 != 0]"
   ]
  },
  {
   "cell_type": "markdown",
   "id": "fc506104",
   "metadata": {},
   "source": [
    "5. Normalize a 5x5 random matrix "
   ]
  },
  {
   "cell_type": "code",
   "execution_count": 71,
   "id": "972284fd",
   "metadata": {},
   "outputs": [
    {
     "data": {
      "text/plain": [
       "(array([[0.14282765, 0.10992318, 0.53240462, 0.88967572, 0.73738522],\n",
       "        [0.74248004, 0.93218686, 0.17477833, 0.15542793, 0.36357179],\n",
       "        [0.01533608, 0.69071505, 0.22093057, 0.57538365, 0.95459564],\n",
       "        [0.29741751, 0.98279118, 0.76701543, 0.08494154, 0.64409124],\n",
       "        [0.63505991, 0.99626661, 0.82055881, 0.90085168, 0.004709  ]]),\n",
       " array([[-1.16712837, -1.26509074, -0.00728929,  1.05636953,  0.60297398],\n",
       "        [ 0.61814214,  1.18293268, -1.07200557, -1.12961511, -0.50993427],\n",
       "        [-1.54669316,  0.46402867, -0.93460225,  0.12066683,  1.24964755],\n",
       "        [-0.7068872 ,  1.33359061,  0.69118831, -1.33946547,  0.32522141],\n",
       "        [ 0.29833354,  1.37370933,  0.85059636,  1.08964233, -1.57833184]]))"
      ]
     },
     "execution_count": 71,
     "metadata": {},
     "output_type": "execute_result"
    }
   ],
   "source": [
    "#5\n",
    "a = np.random.rand(5, 5)\n",
    "nor = (a - np.mean(a)) / np.std(a)\n",
    "a, nor"
   ]
  },
  {
   "cell_type": "markdown",
   "id": "df87456c",
   "metadata": {},
   "source": [
    "6. Consider a random 10x2 matrix representing cartesian coordinates, convert them to polar coordinates."
   ]
  },
  {
   "cell_type": "code",
   "execution_count": 77,
   "id": "125feb23",
   "metadata": {},
   "outputs": [
    {
     "data": {
      "text/plain": [
       "(array([ 1.32594791, -1.81488632, -0.42911223,  0.20423453,  0.25347684,\n",
       "        -0.31562479, -0.31159246, -1.43152229, -1.60202537, -0.90809207]),\n",
       " array([-0.45601762,  0.27122364, -0.61604261, -0.60368979, -0.23215438,\n",
       "        -1.04131417,  0.23352053,  0.59009222, -2.23685773, -1.03331298]),\n",
       " array([1.40217328, 1.83504077, 0.75076348, 0.63730142, 0.34372397,\n",
       "        1.08809659, 0.38938631, 1.54837492, 2.75136653, 1.37563328]),\n",
       " array([-0.3312465 ,  2.99324664, -2.17921157, -1.24457312, -0.74151966,\n",
       "        -1.86509689,  2.49844864,  2.75060229, -2.19230865, -2.29178357]),\n",
       " array([ -18.9790262 ,  171.50039941, -124.85962538,  -71.30878696,\n",
       "         -42.48594714, -106.86218039,  143.15056263,  157.59790247,\n",
       "        -125.61003288, -131.30952612]))"
      ]
     },
     "execution_count": 77,
     "metadata": {},
     "output_type": "execute_result"
    }
   ],
   "source": [
    "#6\n",
    "x = np.random.randn(10)\n",
    "y = np.random.randn(10)\n",
    "\n",
    "r = (x ** 2 + y ** 2) ** (0.5) \n",
    "p1 = np.arctan2(y, x)\n",
    "p2 = np.arctan2(y, x) * 180 / np.pi\n",
    "\n",
    "x, y, r, p1, p2"
   ]
  },
  {
   "attachments": {},
   "cell_type": "markdown",
   "id": "c1cedf1f",
   "metadata": {},
   "source": [
    "7. Consider the vector [1, 2, 3, 4, 5], how to build a new vector with 3 consecutive zeros interleaved between each value?\n",
    "[1 0 0 0 2 0 0 0 3 0 0 0 4 0 0 0 5]"
   ]
  },
  {
   "cell_type": "code",
   "execution_count": 57,
   "id": "c8a88dfd",
   "metadata": {},
   "outputs": [
    {
     "data": {
      "text/plain": [
       "array([1., 0., 0., 0., 2., 0., 0., 0., 3., 0., 0., 0., 4., 0., 0., 0., 5.])"
      ]
     },
     "execution_count": 57,
     "metadata": {},
     "output_type": "execute_result"
    }
   ],
   "source": [
    "#7\n",
    "a1 = np.arange(1, 6)\n",
    "nz = 3\n",
    "a2 = np.zeros(len(a1) + (len(a1) - 1) * (nz))\n",
    "a2[::nz + 1] = a1\n",
    "a2"
   ]
  },
  {
   "attachments": {},
   "cell_type": "markdown",
   "id": "c7ea103c",
   "metadata": {},
   "source": [
    "8. What are the result of the following expressions?\n",
    "\n",
    "0 * np.nan\n",
    "\n",
    "np.nan == np.nan\n",
    "\n",
    "np.inf > np.nan\n",
    "\n",
    "np.nan - np.nan\n",
    "\n",
    "np.nan in set([np.nan])\n",
    "\n",
    "0.3 == 3 * 0.1 \n",
    "\n",
    "hint\n",
    "- nan means not a number \n",
    "- 0.1(10) == 0.0001100110011001100110011001100110011001100110011...(2)\n",
    "First guess a result, then print the result, and finally find why"
   ]
  },
  {
   "cell_type": "code",
   "execution_count": 58,
   "id": "ee65170c",
   "metadata": {},
   "outputs": [
    {
     "data": {
      "text/plain": [
       "nan"
      ]
     },
     "execution_count": 58,
     "metadata": {},
     "output_type": "execute_result"
    }
   ],
   "source": [
    "#8\n",
    "0 * np.nan"
   ]
  },
  {
   "cell_type": "code",
   "execution_count": 61,
   "id": "e9ff6c9b",
   "metadata": {},
   "outputs": [
    {
     "data": {
      "text/plain": [
       "False"
      ]
     },
     "execution_count": 61,
     "metadata": {},
     "output_type": "execute_result"
    }
   ],
   "source": [
    "np.nan == np.nan"
   ]
  },
  {
   "cell_type": "code",
   "execution_count": 62,
   "id": "86d368c2",
   "metadata": {},
   "outputs": [
    {
     "data": {
      "text/plain": [
       "False"
      ]
     },
     "execution_count": 62,
     "metadata": {},
     "output_type": "execute_result"
    }
   ],
   "source": [
    "np.inf > np.nan"
   ]
  },
  {
   "cell_type": "code",
   "execution_count": 63,
   "id": "e1851b44",
   "metadata": {},
   "outputs": [
    {
     "data": {
      "text/plain": [
       "nan"
      ]
     },
     "execution_count": 63,
     "metadata": {},
     "output_type": "execute_result"
    }
   ],
   "source": [
    "np.nan - np.nan"
   ]
  },
  {
   "cell_type": "code",
   "execution_count": 72,
   "id": "8c9a87f1",
   "metadata": {},
   "outputs": [
    {
     "data": {
      "text/plain": [
       "True"
      ]
     },
     "execution_count": 72,
     "metadata": {},
     "output_type": "execute_result"
    }
   ],
   "source": [
    "np.nan in set([np.nan])"
   ]
  },
  {
   "cell_type": "code",
   "execution_count": 73,
   "id": "f622b949",
   "metadata": {},
   "outputs": [
    {
     "data": {
      "text/plain": [
       "False"
      ]
     },
     "execution_count": 73,
     "metadata": {},
     "output_type": "execute_result"
    }
   ],
   "source": [
    "0.3 == 3 * 0.1"
   ]
  },
  {
   "cell_type": "markdown",
   "id": "7218ef9e",
   "metadata": {},
   "source": [
    "9. What are the result of the following expressions? (Hint: the type of pn.nan is float)\n",
    "\n",
    "np.array(0) / np.array(0)\n",
    "\n",
    "np.array(0) // np.array(0)\n",
    "\n",
    "np.array([np.nan]).astype(int).astype(float)\n",
    "\n",
    "\n",
    "First guess a result, then print the result, and finally find why "
   ]
  },
  {
   "cell_type": "code",
   "execution_count": 74,
   "id": "cc0b2732",
   "metadata": {},
   "outputs": [
    {
     "name": "stderr",
     "output_type": "stream",
     "text": [
      "C:\\Users\\itbil\\AppData\\Local\\Temp\\ipykernel_20264\\3765654225.py:2: RuntimeWarning: invalid value encountered in divide\n",
      "  np.array(0) / np.array(0)\n"
     ]
    },
    {
     "data": {
      "text/plain": [
       "nan"
      ]
     },
     "execution_count": 74,
     "metadata": {},
     "output_type": "execute_result"
    }
   ],
   "source": [
    "#9\n",
    "np.array(0) / np.array(0)"
   ]
  },
  {
   "cell_type": "code",
   "execution_count": 75,
   "id": "127bfb1e",
   "metadata": {},
   "outputs": [
    {
     "name": "stderr",
     "output_type": "stream",
     "text": [
      "C:\\Users\\itbil\\AppData\\Local\\Temp\\ipykernel_20264\\2018018105.py:1: RuntimeWarning: divide by zero encountered in floor_divide\n",
      "  np.array(0) // np.array(0)\n"
     ]
    },
    {
     "data": {
      "text/plain": [
       "0"
      ]
     },
     "execution_count": 75,
     "metadata": {},
     "output_type": "execute_result"
    }
   ],
   "source": [
    "np.array(0) // np.array(0)"
   ]
  },
  {
   "cell_type": "code",
   "execution_count": 76,
   "id": "3f9635c1",
   "metadata": {},
   "outputs": [
    {
     "name": "stderr",
     "output_type": "stream",
     "text": [
      "C:\\Users\\itbil\\AppData\\Local\\Temp\\ipykernel_20264\\699728972.py:1: RuntimeWarning: invalid value encountered in cast\n",
      "  np.array([np.nan]).astype(int).astype(float)\n"
     ]
    },
    {
     "data": {
      "text/plain": [
       "array([-2.14748365e+09])"
      ]
     },
     "execution_count": 76,
     "metadata": {},
     "output_type": "execute_result"
    }
   ],
   "source": [
    "np.array([np.nan]).astype(int).astype(float)"
   ]
  }
 ],
 "metadata": {
  "kernelspec": {
   "display_name": "venv",
   "language": "python",
   "name": "python3"
  },
  "language_info": {
   "codemirror_mode": {
    "name": "ipython",
    "version": 3
   },
   "file_extension": ".py",
   "mimetype": "text/x-python",
   "name": "python",
   "nbconvert_exporter": "python",
   "pygments_lexer": "ipython3",
   "version": "3.10.9"
  },
  "vscode": {
   "interpreter": {
    "hash": "e03d9bf61560fbe9065c6c0f5969f2b93392fe3a4ac69fa6d38874fb95dd7d7c"
   }
  }
 },
 "nbformat": 4,
 "nbformat_minor": 5
}
