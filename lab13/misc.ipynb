{
 "cells": [
  {
   "cell_type": "code",
   "execution_count": 49,
   "metadata": {},
   "outputs": [],
   "source": [
    "data = \"\"\"\n",
    "            6'd0 : music <= 5'd13;\n",
    "            6'd1 : music <= 5'd13;\n",
    "            6'd2 : music <= 5'd13;\n",
    "            6'd3 : music <= 5'd12;\n",
    "            6'd4 : music <= 5'd10;\n",
    "            6'd5 : music <= 5'd10;\n",
    "            6'd6 : music <= 5'd12;\n",
    "            6'd7 : music <= 5'd12;\n",
    "           \n",
    "            6'd8 : music <= 5'd15;\n",
    "            6'd9 : music <= 5'd15;\n",
    "            6'd10 : music <= 5'd13;\n",
    "            6'd11 : music <= 5'd12;\n",
    "            6'd12 : music <= 5'd13;\n",
    "            6'd13 : music <= 5'd13;\n",
    "            6'd14 : music <= 5'd13;\n",
    "            6'd15 : music <= 5'd13;\n",
    "\n",
    "            6'd16 : music <= 5'd10;\n",
    "            6'd17 : music <= 5'd10;\n",
    "            6'd18 : music <= 5'd12;\n",
    "            6'd19 : music <= 5'd13;\n",
    "            6'd20 : music <= 5'd12;\n",
    "            6'd21 : music <= 5'd12;\n",
    "            6'd22 : music <= 5'd10;\n",
    "            6'd23 : music <= 5'd10;\n",
    "\n",
    "            6'd24 : music <= 5'd8;\n",
    "            6'd25 : music <= 5'd6;\n",
    "            6'd26 : music <= 5'd12;\n",
    "            6'd27 : music <= 5'd10;\n",
    "            6'd28 : music <= 5'd9;\n",
    "            6'd29 : music <= 5'd9;\n",
    "            6'd30 : music <= 5'd9;\n",
    "            6'd31 : music <= 5'd9;\n",
    "\n",
    "            6'd32 : music <= 5'd9;\n",
    "            6'd33 : music <= 5'd9;\n",
    "            6'd34 : music <= 5'd9;\n",
    "            6'd35 : music <= 5'd10;\n",
    "            6'd36 : music <= 5'd12;\n",
    "            6'd37 : music <= 5'd12;\n",
    "            6'd38 : music <= 5'd13;\n",
    "            6'd39 : music <= 5'd13;\n",
    "\n",
    "            6'd32 : music <= 5'd9;\n",
    "            6'd33 : music <= 5'd9;\n",
    "            6'd34 : music <= 5'd9;\n",
    "            6'd35 : music <= 5'd10;\n",
    "            6'd36 : music <= 5'd12;\n",
    "            6'd37 : music <= 5'd12;\n",
    "            6'd38 : music <= 5'd13;\n",
    "            6'd39 : music <= 5'd13;\n",
    "\n",
    "            6'd40 : music <= 5'd10;\n",
    "            6'd41 : music <= 5'd10;\n",
    "            6'd42 : music <= 5'd10;\n",
    "            6'd43 : music <= 5'd9;\n",
    "            6'd44 : music <= 5'd8;\n",
    "            6'd45 : music <= 5'd8;\n",
    "            6'd46 : music <= 5'd8;\n",
    "            6'd47 : music <= 5'd8;\n",
    "\n",
    "            6'd48 : music <= 5'd12;\n",
    "            6'd49 : music <= 5'd12;\n",
    "            6'd50 : music <= 5'd12;\n",
    "            6'd51 : music <= 5'd10;\n",
    "            6'd52 : music <= 5'd9;\n",
    "            6'd53 : music <= 5'd8;\n",
    "            6'd54 : music <= 5'd6;\n",
    "            6'd55 : music <= 5'd8;\n",
    "\n",
    "            6'd56 : music <= 5'd5;\n",
    "            6'd57 : music <= 5'd5;\n",
    "            6'd58 : music <= 5'd5;\n",
    "            6'd59 : music <= 5'd5;\n",
    "            6'd60 : music <= 5'd5;\n",
    "            6'd61 : music <= 5'd5;\n",
    "            6'd62 : music <= 5'd5;\n",
    "            6'd63 : music <= 5'd5;\n",
    "\"\"\""
   ]
  },
  {
   "cell_type": "code",
   "execution_count": 50,
   "metadata": {},
   "outputs": [
    {
     "data": {
      "text/plain": [
       "[\"6'd0 : music <= 5'd13;\",\n",
       " \"6'd1 : music <= 5'd13;\",\n",
       " \"6'd2 : music <= 5'd13;\",\n",
       " \"6'd3 : music <= 5'd12;\",\n",
       " \"6'd4 : music <= 5'd10;\",\n",
       " \"6'd5 : music <= 5'd10;\",\n",
       " \"6'd6 : music <= 5'd12;\",\n",
       " \"6'd7 : music <= 5'd12;\",\n",
       " \"6'd8 : music <= 5'd15;\",\n",
       " \"6'd9 : music <= 5'd15;\",\n",
       " \"6'd10 : music <= 5'd13;\",\n",
       " \"6'd11 : music <= 5'd12;\",\n",
       " \"6'd12 : music <= 5'd13;\",\n",
       " \"6'd13 : music <= 5'd13;\",\n",
       " \"6'd14 : music <= 5'd13;\",\n",
       " \"6'd15 : music <= 5'd13;\",\n",
       " \"6'd16 : music <= 5'd10;\",\n",
       " \"6'd17 : music <= 5'd10;\",\n",
       " \"6'd18 : music <= 5'd12;\",\n",
       " \"6'd19 : music <= 5'd13;\",\n",
       " \"6'd20 : music <= 5'd12;\",\n",
       " \"6'd21 : music <= 5'd12;\",\n",
       " \"6'd22 : music <= 5'd10;\",\n",
       " \"6'd23 : music <= 5'd10;\",\n",
       " \"6'd24 : music <= 5'd8;\",\n",
       " \"6'd25 : music <= 5'd6;\",\n",
       " \"6'd26 : music <= 5'd12;\",\n",
       " \"6'd27 : music <= 5'd10;\",\n",
       " \"6'd28 : music <= 5'd9;\",\n",
       " \"6'd29 : music <= 5'd9;\",\n",
       " \"6'd30 : music <= 5'd9;\",\n",
       " \"6'd31 : music <= 5'd9;\",\n",
       " \"6'd32 : music <= 5'd9;\",\n",
       " \"6'd33 : music <= 5'd9;\",\n",
       " \"6'd34 : music <= 5'd9;\",\n",
       " \"6'd35 : music <= 5'd10;\",\n",
       " \"6'd36 : music <= 5'd12;\",\n",
       " \"6'd37 : music <= 5'd12;\",\n",
       " \"6'd38 : music <= 5'd13;\",\n",
       " \"6'd39 : music <= 5'd13;\",\n",
       " \"6'd32 : music <= 5'd9;\",\n",
       " \"6'd33 : music <= 5'd9;\",\n",
       " \"6'd34 : music <= 5'd9;\",\n",
       " \"6'd35 : music <= 5'd10;\",\n",
       " \"6'd36 : music <= 5'd12;\",\n",
       " \"6'd37 : music <= 5'd12;\",\n",
       " \"6'd38 : music <= 5'd13;\",\n",
       " \"6'd39 : music <= 5'd13;\",\n",
       " \"6'd40 : music <= 5'd10;\",\n",
       " \"6'd41 : music <= 5'd10;\",\n",
       " \"6'd42 : music <= 5'd10;\",\n",
       " \"6'd43 : music <= 5'd9;\",\n",
       " \"6'd44 : music <= 5'd8;\",\n",
       " \"6'd45 : music <= 5'd8;\",\n",
       " \"6'd46 : music <= 5'd8;\",\n",
       " \"6'd47 : music <= 5'd8;\",\n",
       " \"6'd48 : music <= 5'd12;\",\n",
       " \"6'd49 : music <= 5'd12;\",\n",
       " \"6'd50 : music <= 5'd12;\",\n",
       " \"6'd51 : music <= 5'd10;\",\n",
       " \"6'd52 : music <= 5'd9;\",\n",
       " \"6'd53 : music <= 5'd8;\",\n",
       " \"6'd54 : music <= 5'd6;\",\n",
       " \"6'd55 : music <= 5'd8;\",\n",
       " \"6'd56 : music <= 5'd5;\",\n",
       " \"6'd57 : music <= 5'd5;\",\n",
       " \"6'd58 : music <= 5'd5;\",\n",
       " \"6'd59 : music <= 5'd5;\",\n",
       " \"6'd60 : music <= 5'd5;\",\n",
       " \"6'd61 : music <= 5'd5;\",\n",
       " \"6'd62 : music <= 5'd5;\",\n",
       " \"6'd63 : music <= 5'd5;\"]"
      ]
     },
     "execution_count": 50,
     "metadata": {},
     "output_type": "execute_result"
    }
   ],
   "source": [
    "arr = [s.strip() for s in data.strip().split(\"\\n\") if s != \"\"]\n",
    "arr.remove(\"\")\n",
    "arr"
   ]
  },
  {
   "cell_type": "code",
   "execution_count": 56,
   "metadata": {},
   "outputs": [
    {
     "name": "stdout",
     "output_type": "stream",
     "text": [
      "13, 13, 13, 12, 10, 10, 12, 12, 15, 15, 13, 12, 13, 13, 13, 13, 10, 10, 12, 13, 12, 12, 10, 10, 8, 6, 12, 10, 9, 9, 9, 9, 9, 9, 9, 10, 12, 12, 13, 13, 9, 9, 9, 10, 12, 12, 13, 13, 10, 10, 10, 9, 8, 8, 8, 8, 12, 12, 12, 10, 9, 8, 6, 8, 5, 5, 5, 5, 5, 5, 5, 5\n"
     ]
    }
   ],
   "source": [
    "print(', '.join([a.split(\"5'd\")[1][:-1] for a in arr]))"
   ]
  },
  {
   "cell_type": "code",
   "execution_count": 60,
   "metadata": {},
   "outputs": [
    {
     "name": "stdout",
     "output_type": "stream",
     "text": [
      "8, 8, 8, 8, 8, 9, 9, 9, 9, 9, 10, 10, 10, 10, 10, 11, 11, 11, 11, 11, 12, 12, 12, 12, 12, 13, 13, 13, 13, 13, 14, 14, 14, 14, 14\n"
     ]
    }
   ],
   "source": [
    "arr = []\n",
    "for i in range(8, 15):\n",
    "    for j in range(5):\n",
    "        arr.append(str(i))\n",
    "print(\", \".join(arr))"
   ]
  },
  {
   "cell_type": "code",
   "execution_count": 2,
   "metadata": {},
   "outputs": [
    {
     "data": {
      "text/plain": [
       "93"
      ]
     },
     "execution_count": 2,
     "metadata": {},
     "output_type": "execute_result"
    }
   ],
   "source": [
    "len(\"8, 8,0,0, 0, 0, 0,8, 8, 0,0, 0, 0, 0,12, 12,0,0, 0, 0, 0, 12, 12,0, 0, 0, 0, 0,13, 13,0, 0, 0, 0, 0,13, 13,0,0, 0, 0, 0,12,12, 0,0, 0, 0, 0,11, 11,0,0, 0, 0, 0,11, 11, 0,0, 0, 0, 0,10, 10,0,0, 0, 0, 0,10, 10, 0,0, 0, 0, 0,9, 9, 0,0, 0, 0, 0,9, 9,0,0, 0, 0, 0,8, 8\".split(\",\"))"
   ]
  },
  {
   "cell_type": "code",
   "execution_count": null,
   "metadata": {},
   "outputs": [],
   "source": [
    "13, 13, 13, 12, 10, 10, 12, 12, 15, 15, 13, 12, 13, 13, 13, 13, 10, 10, 12, 13, 12, 12, 10, 10, 8, 6, 12, 10, 9, 9, 9, 9, 9, 9, 9, 10, 12, 12, 13, 13, 9, 9, 9, 10, 12, 12, 13, 13, 10, 10, 10, 9, 8, 8, 8, 8, 12, 12, 12, 10, 9, 8, 6, 8, 5, 5, 5, 5, 5, 5, 5, 5"
   ]
  }
 ],
 "metadata": {
  "kernelspec": {
   "display_name": "venv",
   "language": "python",
   "name": "python3"
  },
  "language_info": {
   "codemirror_mode": {
    "name": "ipython",
    "version": 3
   },
   "file_extension": ".py",
   "mimetype": "text/x-python",
   "name": "python",
   "nbconvert_exporter": "python",
   "pygments_lexer": "ipython3",
   "version": "3.10.9"
  },
  "orig_nbformat": 4
 },
 "nbformat": 4,
 "nbformat_minor": 2
}
