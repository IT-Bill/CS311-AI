{
 "cells": [
  {
   "cell_type": "code",
   "execution_count": 2,
   "metadata": {
    "pycharm": {
     "name": "#%%\n"
    }
   },
   "outputs": [],
   "source": [
    "%load_ext autoreload\n",
    "%autoreload 2\n",
    "import random\n",
    "import numpy as np\n",
    "import matplotlib.pyplot as plt\n",
    "from utils import plot_NQueens, plot_evolution"
   ]
  },
  {
   "cell_type": "markdown",
   "metadata": {
    "pycharm": {
     "name": "#%% md\n"
    }
   },
   "source": [
    "# Local Search: Genetic Algorithm\n",
    "\n",
    "## 1.Genrating Phrases\n",
    "\n",
    "In this section we consider a toy problem: generating a target phrases (e.g. \"genetic algorithm\") from an initial polupation of random strings. Assume the length of the target is known.\n",
    "\n",
    "Problem Formulation: \n",
    "\n",
    "1. Direct Representation: just strings.\n",
    "2. Exponential Search Space: $m^l$ where $m$ is the size of the alphabet (set of characters in our interest) and $l$ is the length of the string.\n",
    "\n",
    "Now that we want to solve it with GA:\n",
    "1. Chromesome: directly use the string itself.\n",
    "2. Fitness: how match/close an individual is to the target.\n",
    "3. Mating: combine two strings in someway to generate a new one.\n",
    "\n",
    "The following cells will walk you through this problem to show the basic idea of GA"
   ]
  },
  {
   "cell_type": "code",
   "execution_count": 3,
   "metadata": {
    "pycharm": {
     "name": "#%%\n"
    }
   },
   "outputs": [
    {
     "data": {
      "text/plain": [
       "['IcjBcyHBo VEPkLIw',\n",
       " 'VMYKeRaCUQrkaXpUf',\n",
       " 'dz LCWOgb KSpCJcL',\n",
       " 'wuAtxQTqdEdvoSxIA',\n",
       " 'vAOksirgPyjg SlOF',\n",
       " 'MFzyIRtYFczzeLpfM',\n",
       " 'hjTyvKfgUzSuJoxSY',\n",
       " 'tcVthRxfOe mIlOBN',\n",
       " 'HEPmAnGTCfSwelapj',\n",
       " 'fl xQoGPxSHVlMpLh']"
      ]
     },
     "execution_count": 3,
     "metadata": {},
     "output_type": "execute_result"
    }
   ],
   "source": [
    "# setting up the problem\n",
    "target = 'Genetic Algorithm'\n",
    "u_case = [chr(x) for x in range(65, 91)]\n",
    "l_case = [chr(x) for x in range(97, 123)]\n",
    "gene_pool = u_case + l_case + [' '] # all English chracters and white space\n",
    "\n",
    "def init_population(pop_size, gene_pool, state_length):\n",
    "    \"\"\"\n",
    "    Randomly initialize a population for genetic algorithm\n",
    "        pop_size  :  Number of individuals in population\n",
    "        gene_pool   :  List of possible values for individuals\n",
    "        state_length:  The length of each individual\n",
    "    \"\"\"\n",
    "\n",
    "    population = []\n",
    "    for _ in range(pop_size):\n",
    "        new_individual = \"\".join(random.choices(gene_pool, k=state_length))\n",
    "        population.append(new_individual)\n",
    "\n",
    "    return population\n",
    "\n",
    "# test\n",
    "init_pop = init_population(10, gene_pool, len(target))\n",
    "init_pop"
   ]
  },
  {
   "cell_type": "code",
   "execution_count": 4,
   "metadata": {
    "pycharm": {
     "name": "#%%\n"
    }
   },
   "outputs": [
    {
     "name": "stdout",
     "output_type": "stream",
     "text": [
      "0 0 0 0 1 0 0 0 0 0 "
     ]
    }
   ],
   "source": [
    "def fitness_fn(sample):\n",
    "    # TODO: evaluate how close *sample* is to the target\n",
    "    cnt = 0\n",
    "    for i in range(len(sample)):\n",
    "        if target[i] == sample[i]:\n",
    "            cnt += 1\n",
    "    return cnt\n",
    "\n",
    "# test\n",
    "for i in range(10):\n",
    "    print(fitness_fn(init_pop[i]), end=\" \")"
   ]
  },
  {
   "cell_type": "code",
   "execution_count": 5,
   "metadata": {
    "pycharm": {
     "name": "#%%\n"
    }
   },
   "outputs": [
    {
     "data": {
      "text/plain": [
       "['vAOksirgPyjg SlOF', 'IcjBcyHBo VEPkLIw']"
      ]
     },
     "execution_count": 5,
     "metadata": {},
     "output_type": "execute_result"
    }
   ],
   "source": [
    "def select(r, population, fitness_fn):\n",
    "    \"\"\"\n",
    "    TODO: select *r* samples from *population*\n",
    "    the simplest choice is to sample from *population* with each individual weighted by its fitness\n",
    "    \"\"\"\n",
    "    new_population = sorted(population, key=lambda x: fitness_fn(x), reverse=True)\n",
    "    return new_population[:r]\n",
    "\n",
    "# test\n",
    "parents = select(2, init_pop, fitness_fn)\n",
    "parents"
   ]
  },
  {
   "cell_type": "code",
   "execution_count": 6,
   "metadata": {
    "pycharm": {
     "name": "#%%\n"
    }
   },
   "outputs": [
    {
     "data": {
      "text/plain": [
       "'vcjksiHBP jE SLIF'"
      ]
     },
     "execution_count": 6,
     "metadata": {},
     "output_type": "execute_result"
    }
   ],
   "source": [
    "def recombine(x, y):\n",
    "    \"\"\"\n",
    "    TODO: combine two parents to produce an offspring\n",
    "    \"\"\"\n",
    "    new = []\n",
    "    for i in range(len(x)):\n",
    "        r = random.randint(1, 100)\n",
    "        new.append(x[i] if r % 2 == 0 else y[i])\n",
    "    return \"\".join(new)\n",
    "    \n",
    "\n",
    "def mutate(x, gene_pool, pmut):\n",
    "    \"\"\"\n",
    "    apply mutation to *x* by randomly replacing one of its gene from *gene_pool*\n",
    "    \"\"\"\n",
    "    if random.uniform(0, 1) >= pmut:\n",
    "        return x\n",
    "\n",
    "    n = len(x)\n",
    "    g = len(gene_pool)\n",
    "    c = random.randrange(0, n)\n",
    "    r = random.randrange(0, g)\n",
    "\n",
    "    new_gene = gene_pool[r]\n",
    "    return x[:c] + new_gene + x[c + 1:]\n",
    "\n",
    "# test\n",
    "child = mutate(recombine(*parents), gene_pool, 0.1)\n",
    "child"
   ]
  },
  {
   "cell_type": "code",
   "execution_count": 7,
   "metadata": {
    "pycharm": {
     "name": "#%%\n"
    }
   },
   "outputs": [],
   "source": [
    "# now refactor things into a *Problem* abstraction\n",
    "# you can directly reuse what you have implemented above\n",
    "from abc import ABC, abstractmethod\n",
    "\n",
    "class GAProblem(ABC):\n",
    "    @abstractmethod\n",
    "    def init_population(self, pop_size): pass\n",
    "\n",
    "    @abstractmethod\n",
    "    def fitness(self, sample): pass\n",
    "\n",
    "    @abstractmethod\n",
    "    def reproduce(self, population): pass\n",
    "\n",
    "    @abstractmethod\n",
    "    def replacement(self, old, new): pass\n",
    "\n",
    "class PhraseGeneration(GAProblem):\n",
    "    def __init__(self, target, alphabet):\n",
    "        self.target = target\n",
    "        self.alphabet = alphabet\n",
    "        self.pop_size = None\n",
    "\n",
    "    def init_population(self, pop_size):\n",
    "        # raise NotImplementedError()\n",
    "        choice = lambda: \"\".join(random.choices(self.alphabet, k = len(self.target)))\n",
    "        population = [choice() for _ in range(pop_size)]\n",
    "        self.pop_size = pop_size\n",
    "        return population\n",
    "\n",
    "\n",
    "    def fitness(self, sample):\n",
    "        # TODO: evaluate how close *sample* is to the target\n",
    "        cnt = 0\n",
    "        for i in range(len(self.target)):\n",
    "            if self.target[i] == sample[i]:\n",
    "                cnt += 1\n",
    "        return cnt\n",
    "    \n",
    "    def reproduce(self, population, mutation_rate):\n",
    "        \"\"\"\n",
    "        TODO: generate the next generation of population\n",
    "        hint: make a new individual with \n",
    "        mutate(recombine(*select(2, population, fitness_fn)), gene_pool, pmut)\n",
    "        \"\"\"\n",
    "        child = lambda: self.mutate(self.recombine(*self.select(2, population)), mutation_rate)\n",
    "        return [child() for _ in range(len(population) // 2)]\n",
    "    \n",
    "    def replacement(self, old, new):\n",
    "        \"\"\"\n",
    "        You can use your own strategy, for example retain some solutions from the old population\n",
    "        \"\"\"\n",
    "        return sorted(old + new, key=lambda x: self.fitness(x), reverse=True)[:len(old)]\n",
    "    \n",
    "    def mutate(self, x, pmut):\n",
    "        \"\"\"\n",
    "        apply mutation to *x* by randomly replacing one of its gene from *gene_pool*\n",
    "        \"\"\"\n",
    "        if random.uniform(0, 1) >= pmut:\n",
    "            return x\n",
    "\n",
    "        n = len(x)\n",
    "        g = len(self.alphabet)\n",
    "        c = random.randrange(0, n)\n",
    "        r = random.randrange(0, g)\n",
    "\n",
    "        new_gene = self.alphabet[r]\n",
    "        return x[:c] + new_gene + x[c + 1:]\n",
    "    \n",
    "    def recombine(self, x, y):\n",
    "        \"\"\"\n",
    "        combine two parents to produce an offspring\n",
    "        \"\"\"\n",
    "        new = []\n",
    "        for i in range(len(x)):\n",
    "            r = random.randint(1, 10)\n",
    "            new.append(x[i] if r % 2 == 0 else y[i])\n",
    "        return \"\".join(new)\n",
    "\n",
    "    def select(self, r, population):\n",
    "        \"\"\"\n",
    "        TODO: select *r* samples from *population*\n",
    "        the simplest choice is to sample from *population* with each individual weighted by its fitness\n",
    "        \"\"\"\n",
    "        new_population = sorted(population, key=lambda x: self.fitness(x), reverse=True)\n",
    "        return new_population[:r]\n",
    "\n",
    "def genetic_algorithm(\n",
    "        problem: PhraseGeneration, \n",
    "        ngen, n_init_size, mutation_rate, \n",
    "        log_intervel=50\n",
    "    ):\n",
    "\n",
    "    population = problem.init_population(n_init_size)\n",
    "    best = max(population, key=problem.fitness)\n",
    "    history = [(0, list(map(problem.fitness, population)))]\n",
    "\n",
    "    for gen in range(ngen):\n",
    "        next_gen    = problem.reproduce(population, mutation_rate)\n",
    "        population  = problem.replacement(population, next_gen)\n",
    "\n",
    "        if gen % log_intervel == 0:\n",
    "            current_best = max(population, key=problem.fitness)\n",
    "            if problem.fitness(current_best) > problem.fitness(best): best = current_best\n",
    "            print(f\"Generation: {gen}/{ngen},\\tBest: {best},\\tFitness={problem.fitness(best)}\")         \n",
    "            history.append((gen, list(map(problem.fitness, population))))\n",
    "\n",
    "            if current_best == problem.target:\n",
    "                break\n",
    "    \n",
    "    history.append((ngen-1, list(map(problem.fitness, population))))\n",
    "    return best, history"
   ]
  },
  {
   "cell_type": "code",
   "execution_count": 21,
   "metadata": {
    "pycharm": {
     "name": "#%%\n"
    }
   },
   "outputs": [
    {
     "name": "stdout",
     "output_type": "stream",
     "text": [
      "Generation: 0/1200,\tBest: 0fxItrs ldD jiSref4UMwQE1Q8GU,\tFitness=5\n",
      "Generation: 50/1200,\tBest: GenetiS ljg jiShefby 1QE1081U,\tFitness=18\n",
      "Generation: 100/1200,\tBest: Genetic Ajg jithmfby 12E1081U,\tFitness=23\n",
      "Generation: 150/1200,\tBest: Genetic Alg jithmfby 12110817,\tFitness=26\n",
      "Generation: 200/1200,\tBest: Genetic Algojithm by 12110817,\tFitness=28\n",
      "Generation: 250/1200,\tBest: Genetic Algojithm by 12110817,\tFitness=28\n",
      "Generation: 300/1200,\tBest: Genetic Algojithm by 12110817,\tFitness=28\n",
      "Generation: 350/1200,\tBest: Genetic Algorithm by 12110817,\tFitness=29\n",
      "Genetic Algorithm by 12110817\n",
      "         10620278 function calls in 12.708 seconds\n",
      "\n",
      "   Ordered by: standard name\n",
      "\n",
      "   ncalls  tottime  percall  cumtime  percall filename:lineno(function)\n",
      "        1    0.000    0.000    0.002    0.002 3620778933.py:24(init_population)\n",
      "      100    0.000    0.000    0.002    0.000 3620778933.py:26(<lambda>)\n",
      "        1    0.000    0.000    0.002    0.002 3620778933.py:27(<listcomp>)\n",
      "  1809574    9.001    0.000    9.188    0.000 3620778933.py:32(fitness)\n",
      "      351    0.002    0.000   12.380    0.035 3620778933.py:40(reproduce)\n",
      "    17550    0.047    0.000   12.368    0.001 3620778933.py:46(<lambda>)\n",
      "      351    0.010    0.000   12.378    0.035 3620778933.py:47(<listcomp>)\n",
      "      351    0.003    0.000    0.308    0.001 3620778933.py:49(replacement)\n",
      "    52650    0.020    0.000    0.290    0.000 3620778933.py:53(<lambda>)\n",
      "    17550    0.038    0.000    0.111    0.000 3620778933.py:55(mutate)\n",
      "    17550    0.429    0.000    2.282    0.000 3620778933.py:70(recombine)\n",
      "    17550    0.022    0.000    9.928    0.001 3620778933.py:80(select)\n",
      "  1755000    0.644    0.000    9.551    0.000 3620778933.py:85(<lambda>)\n",
      "        1    0.004    0.004   12.708   12.708 3620778933.py:88(genetic_algorithm)\n",
      "        1    0.000    0.000   12.708   12.708 642098563.py:18(test)\n",
      "        1    0.000    0.000   12.708   12.708 <string>:1(<module>)\n",
      "        8    0.000    0.000    0.004    0.001 iostream.py:203(schedule)\n",
      "       18    0.000    0.000    0.000    0.000 iostream.py:444(_is_master_process)\n",
      "       18    0.000    0.000    0.004    0.000 iostream.py:465(_schedule_flush)\n",
      "       18    0.000    0.000    0.005    0.000 iostream.py:535(write)\n",
      "        8    0.000    0.000    0.000    0.000 iostream.py:90(_event_pipe)\n",
      "   526426    0.470    0.000    0.639    0.000 random.py:239(_randbelow_with_getrandbits)\n",
      "   526426    0.775    0.000    1.583    0.000 random.py:292(randrange)\n",
      "   508950    0.239    0.000    1.771    0.000 random.py:366(randint)\n",
      "      100    0.000    0.000    0.002    0.000 random.py:506(choices)\n",
      "      100    0.001    0.000    0.002    0.000 random.py:519(<listcomp>)\n",
      "    17550    0.016    0.000    0.019    0.000 random.py:546(uniform)\n",
      "        8    0.004    0.001    0.004    0.001 socket.py:613(send)\n",
      "        8    0.000    0.000    0.000    0.000 threading.py:1102(_wait_for_tstate_lock)\n",
      "        8    0.000    0.000    0.000    0.000 threading.py:1169(is_alive)\n",
      "        8    0.000    0.000    0.000    0.000 threading.py:553(is_set)\n",
      "  1579278    0.170    0.000    0.170    0.000 {built-in method _operator.index}\n",
      "        1    0.000    0.000   12.708   12.708 {built-in method builtins.exec}\n",
      "       18    0.000    0.000    0.000    0.000 {built-in method builtins.isinstance}\n",
      "  1845520    0.192    0.000    0.192    0.000 {built-in method builtins.len}\n",
      "        9    0.000    0.000    0.005    0.001 {built-in method builtins.max}\n",
      "        9    0.000    0.000    0.005    0.001 {built-in method builtins.print}\n",
      "    17901    0.369    0.000   10.210    0.001 {built-in method builtins.sorted}\n",
      "     2900    0.000    0.000    0.000    0.000 {built-in method math.floor}\n",
      "       18    0.000    0.000    0.000    0.000 {built-in method nt.getpid}\n",
      "       18    0.000    0.000    0.000    0.000 {method '__exit__' of '_thread.RLock' objects}\n",
      "        8    0.000    0.000    0.000    0.000 {method 'acquire' of '_thread.lock' objects}\n",
      "        8    0.000    0.000    0.000    0.000 {method 'append' of 'collections.deque' objects}\n",
      "   508959    0.070    0.000    0.070    0.000 {method 'append' of 'list' objects}\n",
      "   526426    0.064    0.000    0.064    0.000 {method 'bit_length' of 'int' objects}\n",
      "        1    0.000    0.000    0.000    0.000 {method 'disable' of '_lsprof.Profiler' objects}\n",
      "   832850    0.105    0.000    0.105    0.000 {method 'getrandbits' of '_random.Random' objects}\n",
      "    17650    0.010    0.000    0.010    0.000 {method 'join' of 'str' objects}\n",
      "    20450    0.003    0.000    0.003    0.000 {method 'random' of '_random.Random' objects}\n",
      "       18    0.000    0.000    0.000    0.000 {method 'write' of '_io.StringIO' objects}\n",
      "\n",
      "\n"
     ]
    }
   ],
   "source": [
    "u_case = [chr(x) for x in range(65, 91)]\n",
    "l_case = [chr(x) for x in range(97, 123)]\n",
    "num = [chr(x) for x in range(48, 58)]\n",
    "gene_pool = u_case + l_case + num + [' ']\n",
    "\n",
    "# now set up the parameters\n",
    "ngen = 1200\n",
    "max_population = 100\n",
    "mutation_rate = 0.5\n",
    "\n",
    "sid = 12110817 #TODO:  replace this with your own sid\n",
    "target = f\"Genetic Algorithm by {sid}\" \n",
    "alphabet = gene_pool # TODO: fix this: what is the search space now?\n",
    "\n",
    "problem = PhraseGeneration(target, alphabet)\n",
    "\n",
    "# and run it\n",
    "def test():\n",
    "    solution, history = genetic_algorithm(problem, ngen, max_population, mutation_rate)\n",
    "    print(solution)\n",
    "\n",
    "import cProfile\n",
    "cProfile.run(\"test()\")\n"
   ]
  },
  {
   "cell_type": "markdown",
   "metadata": {
    "pycharm": {
     "name": "#%% md\n"
    }
   },
   "source": [
    "## 2. N-Queens Problem\n",
    "\n",
    "It is possible to solve the N-Queens problem with slight modifications.\n",
    "\n",
    "For the problem:\n",
    "\n",
    "1. Direct Representation: placement of queens.\n",
    "2. Search Space: $n^n$, if we don't use any constraints.\n",
    "\n",
    "To use GA:\n",
    "\n",
    "Actually a new fitness function is the minimum modification you need for this problem.\n",
    "\n",
    "Others are alomost the same as the previous problem."
   ]
  },
  {
   "cell_type": "code",
   "execution_count": 47,
   "metadata": {
    "pycharm": {
     "name": "#%%\n"
    }
   },
   "outputs": [],
   "source": [
    "\n",
    "\n",
    "class NQueensProblem(GAProblem):\n",
    "    def __init__(self, n):\n",
    "        self.n = n\n",
    "        self.max_fitness = n*(n-1)//2 # max number if non-attacking pairs\n",
    "        self.alphabet = [i for i in range(self.n)]\n",
    "        self.false_board = np.zeros((self.n, self.n), dtype=bool)\n",
    "\n",
    "\n",
    "    def init_population(self, pop_size):\n",
    "        # TODO:almost the same as the previous problem.\n",
    "\n",
    "        return [random.choices(self.alphabet, k=self.n) for _ in range(pop_size)]\n",
    "\n",
    "    def fitness(self, queens):\n",
    "        \"\"\"\n",
    "        TODO hint: count the non-attacking pairs\n",
    "        \"\"\"\n",
    "        board = np.copy(self.false_board)\n",
    "        queen_pos = np.array([(i, queens[i]) for i in range(self.n)])\n",
    "        board[queen_pos[:, 0], queen_pos[:, 1]] = True\n",
    "\n",
    "        sum = 0\n",
    "        for pos in queen_pos:\n",
    "            attack_board = self.get_attack_board(pos)\n",
    "            sum += (board & attack_board).sum() - 1\n",
    "        \n",
    "        return self.max_fitness - sum\n",
    "            \n",
    "\n",
    "    def get_attack_board(self, move):\n",
    "        def my_range(start, end):\n",
    "            if start <= end:\n",
    "                return range(start, end + 1)\n",
    "            else:\n",
    "                return range(start, end - 1, -1)\n",
    "    \n",
    "        attack_board = np.copy(self.false_board)\n",
    "        attack_board[:, move[1]] = attack_board[move[0], :] = True\n",
    "        i, j = move\n",
    "        tmp = min(self.n - i - 1, j)\n",
    "        start = (i + tmp, j - tmp)\n",
    "        tmp = min(i, self.n - j - 1)\n",
    "        end = (i - tmp,  j + tmp)\n",
    "        rows = my_range(start[0], end[0])\n",
    "        cols = my_range(start[1], end[1])\n",
    "        attack_board[rows, cols] = True\n",
    "\n",
    "        tmp = min(i, j)\n",
    "        start = (i - tmp, j - tmp)\n",
    "        tmp = min(self.n - i - 1, self.n - j - 1)\n",
    "        end = (i + tmp, j + tmp)\n",
    "        rows = my_range(start[0], end[0])\n",
    "        cols = my_range(start[1], end[1])\n",
    "        attack_board[rows, cols] = True\n",
    "        \n",
    "        return attack_board\n",
    "\n",
    "        \n",
    "\n",
    "    def reproduce(self, population, mutation_rate):\n",
    "        \"\"\"\n",
    "        TODO: generate the next generation of population\n",
    "        hint: make a new individual with \n",
    "        mutate(recombine(*select(2, population, fitness_fn)), gene_pool, pmut)\n",
    "        \"\"\"\n",
    "        child = lambda: self.mutate(self.recombine(*self.select(2, population)), mutation_rate)\n",
    "        return [child() for _ in range(len(population) // 5)]\n",
    "    \n",
    "    def replacement(self, old, new):\n",
    "        \"\"\"\n",
    "        You can use your own strategy, for example retain some solutions from the old population\n",
    "        \"\"\"\n",
    "        return sorted(old + new, key=lambda x: self.fitness(x), reverse=True)[:len(old)]\n",
    "    \n",
    "    def mutate(self, x, pmut):\n",
    "        \"\"\"\n",
    "        apply mutation to *x* by randomly replacing one of its gene from *gene_pool*\n",
    "        \"\"\"\n",
    "        if random.uniform(0, 1) >= pmut:\n",
    "            return x\n",
    "\n",
    "        n = len(x)\n",
    "        g = len(self.alphabet)\n",
    "        c = random.randrange(0, n)\n",
    "        r = random.randrange(0, g)\n",
    "\n",
    "        new_gene = self.alphabet[r]\n",
    "        return x[:c] + [new_gene] + x[c + 1:]\n",
    "    \n",
    "    def recombine(self, x, y):\n",
    "        \"\"\"\n",
    "        combine two parents to produce an offspring\n",
    "        \"\"\"\n",
    "        new = []\n",
    "        for i in range(len(x)):\n",
    "            r = random.randint(1, 10)\n",
    "            new.append(x[i] if r % 2 == 0 else y[i])\n",
    "        return new\n",
    "\n",
    "    def select(self, r, population):\n",
    "        \"\"\"\n",
    "        TODO: select *r* samples from *population*\n",
    "        the simplest choice is to sample from *population* with each individual weighted by its fitness\n",
    "        \"\"\"\n",
    "        return [random.choice(population) for _ in range(r)]\n",
    "\n",
    "    def __repr__(self):\n",
    "        return f\"{self.n}-Queens Problem\""
   ]
  },
  {
   "cell_type": "code",
   "execution_count": 48,
   "metadata": {},
   "outputs": [],
   "source": [
    "def genetic_algorithm_queen(\n",
    "        problem: NQueensProblem, \n",
    "        ngen, n_init_size, mutation_rate, \n",
    "        log_intervel=100\n",
    "    ):\n",
    "\n",
    "    population = problem.init_population(n_init_size)\n",
    "    best = max(population, key=problem.fitness)\n",
    "    history = [(0, list(map(problem.fitness, population)))]\n",
    "\n",
    "    for gen in range(ngen):\n",
    "        next_gen    = problem.reproduce(population, mutation_rate)\n",
    "        population  = problem.replacement(population, next_gen)\n",
    "\n",
    "        if gen % log_intervel == 0:\n",
    "            current_best = max(population, key=problem.fitness)\n",
    "            if problem.fitness(current_best) > problem.fitness(best): best = current_best\n",
    "            print(f\"Generation: {gen}/{ngen},\\tBest: {best},\\tFitness={problem.fitness(best)}\")         \n",
    "            history.append((gen, list(map(problem.fitness, population))))\n",
    "\n",
    "            if current_best == problem.max_fitness:\n",
    "                break\n",
    "    \n",
    "    history.append((ngen-1, list(map(problem.fitness, population))))\n",
    "    return best, history"
   ]
  },
  {
   "cell_type": "code",
   "execution_count": 46,
   "metadata": {
    "pycharm": {
     "name": "#%%\n"
    }
   },
   "outputs": [
    {
     "name": "stdout",
     "output_type": "stream",
     "text": [
      "Generation: 0/1000,\tBest: [6, 2, 7, 3, 0, 7, 4, 1],\tFitness=24\n",
      "Generation: 10/1000,\tBest: [6, 2, 7, 3, 0, 7, 4, 1],\tFitness=24\n",
      "Generation: 20/1000,\tBest: [6, 2, 7, 3, 0, 7, 4, 1],\tFitness=24\n",
      "Generation: 30/1000,\tBest: [6, 2, 7, 3, 0, 7, 4, 1],\tFitness=24\n",
      "Generation: 40/1000,\tBest: [6, 2, 7, 3, 0, 7, 4, 1],\tFitness=24\n",
      "Generation: 50/1000,\tBest: [6, 2, 7, 3, 0, 7, 4, 1],\tFitness=24\n",
      "Generation: 60/1000,\tBest: [6, 2, 5, 3, 0, 7, 4, 1],\tFitness=26\n",
      "Generation: 70/1000,\tBest: [6, 2, 5, 3, 0, 7, 4, 1],\tFitness=26\n",
      "Generation: 80/1000,\tBest: [6, 2, 5, 3, 0, 7, 4, 1],\tFitness=26\n",
      "Generation: 90/1000,\tBest: [6, 2, 5, 3, 0, 7, 4, 1],\tFitness=26\n",
      "Generation: 100/1000,\tBest: [6, 2, 5, 3, 0, 7, 4, 1],\tFitness=26\n",
      "Generation: 110/1000,\tBest: [6, 2, 5, 3, 0, 7, 4, 1],\tFitness=26\n",
      "Generation: 120/1000,\tBest: [6, 2, 5, 3, 0, 7, 4, 1],\tFitness=26\n",
      "Generation: 130/1000,\tBest: [6, 2, 5, 3, 0, 7, 4, 1],\tFitness=26\n",
      "Generation: 140/1000,\tBest: [6, 2, 5, 3, 0, 7, 4, 1],\tFitness=26\n",
      "Generation: 150/1000,\tBest: [6, 2, 5, 3, 0, 7, 4, 1],\tFitness=26\n",
      "Generation: 160/1000,\tBest: [6, 2, 5, 3, 0, 7, 4, 1],\tFitness=26\n",
      "Generation: 170/1000,\tBest: [6, 2, 5, 3, 0, 7, 4, 1],\tFitness=26\n",
      "Generation: 180/1000,\tBest: [6, 2, 5, 3, 0, 7, 4, 1],\tFitness=26\n",
      "Generation: 190/1000,\tBest: [6, 2, 5, 3, 0, 7, 4, 1],\tFitness=26\n",
      "Generation: 200/1000,\tBest: [6, 2, 5, 3, 0, 7, 4, 1],\tFitness=26\n",
      "Generation: 210/1000,\tBest: [6, 2, 5, 3, 0, 7, 4, 1],\tFitness=26\n",
      "Generation: 220/1000,\tBest: [6, 2, 5, 3, 0, 7, 4, 1],\tFitness=26\n",
      "Generation: 230/1000,\tBest: [6, 2, 5, 3, 0, 7, 4, 1],\tFitness=26\n",
      "Generation: 240/1000,\tBest: [6, 2, 5, 3, 0, 7, 4, 1],\tFitness=26\n",
      "Generation: 250/1000,\tBest: [6, 2, 5, 3, 0, 7, 4, 1],\tFitness=26\n",
      "Generation: 260/1000,\tBest: [6, 2, 5, 3, 0, 7, 4, 1],\tFitness=26\n",
      "Generation: 270/1000,\tBest: [6, 2, 5, 3, 0, 7, 4, 1],\tFitness=26\n",
      "Generation: 280/1000,\tBest: [6, 2, 5, 3, 0, 7, 4, 1],\tFitness=26\n",
      "Generation: 290/1000,\tBest: [6, 2, 5, 3, 0, 7, 4, 1],\tFitness=26\n"
     ]
    },
    {
     "ename": "KeyboardInterrupt",
     "evalue": "",
     "output_type": "error",
     "traceback": [
      "\u001b[1;31m---------------------------------------------------------------------------\u001b[0m",
      "\u001b[1;31mKeyboardInterrupt\u001b[0m                         Traceback (most recent call last)",
      "Cell \u001b[1;32mIn[46], line 8\u001b[0m\n\u001b[0;32m      6\u001b[0m n \u001b[39m=\u001b[39m \u001b[39m8\u001b[39m\n\u001b[0;32m      7\u001b[0m problem \u001b[39m=\u001b[39m NQueensProblem(n)\n\u001b[1;32m----> 8\u001b[0m solution, history \u001b[39m=\u001b[39m genetic_algorithm_queen(problem, ngen, init_size, mutation_rate)\n",
      "Cell \u001b[1;32mIn[43], line 13\u001b[0m, in \u001b[0;36mgenetic_algorithm_queen\u001b[1;34m(problem, ngen, n_init_size, mutation_rate, log_intervel)\u001b[0m\n\u001b[0;32m     11\u001b[0m \u001b[39mfor\u001b[39;00m gen \u001b[39min\u001b[39;00m \u001b[39mrange\u001b[39m(ngen):\n\u001b[0;32m     12\u001b[0m     next_gen    \u001b[39m=\u001b[39m problem\u001b[39m.\u001b[39mreproduce(population, mutation_rate)\n\u001b[1;32m---> 13\u001b[0m     population  \u001b[39m=\u001b[39m problem\u001b[39m.\u001b[39;49mreplacement(population, next_gen)\n\u001b[0;32m     15\u001b[0m     \u001b[39mif\u001b[39;00m gen \u001b[39m%\u001b[39m log_intervel \u001b[39m==\u001b[39m \u001b[39m0\u001b[39m:\n\u001b[0;32m     16\u001b[0m         current_best \u001b[39m=\u001b[39m \u001b[39mmax\u001b[39m(population, key\u001b[39m=\u001b[39mproblem\u001b[39m.\u001b[39mfitness)\n",
      "Cell \u001b[1;32mIn[45], line 73\u001b[0m, in \u001b[0;36mNQueensProblem.replacement\u001b[1;34m(self, old, new)\u001b[0m\n\u001b[0;32m     69\u001b[0m \u001b[39mdef\u001b[39;00m \u001b[39mreplacement\u001b[39m(\u001b[39mself\u001b[39m, old, new):\n\u001b[0;32m     70\u001b[0m \u001b[39m    \u001b[39m\u001b[39m\"\"\"\u001b[39;00m\n\u001b[0;32m     71\u001b[0m \u001b[39m    You can use your own strategy, for example retain some solutions from the old population\u001b[39;00m\n\u001b[0;32m     72\u001b[0m \u001b[39m    \"\"\"\u001b[39;00m\n\u001b[1;32m---> 73\u001b[0m     \u001b[39mreturn\u001b[39;00m \u001b[39msorted\u001b[39;49m(old \u001b[39m+\u001b[39;49m new, key\u001b[39m=\u001b[39;49m\u001b[39mlambda\u001b[39;49;00m x: \u001b[39mself\u001b[39;49m\u001b[39m.\u001b[39;49mfitness(x), reverse\u001b[39m=\u001b[39;49m\u001b[39mTrue\u001b[39;49;00m)[:\u001b[39mlen\u001b[39m(old)]\n",
      "Cell \u001b[1;32mIn[45], line 73\u001b[0m, in \u001b[0;36mNQueensProblem.replacement.<locals>.<lambda>\u001b[1;34m(x)\u001b[0m\n\u001b[0;32m     69\u001b[0m \u001b[39mdef\u001b[39;00m \u001b[39mreplacement\u001b[39m(\u001b[39mself\u001b[39m, old, new):\n\u001b[0;32m     70\u001b[0m \u001b[39m    \u001b[39m\u001b[39m\"\"\"\u001b[39;00m\n\u001b[0;32m     71\u001b[0m \u001b[39m    You can use your own strategy, for example retain some solutions from the old population\u001b[39;00m\n\u001b[0;32m     72\u001b[0m \u001b[39m    \"\"\"\u001b[39;00m\n\u001b[1;32m---> 73\u001b[0m     \u001b[39mreturn\u001b[39;00m \u001b[39msorted\u001b[39m(old \u001b[39m+\u001b[39m new, key\u001b[39m=\u001b[39m\u001b[39mlambda\u001b[39;00m x: \u001b[39mself\u001b[39;49m\u001b[39m.\u001b[39;49mfitness(x), reverse\u001b[39m=\u001b[39m\u001b[39mTrue\u001b[39;00m)[:\u001b[39mlen\u001b[39m(old)]\n",
      "Cell \u001b[1;32mIn[45], line 24\u001b[0m, in \u001b[0;36mNQueensProblem.fitness\u001b[1;34m(self, queens)\u001b[0m\n\u001b[0;32m     22\u001b[0m \u001b[39msum\u001b[39m \u001b[39m=\u001b[39m \u001b[39m0\u001b[39m\n\u001b[0;32m     23\u001b[0m \u001b[39mfor\u001b[39;00m pos \u001b[39min\u001b[39;00m queen_pos:\n\u001b[1;32m---> 24\u001b[0m     attack_board \u001b[39m=\u001b[39m \u001b[39mself\u001b[39;49m\u001b[39m.\u001b[39;49mget_attack_board(pos)\n\u001b[0;32m     25\u001b[0m     \u001b[39msum\u001b[39m \u001b[39m+\u001b[39m\u001b[39m=\u001b[39m (board \u001b[39m&\u001b[39m attack_board)\u001b[39m.\u001b[39msum() \u001b[39m-\u001b[39m \u001b[39m1\u001b[39m\n\u001b[0;32m     27\u001b[0m \u001b[39mreturn\u001b[39;00m \u001b[39mself\u001b[39m\u001b[39m.\u001b[39mmax_fitness \u001b[39m-\u001b[39m \u001b[39msum\u001b[39m\n",
      "Cell \u001b[1;32mIn[45], line 48\u001b[0m, in \u001b[0;36mNQueensProblem.get_attack_board\u001b[1;34m(self, move)\u001b[0m\n\u001b[0;32m     45\u001b[0m cols \u001b[39m=\u001b[39m my_range(start[\u001b[39m1\u001b[39m], end[\u001b[39m1\u001b[39m])\n\u001b[0;32m     46\u001b[0m attack_board[rows, cols] \u001b[39m=\u001b[39m \u001b[39mTrue\u001b[39;00m\n\u001b[1;32m---> 48\u001b[0m tmp \u001b[39m=\u001b[39m \u001b[39mmin\u001b[39;49m(i, j)\n\u001b[0;32m     49\u001b[0m start \u001b[39m=\u001b[39m (i \u001b[39m-\u001b[39m tmp, j \u001b[39m-\u001b[39m tmp)\n\u001b[0;32m     50\u001b[0m tmp \u001b[39m=\u001b[39m \u001b[39mmin\u001b[39m(\u001b[39mself\u001b[39m\u001b[39m.\u001b[39mn \u001b[39m-\u001b[39m i \u001b[39m-\u001b[39m \u001b[39m1\u001b[39m, \u001b[39mself\u001b[39m\u001b[39m.\u001b[39mn \u001b[39m-\u001b[39m j \u001b[39m-\u001b[39m \u001b[39m1\u001b[39m)\n",
      "\u001b[1;31mKeyboardInterrupt\u001b[0m: "
     ]
    }
   ],
   "source": [
    "from utils import plot_NQueens\n",
    "ngen = 10000\n",
    "init_size = 120\n",
    "mutation_rate = 0.08\n",
    "\n",
    "n = 8\n",
    "problem = NQueensProblem(n)\n",
    "solution, history = genetic_algorithm_queen(problem, ngen, init_size, mutation_rate)"
   ]
  },
  {
   "cell_type": "code",
   "execution_count": null,
   "metadata": {
    "pycharm": {
     "name": "#%%\n"
    }
   },
   "outputs": [],
   "source": [
    "# Example of how to use this function\n",
    "# plot_NQueens([4, 2, 0, 6, 1, 7, 5, 3])\n",
    "# replace the parameter with your own results\n",
    "plot_NQueens(solution)"
   ]
  },
  {
   "cell_type": "code",
   "execution_count": null,
   "metadata": {
    "pycharm": {
     "name": "#%%\n"
    }
   },
   "outputs": [],
   "source": [
    "# Visualize the evolution of the polulation\n",
    "bins = np.linspace(0, problem.max_fitness, problem.max_fitness)\n",
    "plot_evolution(history, bins)"
   ]
  },
  {
   "cell_type": "code",
   "execution_count": null,
   "metadata": {},
   "outputs": [
    {
     "ename": "TypeError",
     "evalue": "unsupported operand type(s) for |: 'range' and 'range'",
     "output_type": "error",
     "traceback": [
      "\u001b[1;31m---------------------------------------------------------------------------\u001b[0m",
      "\u001b[1;31mTypeError\u001b[0m                                 Traceback (most recent call last)",
      "Cell \u001b[1;32mIn[135], line 1\u001b[0m\n\u001b[1;32m----> 1\u001b[0m \u001b[39mrange\u001b[39;49m(\u001b[39m10\u001b[39;49m)\u001b[39m|\u001b[39;49m\u001b[39mrange\u001b[39;49m(\u001b[39m100\u001b[39;49m)\n",
      "\u001b[1;31mTypeError\u001b[0m: unsupported operand type(s) for |: 'range' and 'range'"
     ]
    }
   ],
   "source": []
  }
 ],
 "metadata": {
  "interpreter": {
   "hash": "fb94abd67aa002aa187ead1d4120a8ec4bfee3e4c9494aaf1e01cee1e01ca26c"
  },
  "kernelspec": {
   "display_name": "Python 3",
   "language": "python",
   "name": "python3"
  },
  "language_info": {
   "codemirror_mode": {
    "name": "ipython",
    "version": 3
   },
   "file_extension": ".py",
   "mimetype": "text/x-python",
   "name": "python",
   "nbconvert_exporter": "python",
   "pygments_lexer": "ipython3",
   "version": "3.10.9"
  }
 },
 "nbformat": 4,
 "nbformat_minor": 2
}
