{
 "cells": [
  {
   "cell_type": "code",
   "execution_count": 1,
   "metadata": {},
   "outputs": [],
   "source": [
    "from bot_v_bot import main\n"
   ]
  },
  {
   "cell_type": "code",
   "execution_count": 2,
   "metadata": {},
   "outputs": [
    {
     "name": "stdout",
     "output_type": "stream",
     "text": [
      "Player.black B1\n",
      " 4  .  .  .  . \n",
      " 3  .  .  .  . \n",
      " 2  .  .  .  . \n",
      " 1  .  x  .  . \n",
      "    A  B  C  D\n",
      "-------------------------\n",
      "Player.white D3\n",
      " 4  .  .  .  . \n",
      " 3  .  .  .  o \n",
      " 2  .  .  .  . \n",
      " 1  .  x  .  . \n",
      "    A  B  C  D\n",
      "-------------------------\n",
      "Player.black A2\n",
      " 4  .  .  .  . \n",
      " 3  .  .  .  o \n",
      " 2  x  .  .  . \n",
      " 1  .  x  .  . \n",
      "    A  B  C  D\n",
      "-------------------------\n",
      "Player.white C2\n",
      " 4  .  .  .  . \n",
      " 3  .  .  .  o \n",
      " 2  x  .  o  . \n",
      " 1  .  x  .  . \n",
      "    A  B  C  D\n",
      "-------------------------\n",
      "Player.black B3\n",
      " 4  .  .  .  . \n",
      " 3  .  x  .  o \n",
      " 2  x  .  o  . \n",
      " 1  .  x  .  . \n",
      "    A  B  C  D\n",
      "-------------------------\n",
      "Player.white D1\n",
      " 4  .  .  .  . \n",
      " 3  .  x  .  o \n",
      " 2  x  .  o  . \n",
      " 1  .  x  .  o \n",
      "    A  B  C  D\n",
      "-------------------------\n"
     ]
    },
    {
     "ename": "KeyboardInterrupt",
     "evalue": "",
     "output_type": "error",
     "traceback": [
      "\u001b[1;31m---------------------------------------------------------------------------\u001b[0m",
      "\u001b[1;31mKeyboardInterrupt\u001b[0m                         Traceback (most recent call last)",
      "Cell \u001b[1;32mIn[2], line 1\u001b[0m\n\u001b[1;32m----> 1\u001b[0m main()\n",
      "File \u001b[1;32mt:\\CS311-AI\\BetaGo\\bot_v_bot.py:15\u001b[0m, in \u001b[0;36mmain\u001b[1;34m()\u001b[0m\n\u001b[0;32m     10\u001b[0m bots \u001b[39m=\u001b[39m {\n\u001b[0;32m     11\u001b[0m     gotypes\u001b[39m.\u001b[39mPlayer\u001b[39m.\u001b[39mblack: naive\u001b[39m.\u001b[39mRandomBot(),\n\u001b[0;32m     12\u001b[0m     gotypes\u001b[39m.\u001b[39mPlayer\u001b[39m.\u001b[39mwhite: naive\u001b[39m.\u001b[39mRandomBot(),\n\u001b[0;32m     13\u001b[0m }\n\u001b[0;32m     14\u001b[0m \u001b[39mwhile\u001b[39;00m \u001b[39mnot\u001b[39;00m game\u001b[39m.\u001b[39mis_over():\n\u001b[1;32m---> 15\u001b[0m     time\u001b[39m.\u001b[39;49msleep(\u001b[39m0.4\u001b[39;49m)\n\u001b[0;32m     16\u001b[0m     \u001b[39m# print(chr(27) + \"[2J\") # 清屏\u001b[39;00m\n\u001b[0;32m     17\u001b[0m     bot_move \u001b[39m=\u001b[39m bots[game\u001b[39m.\u001b[39mnext_player]\u001b[39m.\u001b[39mselect_move(game)\n",
      "\u001b[1;31mKeyboardInterrupt\u001b[0m: "
     ]
    }
   ],
   "source": [
    "main()"
   ]
  },
  {
   "cell_type": "code",
   "execution_count": 3,
   "metadata": {},
   "outputs": [
    {
     "data": {
      "text/plain": [
       "{(1, 2)}"
      ]
     },
     "execution_count": 3,
     "metadata": {},
     "output_type": "execute_result"
    }
   ],
   "source": [
    "{(1, 2)}"
   ]
  }
 ],
 "metadata": {
  "kernelspec": {
   "display_name": "venv",
   "language": "python",
   "name": "python3"
  },
  "language_info": {
   "codemirror_mode": {
    "name": "ipython",
    "version": 3
   },
   "file_extension": ".py",
   "mimetype": "text/x-python",
   "name": "python",
   "nbconvert_exporter": "python",
   "pygments_lexer": "ipython3",
   "version": "3.8.8"
  },
  "orig_nbformat": 4
 },
 "nbformat": 4,
 "nbformat_minor": 2
}
