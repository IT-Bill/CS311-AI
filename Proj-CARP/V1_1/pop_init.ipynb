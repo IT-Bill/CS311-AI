{
 "cells": [
  {
   "cell_type": "code",
   "execution_count": 23,
   "metadata": {},
   "outputs": [],
   "source": [
    "from main import *\n",
    "from random import choice"
   ]
  },
  {
   "cell_type": "code",
   "execution_count": 24,
   "metadata": {},
   "outputs": [],
   "source": [
    "class Route:\n",
    "    def __init__(self, remain_cap, task_ids) -> None:\n",
    "        self.remain_cap = remain_cap\n",
    "        self.task_ids = task_ids\n",
    "\n",
    "    def __repr__(self):\n",
    "        return str(self.__dict__)\n",
    "\n",
    "class Solution:\n",
    "    def __init__(self, cost, routes) -> None:\n",
    "        self.cost = cost\n",
    "        # self.feasible\n",
    "        # s = [Route, Route, ...]\n",
    "        self.routes = routes\n",
    "\n",
    "    def __repr__(self) -> str:\n",
    "        return str(self.__dict__)"
   ]
  },
  {
   "cell_type": "code",
   "execution_count": 25,
   "metadata": {},
   "outputs": [],
   "source": [
    "def gene_solu(**kwargs):\n",
    "    sp, tasks, depot, capacity, num_vehicles = kwargs[\"sp\"], kwargs[\"tasks\"], kwargs[\"depot\"], kwargs[\"capacity\"], kwargs[\"num_vehicles\"]\n",
    "\n",
    "    # tasks 是 字典\n",
    "    routes = []\n",
    "    num_tasks = len(tasks) // 2  # 实际上有多少tasks\n",
    "    # ! taskID, 不要放0！！\n",
    "    unserved_ids = [i for i in range(1, len(tasks))]  \n",
    "    cost = 0  # 这个solution的总花费\n",
    "    \n",
    "    for _ in range(num_vehicles):\n",
    "        if len(unserved_ids) == 0:\n",
    "            break\n",
    "        \n",
    "        remain_cap = capacity\n",
    "        cur_vertex = depot  # 需要计算cost\n",
    "        task_ids = [0]\n",
    "\n",
    "        while True:\n",
    "            valid_ids = []\n",
    "            for id in unserved_ids:\n",
    "                task = tasks[id]\n",
    "                if task[1] <= remain_cap:\n",
    "                    valid_ids.append(id)\n",
    "            \n",
    "            if len(valid_ids) == 0:\n",
    "                break\n",
    "            \n",
    "            else:\n",
    "                id = choice(valid_ids)\n",
    "                task = tasks[id]\n",
    "\n",
    "                task_ids.append(id)  # 路径中添加id\n",
    "                remain_cap -= task[1]  # 减少容量\n",
    "                # 累加cost\n",
    "                cost += sp[task[0]] + sp[cur_vertex, task[0][0]]\n",
    "                # 移除id\n",
    "                unserved_ids.remove(id)\n",
    "                if id <= num_tasks:\n",
    "                    unserved_ids.remove(id + num_tasks)\n",
    "                else:\n",
    "                    unserved_ids.remove(id - num_tasks)\n",
    "        \n",
    "        task_ids.append(0)\n",
    "        routes.append(Route(remain_cap, task_ids))\n",
    "    \n",
    "    return Solution(cost, routes)\n",
    "\n",
    "def init_pop(pop_size, **kwargs):\n",
    "    return [gene_solu(**kwargs) for _ in range(pop_size)]\n",
    "                "
   ]
  },
  {
   "cell_type": "code",
   "execution_count": 40,
   "metadata": {},
   "outputs": [],
   "source": [
    "info = read_file(\"sample2.dat\")\n",
    "pop = init_pop(300, **info)\n",
    "# for solu in pop:\n",
    "#     print(solu)"
   ]
  },
  {
   "cell_type": "code",
   "execution_count": 41,
   "metadata": {},
   "outputs": [
    {
     "data": {
      "text/plain": [
       "{'cost': 12068, 'routes': [{'remain_cap': 1, 'task_ids': [0, 18, 40, 62, 70, 7, 38, 67, 17, 34, 31, 25, 0]}, {'remain_cap': 3, 'task_ids': [0, 97, 15, 52, 49, 22, 29, 93, 36, 54, 88, 28, 8, 33, 41, 81, 50, 0]}, {'remain_cap': 6, 'task_ids': [0, 64, 47, 96, 102, 74, 26, 48, 32, 0]}, {'remain_cap': 4, 'task_ids': [0, 44, 56, 53, 12, 14, 57, 10, 78, 75, 4, 9, 0]}, {'remain_cap': 43, 'task_ids': [0, 20, 43, 39, 86, 72, 0]}]}"
      ]
     },
     "execution_count": 41,
     "metadata": {},
     "output_type": "execute_result"
    }
   ],
   "source": [
    "best_solu = min(pop, key=lambda x: x.cost)\n",
    "best_solu"
   ]
  }
 ],
 "metadata": {
  "kernelspec": {
   "display_name": "venv",
   "language": "python",
   "name": "python3"
  },
  "language_info": {
   "codemirror_mode": {
    "name": "ipython",
    "version": 3
   },
   "file_extension": ".py",
   "mimetype": "text/x-python",
   "name": "python",
   "nbconvert_exporter": "python",
   "pygments_lexer": "ipython3",
   "version": "3.10.9"
  },
  "orig_nbformat": 4
 },
 "nbformat": 4,
 "nbformat_minor": 2
}
