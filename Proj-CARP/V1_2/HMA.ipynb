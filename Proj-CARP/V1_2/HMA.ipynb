{
 "cells": [
  {
   "cell_type": "code",
   "execution_count": 1,
   "metadata": {},
   "outputs": [],
   "source": [
    "from main import *"
   ]
  },
  {
   "cell_type": "code",
   "execution_count": 2,
   "metadata": {},
   "outputs": [
    {
     "data": {
      "text/plain": [
       "([{'cost': 36, 'routes': [{'remain_cap': 0, 'task_ids': [0, 5, 9, 3, 0]}, {'remain_cap': 0, 'task_ids': [0, 6, 2, 0]}]},\n",
       "  {'cost': 37, 'routes': [{'remain_cap': 0, 'task_ids': [0, 3, 5, 4, 0]}, {'remain_cap': 0, 'task_ids': [0, 2, 6, 0]}]},\n",
       "  {'cost': 31, 'routes': [{'remain_cap': 1, 'task_ids': [0, 5, 2, 0]}, {'remain_cap': 1, 'task_ids': [0, 6, 9, 0]}]},\n",
       "  {'cost': 27, 'routes': [{'remain_cap': 1, 'task_ids': [0, 5, 7, 0]}, {'remain_cap': 1, 'task_ids': [0, 1, 8, 0]}]},\n",
       "  {'cost': 25, 'routes': [{'remain_cap': 1, 'task_ids': [0, 6, 3, 0]}, {'remain_cap': 2, 'task_ids': [0, 10, 4, 0]}]},\n",
       "  {'cost': 39, 'routes': [{'remain_cap': 0, 'task_ids': [0, 6, 2, 0]}, {'remain_cap': 0, 'task_ids': [0, 4, 5, 8, 0]}]},\n",
       "  {'cost': 31, 'routes': [{'remain_cap': 1, 'task_ids': [0, 9, 2, 0]}, {'remain_cap': 1, 'task_ids': [0, 6, 5, 0]}]},\n",
       "  {'cost': 26, 'routes': [{'remain_cap': 1, 'task_ids': [0, 10, 7, 0]}, {'remain_cap': 2, 'task_ids': [0, 8, 4, 0]}]},\n",
       "  {'cost': 26, 'routes': [{'remain_cap': 1, 'task_ids': [0, 9, 6, 0]}, {'remain_cap': 1, 'task_ids': [0, 7, 10, 0]}]},\n",
       "  {'cost': 27, 'routes': [{'remain_cap': 1, 'task_ids': [0, 7, 8, 0]}, {'remain_cap': 1, 'task_ids': [0, 5, 1, 0]}]}],\n",
       " {'cost': 25, 'routes': [{'remain_cap': 1, 'task_ids': [0, 6, 3, 0]}, {'remain_cap': 2, 'task_ids': [0, 10, 4, 0]}]})"
      ]
     },
     "execution_count": 2,
     "metadata": {},
     "output_type": "execute_result"
    }
   ],
   "source": [
    "info = read_file(\"sample1.dat\")\n",
    "pop = init_pop(10, **info)\n",
    "best_solu = min(pop, key=lambda x: x.cost)\n",
    "pop, best_solu"
   ]
  },
  {
   "cell_type": "code",
   "execution_count": 3,
   "metadata": {},
   "outputs": [
    {
     "ename": "SyntaxError",
     "evalue": "invalid syntax (262725022.py, line 6)",
     "output_type": "error",
     "traceback": [
      "\u001b[1;36m  Cell \u001b[1;32mIn[3], line 6\u001b[1;36m\u001b[0m\n\u001b[1;33m    a, b =\u001b[0m\n\u001b[1;37m           ^\u001b[0m\n\u001b[1;31mSyntaxError\u001b[0m\u001b[1;31m:\u001b[0m invalid syntax\n"
     ]
    }
   ],
   "source": [
    "def crossover(sp, tasks, s1: Solution, s2: Solution):\n",
    "    def eval(route: Route, id):\n",
    "        idx = route.task_ids.index(id)\n",
    "        v1 = tasks[route.task_ids[idx - 1]][0][1]\n",
    "        v2 = tasks[route.task_ids[idx]][0][0]\n",
    "        v3 = tasks[route.task_ids[idx]][0][1]\n",
    "        v4 = tasks[route.task_ids[idx + 1]][0][0]\n",
    "        return sp[v1, v2] + sp[v3, v4] - sp[v2, v3]\n",
    "    \n",
    "    s1r, s2r = s1.routes, s2.routes\n",
    "    a, b = randint(len(s1r) - 1), randint(len(s2r) - 1)\n",
    "    old, new = set(s1r[a].task_ids), set(s2r[b].task_ids)\n",
    "    s0r = s1r[:a] + s1r[a + 1:]  # 不加入 s2r[b]\n",
    "\n",
    "    common = old & new\n",
    "    unserved = old - common\n",
    "    duplicated = new - common\n",
    "\n",
    "    for id in duplicated:\n",
    "        for r in s0r:\n",
    "            if id in r.task_ids:\n",
    "                # 判断应该移除哪一个\n",
    "                eval1 = eval(s2r[b].task_ids, id)\n",
    "                eval2 = eval(r, id)\n",
    "\n",
    "                if eval1 > eval2:\n",
    "                    s2r[b].remove_id(id, tasks[id][1])\n",
    "                else:\n",
    "                    r.remove_id(id, tasks[id][1])\n",
    "                \n",
    "                duplicated.remove(id)\n",
    "                break\n",
    "    \n",
    "    s0r.append(s2r[b])  # 放入new\n",
    "    idx1, idx2 = -1, -1\n",
    "    for id in unserved:\n",
    "        min_cost = MAX_COST\n",
    "        for route in s0r:\n",
    "            route.task_ids\n",
    "        \n",
    "        min()\n"
   ]
  },
  {
   "cell_type": "code",
   "execution_count": null,
   "metadata": {},
   "outputs": [],
   "source": [
    "# record the accumulated number of successful pool updates \n",
    "# with the related threshold ratio value in a given set Sr\n",
    "threshold_ratios = {ratio: 1 for ratio in [0.003, 0.004, 0.005, 0.006]}\n",
    "\n",
    "from time import perf_counter\n",
    "start = end = perf_counter()\n",
    "while end - start < 1:\n",
    "    # 选择两个父代\n",
    "    "
   ]
  }
 ],
 "metadata": {
  "kernelspec": {
   "display_name": "venv",
   "language": "python",
   "name": "python3"
  },
  "language_info": {
   "codemirror_mode": {
    "name": "ipython",
    "version": 3
   },
   "file_extension": ".py",
   "mimetype": "text/x-python",
   "name": "python",
   "nbconvert_exporter": "python",
   "pygments_lexer": "ipython3",
   "version": "3.10.9"
  },
  "orig_nbformat": 4
 },
 "nbformat": 4,
 "nbformat_minor": 2
}
