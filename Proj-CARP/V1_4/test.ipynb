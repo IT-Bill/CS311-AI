{
 "cells": [
  {
   "cell_type": "code",
   "execution_count": 15,
   "metadata": {},
   "outputs": [],
   "source": [
    "from CARP_solver import *\n",
    "from cProfile import run"
   ]
  },
  {
   "cell_type": "code",
   "execution_count": 16,
   "metadata": {},
   "outputs": [],
   "source": [
    "info = read_file(\"../datasets/egl-s1-A.dat\")\n",
    "gv.init(info)"
   ]
  },
  {
   "cell_type": "code",
   "execution_count": 17,
   "metadata": {},
   "outputs": [],
   "source": [
    "def hamming_distance(s1: Solution, s2: Solution):\n",
    "    def deadhead(solu: Solution):\n",
    "        deadhead_link = []\n",
    "        for route in solu.routes:\n",
    "            for idx in range(len(route.tasks) - 1):\n",
    "                deadhead_link.append((route[idx].t, route[idx + 1].s))\n",
    "\n",
    "        return deadhead_link\n",
    "\n",
    "    m = min(len(s1.routes), len(s2.routes))\n",
    "    n = gv.num_tasks\n",
    "    common = len(set(deadhead(s1)).intersection(set(deadhead(s2))))\n",
    "    return n + m - common\n",
    "\n",
    "\n",
    "def pop_dist_rank(pop):\n",
    "    \"\"\"计算每个solu在pop中的平均距离，倒序排序，越大排名越高\"\"\"\n",
    "    pop_size = len(pop)  # ! 最后要减一\n",
    "    dist_matrix = np.zeros((pop_size, pop_size), dtype=int)\n",
    "    for i in range(pop_size):\n",
    "        for j in range(i + 1, pop_size):\n",
    "            dist = hamming_distance(pop[i], pop[j])\n",
    "            dist_matrix[i, j] = dist_matrix[j, i] = dist\n",
    "    \n",
    "    # 添加随机值[0,1)进行排序\n",
    "    return np.argsort(-dist_matrix.sum(axis=0))\n",
    "\n",
    "\n",
    "def QDNS_update_pop(pop, solu):\n",
    "    if not solu.feasible():\n",
    "        return False\n",
    "\n",
    "    pop_size = len(pop)\n",
    "    pop.append(solu)\n",
    "\n",
    "    cost_rank = np.argsort(np.array([solu.cost for solu in pop]) + np.random.rand(pop_size + 1))\n",
    "    dist_rank = pop_dist_rank(pop)\n",
    "    alpha = 0.6\n",
    "    QDF = [alpha * cost_rank[i] + (1 - alpha) * dist_rank[i] for i in range(pop_size + 1)]\n",
    "    # 将要被抛弃的pop的idx\n",
    "    worst = np.argmax(QDF)\n",
    "    # print(list(map(lambda x: x.cost, pop)))\n",
    "    # print(QDF, worst)\n",
    "    pop.pop(worst)  # 直接在原来的pop上改\n",
    "    if worst == pop_size:\n",
    "        # 弹出了新加的solu\n",
    "        return False\n",
    "\n",
    "    return True\n",
    "    \n",
    "    "
   ]
  },
  {
   "cell_type": "code",
   "execution_count": 18,
   "metadata": {},
   "outputs": [],
   "source": [
    "def main(pop_size, timeout):\n",
    "    pop = init_pop(pop_size)\n",
    "    best_solu = min(pop, key=lambda x: x.eval())\n",
    "    best_eval = best_solu.eval()\n",
    "    tabu_list = []\n",
    "    max_len_tabu = 30\n",
    "\n",
    "    start = end = perf_counter()\n",
    "    while end - start < timeout:\n",
    "        # crossover\n",
    "        co = sample(pop, k=2)\n",
    "        new_solu = Solution.crossover(co[0], co[1])\n",
    "\n",
    "        # 生成一个随机数，判断应该进行怎样improve\n",
    "        ty = randint(0, 2)\n",
    "        if ty == 0:\n",
    "            pass\n",
    "        elif ty == 1:\n",
    "            # single insertion\n",
    "            new_solu = single_insert(new_solu, best_eval, tabu_list, 10)\n",
    "            pass\n",
    "\n",
    "        \n",
    "        elif ty == 2:\n",
    "            # merge split\n",
    "            new_solu = merge_split(new_solu)\n",
    "        \n",
    "        if new_solu is not None and new_solu not in tabu_list:\n",
    "            pop = update_pop(pop, new_solu)\n",
    "            # new_solu.assert_demand()\n",
    "        \n",
    "            tabu_list.append(new_solu)\n",
    "\n",
    "        bfs = best_feasible_solu(pop)\n",
    "        eval = bfs.eval()\n",
    "        if eval < best_eval:\n",
    "            best_eval = eval\n",
    "            print(eval)\n",
    "\n",
    "        # 删除禁忌表中留存时间过长的解\n",
    "        if len(tabu_list) >= max_len_tabu:\n",
    "            tabu_list.pop(0)\n",
    "\n",
    "        end = perf_counter()\n",
    "    \n",
    "    return best_feasible_solu(pop)"
   ]
  },
  {
   "cell_type": "code",
   "execution_count": 19,
   "metadata": {},
   "outputs": [
    {
     "name": "stdout",
     "output_type": "stream",
     "text": [
      "14062\n",
      "12494\n",
      "12363\n",
      "11800\n",
      "9214\n",
      "8049\n",
      "7952\n",
      "7926\n",
      "7841\n",
      "7722\n",
      "7574\n",
      "7566\n",
      "7270\n",
      "7267\n",
      "7243\n",
      "7231\n",
      "7167\n",
      "7108\n",
      "7046\n",
      "6948\n",
      "6851\n",
      "6594\n",
      "6490\n",
      "6445\n",
      "6440\n",
      "6331\n",
      "6291\n",
      "6274\n",
      "6238\n",
      "6222\n",
      "6215\n",
      "6212\n",
      "6177\n",
      "6075\n",
      "5996\n",
      "5992\n",
      "5972\n",
      "5915\n",
      "5745\n",
      "5736\n",
      "5704\n",
      "5696\n",
      "5686\n",
      "5606\n",
      "5547\n",
      "5539\n",
      "5487\n",
      "5458\n"
     ]
    }
   ],
   "source": [
    "# run(\"print(main(20, 5))\")\n",
    "best = main(20, 100)"
   ]
  },
  {
   "cell_type": "code",
   "execution_count": 20,
   "metadata": {},
   "outputs": [
    {
     "data": {
      "text/plain": [
       "solution cost:5458, feasible\n",
       "{'tasks': [(0, 0): 0, (86, 85): 4, (85, 84): 20, (84, 83): 10, (83, 81): 13, (81, 79): 16, (35, 37): 25, (39, 38): 18, (38, 37): 6, (35, 36): 20, (36, 42): 16, (45, 76): 16, (76, 77): 15, (77, 78): 12, (78, 79): 12, (0, 0): 0], 'cost': 642, 'remain_cap': 7}\n",
       "{'tasks': [(0, 0): 0, (111, 109): 13, (109, 110): 7, (109, 106): 8, (106, 105): 28, (108, 107): 103, (107, 106): 25, (106, 111): 13, (112, 113): 12, (0, 0): 0], 'cost': 505, 'remain_cap': 1}\n",
       "{'tasks': [(0, 0): 0, (104, 105): 15, (94, 95): 8, (95, 96): 17, (97, 96): 3, (65, 66): 33, (66, 68): 4, (68, 70): 6, (71, 70): 9, (71, 72): 18, (72, 43): 36, (44, 33): 4, (44, 43): 14, (43, 42): 31, (42, 45): 5, (0, 0): 0], 'cost': 828, 'remain_cap': 7}\n",
       "{'tasks': [(0, 0): 0, (115, 116): 19, (116, 118): 24, (123, 125): 11, (129, 125): 35, (117, 113): 58, (115, 0): 18, (0, 0): 0], 'cost': 419, 'remain_cap': 45}\n",
       "{'tasks': [(0, 0): 0, (65, 61): 37, (61, 62): 7, (62, 63): 9, (54, 53): 10, (8, 7): 37, (5, 4): 26, (5, 7): 10, (7, 10): 48, (10, 32): 24, (0, 0): 0], 'cost': 1050, 'remain_cap': 2}\n",
       "{'tasks': [(0, 0): 0, (112, 111): 4, (104, 103): 6, (103, 101): 21, (63, 64): 15, (55, 54): 4, (54, 139): 14, (139, 48): 24, (48, 47): 10, (21, 19): 10, (19, 23): 33, (23, 24): 10, (24, 26): 19, (26, 27): 6, (31, 29): 28, (29, 27): 5, (0, 0): 0], 'cost': 1030, 'remain_cap': 1}\n",
       "{'tasks': [(0, 0): 0, (33, 138): 49, (10, 11): 25, (11, 12): 12, (12, 13): 18, (10, 26): 50, (27, 28): 5, (32, 138): 13, (66, 67): 9, (1, 116): 16, (0, 0): 0], 'cost': 984, 'remain_cap': 13}"
      ]
     },
     "execution_count": 20,
     "metadata": {},
     "output_type": "execute_result"
    }
   ],
   "source": [
    "best"
   ]
  },
  {
   "cell_type": "code",
   "execution_count": null,
   "metadata": {},
   "outputs": [],
   "source": [
    "# QDNS_update_pop(pop, pop[0])"
   ]
  }
 ],
 "metadata": {
  "kernelspec": {
   "display_name": "venv",
   "language": "python",
   "name": "python3"
  },
  "language_info": {
   "codemirror_mode": {
    "name": "ipython",
    "version": 3
   },
   "file_extension": ".py",
   "mimetype": "text/x-python",
   "name": "python",
   "nbconvert_exporter": "python",
   "pygments_lexer": "ipython3",
   "version": "3.8.8"
  },
  "orig_nbformat": 4
 },
 "nbformat": 4,
 "nbformat_minor": 2
}
