{
 "cells": [
  {
   "cell_type": "code",
   "execution_count": 1,
   "metadata": {},
   "outputs": [],
   "source": [
    "from CARP_solver import *"
   ]
  },
  {
   "cell_type": "code",
   "execution_count": 2,
   "metadata": {},
   "outputs": [],
   "source": [
    "def decode_to_solu(s):\n",
    "    s = s[2:-2]\n",
    "    routes_str = s.split(\",0,0,\")\n",
    "    solu = []\n",
    "    for route_str in routes_str:\n",
    "        ss = route_str.split(\",\")\n",
    "        route = []\n",
    "        for i in range(0, len(ss), 2):\n",
    "            s, t = ss[i], ss[i + 1]\n",
    "            route.append((int(s[1:]), int(t[:-1])))\n",
    "        solu.append(route)\n",
    "    return solu"
   ]
  },
  {
   "cell_type": "code",
   "execution_count": 3,
   "metadata": {},
   "outputs": [],
   "source": [
    "info = read_file(\"gdb10.dat\")\n",
    "gv.init(info)\n",
    "def list_to_solu(arr):\n",
    "    solu = Solution()\n",
    "    for r in arr:\n",
    "        route = Route()\n",
    "        for s, t in r:\n",
    "            s -= 1\n",
    "            t -= 1\n",
    "            for no, task in gv.task_dict.items():\n",
    "                if (s, t) == task.st:\n",
    "                    route.append_task(task)\n",
    "                    break\n",
    "        route.append_task(gv.task_dict[0])\n",
    "        solu.add_route(route)\n",
    "    return solu\n"
   ]
  },
  {
   "cell_type": "code",
   "execution_count": 4,
   "metadata": {},
   "outputs": [
    {
     "data": {
      "text/plain": [
       "solution cost:283, feasible\n",
       "{'tasks': [(0, 0): 0, (0, 7): 1, (7, 2): 2, (2, 3): 2, (3, 10): 1, (10, 11): 1, (9, 0): 1, (0, 0): 0], 'cost': 74, 'remain_cap': 2}\n",
       "{'tasks': [(0, 0): 0, (0, 10): 2, (10, 5): 2, (5, 3): 2, (3, 0): 1, (8, 0): 2, (0, 0): 0], 'cost': 40, 'remain_cap': 1}\n",
       "{'tasks': [(0, 0): 0, (0, 1): 1, (1, 3): 2, (3, 6): 2, (6, 1): 1, (1, 4): 2, (4, 0): 2, (0, 0): 0], 'cost': 63, 'remain_cap': 0}\n",
       "{'tasks': [(0, 0): 0, (5, 4): 1, (4, 6): 1, (1, 2): 1, (2, 8): 1, (8, 7): 2, (7, 11): 1, (11, 9): 2, (9, 8): 1, (0, 0): 0], 'cost': 106, 'remain_cap': 0}"
      ]
     },
     "execution_count": 4,
     "metadata": {},
     "output_type": "execute_result"
    }
   ],
   "source": [
    "s = \"0,(1,8),(8,3),(3,4),(4,11),(11,12),(10,1),0,0,(1,11),(11,6),(6,4),(4,1),(9,1),0,0,(1,2),(2,4),(4,7),(7,2),(2,5),(5,1),0,0,(6,5),(5,7),(2,3),(3,9),(9,8),(8,12),(12,10),(10,9),0\"\n",
    "solu = list_to_solu(decode_to_solu(s))\n",
    "solu"
   ]
  },
  {
   "cell_type": "code",
   "execution_count": 5,
   "metadata": {},
   "outputs": [
    {
     "data": {
      "text/plain": [
       "array([[ 0, 11, 10,  7,  9, 15, 14,  9,  4, 13, 12, 14],\n",
       "       [11,  0, 15, 17,  8, 23,  6, 20, 15, 24, 23, 25],\n",
       "       [10, 15,  0,  8, 19, 18, 19, 18,  6, 23, 21, 23],\n",
       "       [ 7, 17,  8,  0, 16, 10, 11, 16, 11, 20, 13, 20],\n",
       "       [ 9,  8, 19, 16,  0, 15,  5, 18, 13, 22, 18, 23],\n",
       "       [15, 23, 18, 10, 15,  0, 20, 15, 19, 12,  3, 10],\n",
       "       [14,  6, 19, 11,  5, 20,  0, 23, 18, 27, 23, 28],\n",
       "       [ 9, 20, 18, 16, 18, 15, 23,  0, 13,  7, 12,  5],\n",
       "       [ 4, 15,  6, 11, 13, 19, 18, 13,  0, 17, 16, 18],\n",
       "       [13, 24, 23, 20, 22, 12, 27,  7, 17,  0,  9,  2],\n",
       "       [12, 23, 21, 13, 18,  3, 23, 12, 16,  9,  0,  7],\n",
       "       [14, 25, 23, 20, 23, 10, 28,  5, 18,  2,  7,  0]])"
      ]
     },
     "execution_count": 5,
     "metadata": {},
     "output_type": "execute_result"
    }
   ],
   "source": [
    "gv.sp"
   ]
  },
  {
   "cell_type": "code",
   "execution_count": 6,
   "metadata": {},
   "outputs": [
    {
     "data": {
      "text/plain": [
       "283"
      ]
     },
     "execution_count": 6,
     "metadata": {},
     "output_type": "execute_result"
    }
   ],
   "source": [
    "solu.calc_cost()"
   ]
  },
  {
   "cell_type": "code",
   "execution_count": 7,
   "metadata": {},
   "outputs": [
    {
     "data": {
      "text/plain": [
       "[[(1, 8), (8, 3), (3, 4), (4, 11), (11, 12), (10, 1)],\n",
       " [(1, 11), (11, 6), (6, 4), (4, 1), (9, 1)],\n",
       " [(1, 2), (2, 4), (4, 7), (7, 2), (2, 5), (5, 1)],\n",
       " [(6, 5), (5, 7), (2, 3), (3, 9), (9, 8), (8, 12), (12, 10), (10, 9)]]"
      ]
     },
     "execution_count": 7,
     "metadata": {},
     "output_type": "execute_result"
    }
   ],
   "source": [
    "decode_to_solu(s)"
   ]
  },
  {
   "cell_type": "code",
   "execution_count": 8,
   "metadata": {},
   "outputs": [
    {
     "name": "stdout",
     "output_type": "stream",
     "text": [
      "(0, 0) 0\n",
      "(0, 7) 9\n",
      "(7, 0) 9\n",
      "(0, 8) 4\n",
      "(8, 0) 4\n",
      "(0, 9) 13\n",
      "(9, 0) 13\n",
      "(0, 10) 12\n",
      "(10, 0) 12\n",
      "(1, 0) 11\n",
      "(0, 1) 11\n",
      "(1, 2) 15\n",
      "(2, 1) 15\n",
      "(1, 3) 18\n",
      "(3, 1) 18\n",
      "(1, 4) 8\n",
      "(4, 1) 8\n",
      "(2, 3) 8\n",
      "(3, 2) 8\n",
      "(2, 7) 18\n",
      "(7, 2) 18\n",
      "(2, 8) 6\n",
      "(8, 2) 6\n",
      "(3, 0) 7\n",
      "(0, 3) 7\n",
      "(3, 5) 10\n",
      "(5, 3) 10\n",
      "(3, 10) 17\n",
      "(10, 3) 17\n",
      "(4, 0) 9\n",
      "(0, 4) 9\n",
      "(4, 5) 15\n",
      "(5, 4) 15\n",
      "(5, 10) 3\n",
      "(10, 5) 3\n",
      "(6, 1) 6\n",
      "(1, 6) 6\n",
      "(6, 3) 11\n",
      "(3, 6) 11\n",
      "(6, 4) 5\n",
      "(4, 6) 5\n",
      "(7, 8) 14\n",
      "(8, 7) 14\n",
      "(7, 11) 5\n",
      "(11, 7) 5\n",
      "(8, 9) 19\n",
      "(9, 8) 19\n",
      "(9, 11) 2\n",
      "(11, 9) 2\n",
      "(10, 11) 7\n",
      "(11, 10) 7\n"
     ]
    }
   ],
   "source": [
    "for key, val in info[\"task_dict\"].items():\n",
    "    print(val.st, val.cost)"
   ]
  },
  {
   "cell_type": "code",
   "execution_count": null,
   "metadata": {},
   "outputs": [],
   "source": []
  }
 ],
 "metadata": {
  "kernelspec": {
   "display_name": "venv",
   "language": "python",
   "name": "python3"
  },
  "language_info": {
   "codemirror_mode": {
    "name": "ipython",
    "version": 3
   },
   "file_extension": ".py",
   "mimetype": "text/x-python",
   "name": "python",
   "nbconvert_exporter": "python",
   "pygments_lexer": "ipython3",
   "version": "3.10.9"
  },
  "orig_nbformat": 4
 },
 "nbformat": 4,
 "nbformat_minor": 2
}
