{
 "cells": [
  {
   "cell_type": "code",
   "execution_count": 114,
   "metadata": {},
   "outputs": [],
   "source": [
    "import numpy as np\n",
    "from main import *\n",
    "from copy import deepcopy\n",
    "from random import choice"
   ]
  },
  {
   "cell_type": "code",
   "execution_count": 115,
   "metadata": {},
   "outputs": [
    {
     "data": {
      "text/plain": [
       "(array([[  0,  32,  46, ..., 271, 226, 261],\n",
       "        [ 32,   0,  14, ..., 239, 194, 229],\n",
       "        [ 46,  14,   0, ..., 253, 208, 243],\n",
       "        ...,\n",
       "        [271, 239, 253, ...,   0, 119, 154],\n",
       "        [226, 194, 208, ..., 119,   0,  35],\n",
       "        [261, 229, 243, ..., 154,  35,   0]]),\n",
       " [((0, 1), 32),\n",
       "  ((1, 2), 14),\n",
       "  ((1, 3), 17),\n",
       "  ((3, 4), 56),\n",
       "  ((8, 9), 20),\n",
       "  ((10, 11), 32),\n",
       "  ((11, 15), 29),\n",
       "  ((12, 15), 13),\n",
       "  ((12, 13), 7),\n",
       "  ((14, 16), 26),\n",
       "  ((14, 17), 38),\n",
       "  ((17, 18), 41),\n",
       "  ((18, 19), 32),\n",
       "  ((18, 20), 38),\n",
       "  ((20, 21), 17),\n",
       "  ((21, 74), 24),\n",
       "  ((22, 30), 40),\n",
       "  ((30, 31), 58),\n",
       "  ((31, 32), 30),\n",
       "  ((31, 33), 43),\n",
       "  ((31, 34), 86),\n",
       "  ((34, 40), 15),\n",
       "  ((42, 43), 78),\n",
       "  ((43, 44), 12),\n",
       "  ((43, 45), 13),\n",
       "  ((45, 46), 33),\n",
       "  ((46, 47), 10),\n",
       "  ((46, 48), 9),\n",
       "  ((48, 49), 8),\n",
       "  ((48, 50), 10),\n",
       "  ((49, 51), 2),\n",
       "  ((51, 53), 4),\n",
       "  ((54, 55), 6),\n",
       "  ((41, 56), 14),\n",
       "  ((56, 57), 78),\n",
       "  ((57, 58), 25),\n",
       "  ((10, 58), 78),\n",
       "  ((57, 59), 33),\n",
       "  ((59, 60), 39),\n",
       "  ((59, 61), 23),\n",
       "  ((61, 62), 30),\n",
       "  ((62, 64), 21),\n",
       "  ((61, 65), 16),\n",
       "  ((65, 67), 45),\n",
       "  ((57, 68), 32),\n",
       "  ((58, 68), 11),\n",
       "  ((3, 68), 75),\n",
       "  ((22, 74), 17),\n",
       "  ((19, 75), 8),\n",
       "  ((20, 50), 2),\n",
       "  ((43, 58), 28)])"
      ]
     },
     "execution_count": 115,
     "metadata": {},
     "output_type": "execute_result"
    }
   ],
   "source": [
    "info = read_file(\"sample2.dat\")\n",
    "sp = shortest_path(info[\"graph\"])\n",
    "sp, info[\"tasks\"]"
   ]
  },
  {
   "cell_type": "code",
   "execution_count": 116,
   "metadata": {},
   "outputs": [
    {
     "data": {
      "text/plain": [
       "(0, 305)"
      ]
     },
     "execution_count": 116,
     "metadata": {},
     "output_type": "execute_result"
    }
   ],
   "source": [
    "depot, capacity = info[\"depot\"], info[\"capacity\"]\n",
    "depot, capacity"
   ]
  },
  {
   "cell_type": "code",
   "execution_count": null,
   "metadata": {},
   "outputs": [],
   "source": [
    "# Rule 1: maximize the distance from the head of task to the depot\n"
   ]
  },
  {
   "cell_type": "code",
   "execution_count": 156,
   "metadata": {},
   "outputs": [
    {
     "name": "stdout",
     "output_type": "stream",
     "text": [
      "[((0, 1), 32), ((10, 11), 32), ((18, 19), 32), ((57, 68), 32)]\n",
      "[((48, 49), 8), ((19, 75), 8)]\n",
      "[((0, 1), 32), ((10, 11), 32), ((57, 68), 32)]\n",
      "[((11, 15), 29)]\n",
      "[((12, 15), 13), ((43, 45), 13)]\n",
      "[((45, 46), 33), ((57, 59), 33)]\n",
      "[((42, 43), 78), ((56, 57), 78), ((10, 58), 78)]\n",
      "[((57, 58), 25)]\n",
      "[((58, 68), 11)]\n",
      "[((43, 58), 28)]\n",
      "[((43, 44), 12)]\n",
      "[((49, 51), 2), ((20, 50), 2)]\n"
     ]
    },
    {
     "data": {
      "text/plain": [
       "[0,\n",
       " (19, 18),\n",
       " (19, 75),\n",
       " (11, 10),\n",
       " (11, 15),\n",
       " (45, 43),\n",
       " (57, 59),\n",
       " (58, 10),\n",
       " (58, 57),\n",
       " (58, 68),\n",
       " (58, 43),\n",
       " (43, 44),\n",
       " (50, 20),\n",
       " (51, 49),\n",
       " 0]"
      ]
     },
     "execution_count": 156,
     "metadata": {},
     "output_type": "execute_result"
    },
    {
     "ename": "",
     "evalue": "",
     "output_type": "error",
     "traceback": [
      "\u001b[1;31mThe Kernel crashed while executing code in the the current cell or a previous cell. Please review the code in the cell(s) to identify a possible cause of the failure. Click <a href='https://aka.ms/vscodeJupyterKernelCrash'>here</a> for more info. View Jupyter <a href='command:jupyter.viewOutput'>log</a> for further details."
     ]
    }
   ],
   "source": [
    "\n",
    "remain_cap = capacity\n",
    "\n",
    "route = [0]\n",
    "cur_vertex = 0  # 车正在哪个顶点\n",
    "tasks = deepcopy(info[\"tasks\"])\n",
    "while True:\n",
    "    valid_tasks = []\n",
    "    for task in tasks:\n",
    "        if task[1] <= remain_cap:  # 这个任务比剩余容量小，放得下\n",
    "            valid_tasks.append(task)\n",
    "    \n",
    "    \n",
    "    if len(valid_tasks) == 0:\n",
    "        # 当没有有效的任务时，连回depot\n",
    "        route.append(0)\n",
    "        break\n",
    "\n",
    "    elif len(valid_tasks) == 1:\n",
    "        # 只有一个有效任务，最短路径过去\n",
    "        pos = valid_tasks[0][0]\n",
    "        if sp[cur_vertex, pos[0]] < sp[cur_vertex, pos[1]]:\n",
    "            route.append(pos)\n",
    "            cur_vertex = pos[0]  # 修改车的位置\n",
    "            \n",
    "        else:\n",
    "            route.append((pos[1], pos[0]))\n",
    "            cur_vertex = pos[1]\n",
    "        \n",
    "        # 移除task\n",
    "        tasks.remove(valid_tasks[0])\n",
    "        # 减少容量\n",
    "        remain_cap -= valid_tasks[0][1]\n",
    "\n",
    "        # 一定是最后一个了\n",
    "        route.append(0)\n",
    "        break\n",
    "    \n",
    "    else:\n",
    "        # 有多个任务满足条件，选一个距离最短的\n",
    "        min_cost_func = lambda x: min(sp[cur_vertex, x[0][0]], sp[cur_vertex, x[0][1]])\n",
    "        min_cost = min(valid_tasks, key=min_cost_func)[1]\n",
    "\n",
    "        # 检查是否有多个距离最短的点\n",
    "        min_cost_tasks = [t for t in valid_tasks if t[1] == min_cost]\n",
    "        # print(min_cost_tasks)\n",
    "        if len(min_cost_tasks) == 1:  # 只有一个\n",
    "            task = min_cost_tasks[0]\n",
    "        else:  # 多个\n",
    "            # TODO 使用五种Rules\n",
    "            task = choice(min_cost_tasks)\n",
    "        \n",
    "        \n",
    "        pos = task[0]\n",
    "        if sp[cur_vertex, pos[0]] < sp[cur_vertex, pos[1]]:\n",
    "            route.append(pos)\n",
    "            cur_vertex = pos[0]  # 修改车的位置\n",
    "        else:\n",
    "            route.append((pos[1], pos[0]))\n",
    "            cur_vertex = pos[1]\n",
    "        \n",
    "        # 移除task\n",
    "        tasks.remove(task)\n",
    "        remain_cap -= min_cost\n",
    "\n",
    "route"
   ]
  },
  {
   "cell_type": "code",
   "execution_count": null,
   "metadata": {},
   "outputs": [],
   "source": []
  }
 ],
 "metadata": {
  "kernelspec": {
   "display_name": "venv",
   "language": "python",
   "name": "python3"
  },
  "language_info": {
   "codemirror_mode": {
    "name": "ipython",
    "version": 3
   },
   "file_extension": ".py",
   "mimetype": "text/x-python",
   "name": "python",
   "nbconvert_exporter": "python",
   "pygments_lexer": "ipython3",
   "version": "3.8.8"
  },
  "orig_nbformat": 4
 },
 "nbformat": 4,
 "nbformat_minor": 2
}
