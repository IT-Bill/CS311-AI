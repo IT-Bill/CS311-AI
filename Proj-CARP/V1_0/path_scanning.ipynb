{
 "cells": [
  {
   "cell_type": "code",
   "execution_count": 58,
   "metadata": {},
   "outputs": [],
   "source": [
    "import numpy as np\n",
    "from main import *\n",
    "from copy import deepcopy\n",
    "from random import choice"
   ]
  },
  {
   "cell_type": "code",
   "execution_count": 59,
   "metadata": {},
   "outputs": [
    {
     "data": {
      "text/plain": [
       "(array([[  0,  32,  46, ..., 271, 226, 261],\n",
       "        [ 32,   0,  14, ..., 239, 194, 229],\n",
       "        [ 46,  14,   0, ..., 253, 208, 243],\n",
       "        ...,\n",
       "        [271, 239, 253, ...,   0, 119, 154],\n",
       "        [226, 194, 208, ..., 119,   0,  35],\n",
       "        [261, 229, 243, ..., 154,  35,   0]]),\n",
       " [((0, 1), 32),\n",
       "  ((1, 0), 32),\n",
       "  ((1, 2), 14),\n",
       "  ((2, 1), 14),\n",
       "  ((1, 3), 17),\n",
       "  ((3, 1), 17),\n",
       "  ((3, 4), 56),\n",
       "  ((4, 3), 56),\n",
       "  ((8, 9), 20),\n",
       "  ((9, 8), 20),\n",
       "  ((10, 11), 32),\n",
       "  ((11, 10), 32),\n",
       "  ((11, 15), 29),\n",
       "  ((15, 11), 29),\n",
       "  ((12, 15), 13),\n",
       "  ((15, 12), 13),\n",
       "  ((12, 13), 7),\n",
       "  ((13, 12), 7),\n",
       "  ((14, 16), 26),\n",
       "  ((16, 14), 26),\n",
       "  ((14, 17), 38),\n",
       "  ((17, 14), 38),\n",
       "  ((17, 18), 41),\n",
       "  ((18, 17), 41),\n",
       "  ((18, 19), 32),\n",
       "  ((19, 18), 32),\n",
       "  ((18, 20), 38),\n",
       "  ((20, 18), 38),\n",
       "  ((20, 21), 17),\n",
       "  ((21, 20), 17),\n",
       "  ((21, 74), 24),\n",
       "  ((74, 21), 24),\n",
       "  ((22, 30), 40),\n",
       "  ((30, 22), 40),\n",
       "  ((30, 31), 58),\n",
       "  ((31, 30), 58),\n",
       "  ((31, 32), 30),\n",
       "  ((32, 31), 30),\n",
       "  ((31, 33), 43),\n",
       "  ((33, 31), 43),\n",
       "  ((31, 34), 86),\n",
       "  ((34, 31), 86),\n",
       "  ((34, 40), 15),\n",
       "  ((40, 34), 15),\n",
       "  ((42, 43), 78),\n",
       "  ((43, 42), 78),\n",
       "  ((43, 44), 12),\n",
       "  ((44, 43), 12),\n",
       "  ((43, 45), 13),\n",
       "  ((45, 43), 13),\n",
       "  ((45, 46), 33),\n",
       "  ((46, 45), 33),\n",
       "  ((46, 47), 10),\n",
       "  ((47, 46), 10),\n",
       "  ((46, 48), 9),\n",
       "  ((48, 46), 9),\n",
       "  ((48, 49), 8),\n",
       "  ((49, 48), 8),\n",
       "  ((48, 50), 10),\n",
       "  ((50, 48), 10),\n",
       "  ((49, 51), 2),\n",
       "  ((51, 49), 2),\n",
       "  ((51, 53), 4),\n",
       "  ((53, 51), 4),\n",
       "  ((54, 55), 6),\n",
       "  ((55, 54), 6),\n",
       "  ((41, 56), 14),\n",
       "  ((56, 41), 14),\n",
       "  ((56, 57), 78),\n",
       "  ((57, 56), 78),\n",
       "  ((57, 58), 25),\n",
       "  ((58, 57), 25),\n",
       "  ((10, 58), 78),\n",
       "  ((58, 10), 78),\n",
       "  ((57, 59), 33),\n",
       "  ((59, 57), 33),\n",
       "  ((59, 60), 39),\n",
       "  ((60, 59), 39),\n",
       "  ((59, 61), 23),\n",
       "  ((61, 59), 23),\n",
       "  ((61, 62), 30),\n",
       "  ((62, 61), 30),\n",
       "  ((62, 64), 21),\n",
       "  ((64, 62), 21),\n",
       "  ((61, 65), 16),\n",
       "  ((65, 61), 16),\n",
       "  ((65, 67), 45),\n",
       "  ((67, 65), 45),\n",
       "  ((57, 68), 32),\n",
       "  ((68, 57), 32),\n",
       "  ((58, 68), 11),\n",
       "  ((68, 58), 11),\n",
       "  ((3, 68), 75),\n",
       "  ((68, 3), 75),\n",
       "  ((22, 74), 17),\n",
       "  ((74, 22), 17),\n",
       "  ((19, 75), 8),\n",
       "  ((75, 19), 8),\n",
       "  ((20, 50), 2),\n",
       "  ((50, 20), 2),\n",
       "  ((43, 58), 28),\n",
       "  ((58, 43), 28)])"
      ]
     },
     "execution_count": 59,
     "metadata": {},
     "output_type": "execute_result"
    }
   ],
   "source": [
    "info = read_file(\"../Ref/CARP/CARP_samples/egl-e1-A.dat\")\n",
    "sp = shortest_path(info[\"graph\"])\n",
    "sp, info[\"tasks\"]"
   ]
  },
  {
   "cell_type": "code",
   "execution_count": 60,
   "metadata": {},
   "outputs": [
    {
     "data": {
      "text/plain": [
       "(0, 305)"
      ]
     },
     "execution_count": 60,
     "metadata": {},
     "output_type": "execute_result"
    }
   ],
   "source": [
    "depot, capacity = info[\"depot\"], info[\"capacity\"]\n",
    "depot, capacity"
   ]
  },
  {
   "cell_type": "code",
   "execution_count": 61,
   "metadata": {},
   "outputs": [],
   "source": [
    "def rule1(sp, depot, tasks):\n",
    "    \"\"\"Rule 1: maximize the distance from the head of task to the depot\"\"\"\n",
    "    func = lambda x: min(sp[depot, x[0][0]], sp[depot, x[0][1]])"
   ]
  },
  {
   "cell_type": "code",
   "execution_count": 62,
   "metadata": {},
   "outputs": [],
   "source": [
    "def remove_task(tasks, task):\n",
    "    tasks.remove(task)\n",
    "    tasks.remove(((task[0][1], task[0][0]), task[1]))"
   ]
  },
  {
   "cell_type": "code",
   "execution_count": 65,
   "metadata": {},
   "outputs": [
    {
     "data": {
      "text/plain": [
       "[(0, 0),\n",
       " (68, 57),\n",
       " (68, 58),\n",
       " (68, 3),\n",
       " (58, 57),\n",
       " (57, 56),\n",
       " (45, 46),\n",
       " (15, 12),\n",
       " (15, 11),\n",
       " (13, 12),\n",
       " (50, 20),\n",
       " (0, 0)]"
      ]
     },
     "execution_count": 65,
     "metadata": {},
     "output_type": "execute_result"
    }
   ],
   "source": [
    "\n",
    "remain_cap = capacity\n",
    "\n",
    "route = [(0, 0)]\n",
    "cur_vertex = 0  # 车正在哪个顶点\n",
    "tasks = deepcopy(info[\"tasks\"])\n",
    "while True:\n",
    "    valid_tasks = []\n",
    "    for task in tasks:\n",
    "        if task[1] <= remain_cap:  # 这个任务比剩余容量小，放得下\n",
    "            valid_tasks.append(task)\n",
    "    \n",
    "    \n",
    "    if len(valid_tasks) == 0:\n",
    "        # 当没有有效的任务时，连回depot\n",
    "        route.append((0, 0))\n",
    "        break\n",
    "\n",
    "    elif len(valid_tasks) == 2:\n",
    "        # 只有一个有效任务，最短路径过去\n",
    "        task = valid_tasks[0] if valid_tasks[0][0][0] < valid_tasks[1][0][0] else valid_tasks[1]\n",
    "        pos = task[0]\n",
    "        route.append(pos)\n",
    "        cur_vertex = pos[0]  # 修改车的位置\n",
    "        \n",
    "        # 移除task\n",
    "        remove_task(tasks, task)\n",
    "        # 减少容量\n",
    "        remain_cap -= valid_tasks[0][1]\n",
    "\n",
    "        # 一定是最后一个了\n",
    "        route.append((0, 0))\n",
    "        break\n",
    "    \n",
    "    else:\n",
    "        # 有多个任务满足条件，选一个距离最短的\n",
    "        min_cost = min(valid_tasks, key=lambda x: sp[cur_vertex, x[0][0]])[1]\n",
    "\n",
    "        # 检查是否有多个距离最短的点\n",
    "        min_cost_tasks = [t for t in valid_tasks if t[1] == min_cost]\n",
    "        # print(min_cost_tasks)\n",
    "        if len(min_cost_tasks) == 1:  # 只有一个\n",
    "            task = min_cost_tasks[0]\n",
    "        else:  # 多个\n",
    "            # TODO 使用五种Rules\n",
    "            task = choice(min_cost_tasks)\n",
    "        \n",
    "        pos = task[0]\n",
    "        route.append(pos)\n",
    "        cur_vertex = pos[0]\n",
    "        \n",
    "        # 移除task\n",
    "        remove_task(tasks, task)\n",
    "        remain_cap -= min_cost\n",
    "\n",
    "route"
   ]
  },
  {
   "cell_type": "code",
   "execution_count": null,
   "metadata": {},
   "outputs": [],
   "source": []
  },
  {
   "cell_type": "code",
   "execution_count": null,
   "metadata": {},
   "outputs": [],
   "source": []
  }
 ],
 "metadata": {
  "kernelspec": {
   "display_name": "venv",
   "language": "python",
   "name": "python3"
  },
  "language_info": {
   "codemirror_mode": {
    "name": "ipython",
    "version": 3
   },
   "file_extension": ".py",
   "mimetype": "text/x-python",
   "name": "python",
   "nbconvert_exporter": "python",
   "pygments_lexer": "ipython3",
   "version": "3.10.9"
  },
  "orig_nbformat": 4
 },
 "nbformat": 4,
 "nbformat_minor": 2
}
