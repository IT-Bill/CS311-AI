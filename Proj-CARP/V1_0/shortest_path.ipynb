{
 "cells": [
  {
   "cell_type": "code",
   "execution_count": 90,
   "metadata": {},
   "outputs": [],
   "source": [
    "import numpy as np\n"
   ]
  },
  {
   "cell_type": "code",
   "execution_count": 91,
   "metadata": {},
   "outputs": [
    {
     "name": "stdout",
     "output_type": "stream",
     "text": [
      "['VERTICES ', ' 8']\n",
      "['DEPOT ', ' 1']\n",
      "['REQUIRED EDGES ', ' 5']\n",
      "['NON-REQUIRED EDGES ', ' 5']\n",
      "['VEHICLES ', ' 2']\n",
      "['CAPACITY ', ' 6']\n",
      "['TOTAL COST OF REQUIRED EDGES ', ' 13']\n",
      "['1', '2', '4', '0']\n",
      "['2', '3', '2', '3']\n",
      "['3', '4', '3', '3']\n",
      "['1', '4', '4', '0']\n",
      "['4', '5', '7', '0']\n",
      "['5', '6', '2', '2']\n",
      "['6', '7', '3', '2']\n",
      "['7', '8', '3', '2']\n",
      "['1', '8', '1', '0']\n",
      "['1', '5', '3', '0']\n",
      "['END']\n"
     ]
    }
   ],
   "source": [
    "with open(\"sample.dat\", \"r\") as f:\n",
    "    lines = f.readlines()\n",
    "\n",
    "\n",
    "for l in lines[1:8]:\n",
    "    print(l[:-1].split(\":\"))\n",
    "\n",
    "\n",
    "for l in lines[9:20]:\n",
    "    print(l.split())\n"
   ]
  },
  {
   "cell_type": "code",
   "execution_count": 92,
   "metadata": {},
   "outputs": [],
   "source": [
    "def read_file(path):\n",
    "    with open(path, \"r\") as f:\n",
    "        contents = f.readlines()\n",
    "    num_vertices = int(contents[1].split(\":\")[1])\n",
    "    depot = int(contents[2].split(\":\")[1])\n",
    "    num_required_edges = int(contents[3].split(\":\")[1])\n",
    "    num_non_required_edges = int(contents[4].split(\":\")[1])\n",
    "    num_vehicles = int(contents[5].split(\":\")[1])\n",
    "    capacity = int(contents[6].split(\":\")[1])\n",
    "    total_cost = int(contents[7].split(\":\")[1])\n",
    "\n",
    "    graph = np.zeros((num_vertices, num_vertices), dtype=int)\n",
    "    graph.fill(1e9)\n",
    "    tasks = np.zeros((num_vertices, num_vertices), dtype=int)\n",
    "\n",
    "    for c in contents[9: 9 + num_required_edges + num_non_required_edges]:\n",
    "        c = [int(i) for i in c.split()]\n",
    "        n1, n2 = c[0] - 1, c[1] - 1\n",
    "        graph[n1, n2] = c[2]\n",
    "        graph[n2, n1] = c[2]\n",
    "        if c[3] != 0:\n",
    "            tasks[n1, n2] = c[3]\n",
    "            tasks[n2, n1] = c[3]\n",
    "\n",
    "    return num_vertices, depot, \\\n",
    "        num_required_edges, num_non_required_edges, \\\n",
    "        num_vehicles, capacity, total_cost, \\\n",
    "        graph, tasks\n"
   ]
  },
  {
   "cell_type": "code",
   "execution_count": 93,
   "metadata": {},
   "outputs": [
    {
     "data": {
      "text/plain": [
       "(8,\n",
       " 1,\n",
       " 5,\n",
       " 5,\n",
       " 2,\n",
       " 6,\n",
       " 13,\n",
       " array([[1000000000,          4, 1000000000,          4,          3,\n",
       "         1000000000, 1000000000,          1],\n",
       "        [         4, 1000000000,          2, 1000000000, 1000000000,\n",
       "         1000000000, 1000000000, 1000000000],\n",
       "        [1000000000,          2, 1000000000,          3, 1000000000,\n",
       "         1000000000, 1000000000, 1000000000],\n",
       "        [         4, 1000000000,          3, 1000000000,          7,\n",
       "         1000000000, 1000000000, 1000000000],\n",
       "        [         3, 1000000000, 1000000000,          7, 1000000000,\n",
       "                  2, 1000000000, 1000000000],\n",
       "        [1000000000, 1000000000, 1000000000, 1000000000,          2,\n",
       "         1000000000,          3, 1000000000],\n",
       "        [1000000000, 1000000000, 1000000000, 1000000000, 1000000000,\n",
       "                  3, 1000000000,          3],\n",
       "        [         1, 1000000000, 1000000000, 1000000000, 1000000000,\n",
       "         1000000000,          3, 1000000000]]),\n",
       " array([[0, 0, 0, 0, 0, 0, 0, 0],\n",
       "        [0, 0, 3, 0, 0, 0, 0, 0],\n",
       "        [0, 3, 0, 3, 0, 0, 0, 0],\n",
       "        [0, 0, 3, 0, 0, 0, 0, 0],\n",
       "        [0, 0, 0, 0, 0, 2, 0, 0],\n",
       "        [0, 0, 0, 0, 2, 0, 2, 0],\n",
       "        [0, 0, 0, 0, 0, 2, 0, 2],\n",
       "        [0, 0, 0, 0, 0, 0, 2, 0]]))"
      ]
     },
     "execution_count": 93,
     "metadata": {},
     "output_type": "execute_result"
    }
   ],
   "source": [
    "read_file(\"sample.dat\")"
   ]
  },
  {
   "cell_type": "code",
   "execution_count": 112,
   "metadata": {},
   "outputs": [],
   "source": [
    "from heapq import heapify, heappop, heappush\n",
    "def shortest_path(graph):\n",
    "    n = graph.shape[0]\n",
    "    sp = np.zeros_like(graph, dtype=int)\n",
    "    sp.fill(1e9)\n",
    "    is_visited = np.zeros((n, ), dtype=bool)\n",
    "\n",
    "    for src in range(n):\n",
    "        is_visited.fill(False)\n",
    "        heap = [(0, src)]  # (distance, point)\n",
    "        sp[src, src] = 0  # \n",
    "\n",
    "        while len(heap) > 0:\n",
    "            cost, s = heappop(heap)\n",
    "            if is_visited[s]: continue\n",
    "            is_visited[s] = True\n",
    "\n",
    "\n",
    "            for d in range(n):\n",
    "                # 没有被访问过\n",
    "                new_cost = cost + graph[s, d]\n",
    "                if not is_visited[d] and new_cost < sp[src, d]:\n",
    "                    sp[src, d] = new_cost\n",
    "                    \n",
    "                    # 将d插入堆中\n",
    "                    heappush(heap, (new_cost, d))\n",
    "\n",
    "    return sp\n"
   ]
  },
  {
   "cell_type": "code",
   "execution_count": 113,
   "metadata": {},
   "outputs": [
    {
     "data": {
      "text/plain": [
       "array([[ 0,  4,  6,  4,  3,  5,  4,  1],\n",
       "       [ 4,  0,  2,  5,  7,  9,  8,  5],\n",
       "       [ 6,  2,  0,  3,  9, 11, 10,  7],\n",
       "       [ 4,  5,  3,  0,  7,  9,  8,  5],\n",
       "       [ 3,  7,  9,  7,  0,  2,  5,  4],\n",
       "       [ 5,  9, 11,  9,  2,  0,  3,  6],\n",
       "       [ 4,  8, 10,  8,  5,  3,  0,  3],\n",
       "       [ 1,  5,  7,  5,  4,  6,  3,  0]])"
      ]
     },
     "execution_count": 113,
     "metadata": {},
     "output_type": "execute_result"
    }
   ],
   "source": [
    "graph = read_file(\"sample.dat\")[7]\n",
    "shortest_path(graph)"
   ]
  }
 ],
 "metadata": {
  "kernelspec": {
   "display_name": "venv",
   "language": "python",
   "name": "python3"
  },
  "language_info": {
   "codemirror_mode": {
    "name": "ipython",
    "version": 3
   },
   "file_extension": ".py",
   "mimetype": "text/x-python",
   "name": "python",
   "nbconvert_exporter": "python",
   "pygments_lexer": "ipython3",
   "version": "3.10.9"
  },
  "orig_nbformat": 4
 },
 "nbformat": 4,
 "nbformat_minor": 2
}
