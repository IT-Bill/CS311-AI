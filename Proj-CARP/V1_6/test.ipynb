{
 "cells": [
  {
   "cell_type": "code",
   "execution_count": 4,
   "metadata": {},
   "outputs": [],
   "source": [
    "from CARP_solver import *\n",
    "import cProfile"
   ]
  },
  {
   "cell_type": "code",
   "execution_count": 5,
   "metadata": {},
   "outputs": [],
   "source": [
    "def main(pop_size, seed, timeout, info):\n",
    "    gv.init(info)\n",
    "\n",
    "    random.seed(seed)\n",
    "\n",
    "    pop = init_pop(pop_size)\n",
    "\n",
    "    best_eval = min(pop, key=lambda solu: solu.cost).cost\n",
    "    tabu_list = []\n",
    "    max_len_tabu = 30\n",
    "\n",
    "    start = end = perf_counter()\n",
    "    cnt = 0\n",
    "    ops = [single_insert, double_insertion]\n",
    "    \n",
    "    while end - start < timeout:\n",
    "        going = [0, 0, 0]\n",
    "        cnt += 1\n",
    "        # crossover\n",
    "        co = sample(pop, k=2)\n",
    "        new_solu = Solution.crossover(co[0], co[1])\n",
    "        # new_solu = choice(pop)\n",
    "        op_type = np.random.rand()\n",
    "        if op_type < 0.7:\n",
    "            new_solu = single_insert(new_solu)\n",
    "            going[0] = 1\n",
    "        else:\n",
    "            new_solu = merge_split(new_solu)\n",
    "            going[2] = 1\n",
    "\n",
    "        \n",
    "        if new_solu is not None and new_solu not in pop:\n",
    "            pop = update_pop(pop, new_solu)\n",
    "\n",
    "\n",
    "        # bfs = best_feasible_solu(pop)\n",
    "        # eval = bfs.eval()\n",
    "        # if eval < best_eval:\n",
    "        #     best_eval = eval\n",
    "        #     print(eval)\n",
    "\n",
    "\n",
    "        end = perf_counter()\n",
    "    print(cnt)\n",
    "    return best_feasible_solu(pop)"
   ]
  },
  {
   "cell_type": "code",
   "execution_count": 6,
   "metadata": {},
   "outputs": [
    {
     "name": "stdout",
     "output_type": "stream",
     "text": [
      "7567\n",
      "7492\n",
      "7444\n",
      "7397\n",
      "7251\n",
      "7233\n",
      "7067\n",
      "6859\n",
      "6583\n",
      "6454\n",
      "6424\n",
      "6411\n",
      "6340\n",
      "6268\n",
      "6104\n",
      "5954\n",
      "5928\n",
      "5927\n",
      "5898\n",
      "5893\n",
      "5869\n",
      "5844\n",
      "5653\n",
      "5562\n",
      "5550\n",
      "5514\n",
      "5502\n",
      "1383\n"
     ]
    },
    {
     "data": {
      "text/plain": [
       "solution cost:5502, feasible\n",
       "{'tasks': [(0, 0): 0, (42, 43): 31, (43, 44): 14, (10, 11): 25, (11, 12): 12, (12, 13): 18, (21, 19): 10, (19, 23): 33, (23, 24): 10, (24, 26): 19, (27, 29): 5, (29, 31): 28, (27, 28): 5, (0, 0): 0], 'cost': 1050, 'remain_cap': 0}\n",
       "{'tasks': [(0, 0): 0, (138, 32): 13, (26, 27): 6, (26, 10): 50, (138, 33): 49, (33, 44): 4, (42, 36): 16, (36, 35): 20, (35, 37): 25, (37, 38): 6, (38, 39): 18, (0, 0): 0], 'cost': 1013, 'remain_cap': 3}\n",
       "{'tasks': [(0, 0): 0, (65, 66): 33, (68, 66): 4, (67, 66): 9, (65, 61): 37, (62, 61): 7, (63, 64): 15, (55, 54): 4, (54, 139): 14, (47, 48): 10, (48, 139): 24, (53, 54): 10, (63, 62): 9, (96, 97): 3, (96, 95): 17, (95, 94): 8, (103, 104): 6, (0, 0): 0], 'cost': 946, 'remain_cap': 0}\n",
       "{'tasks': [(0, 0): 0, (115, 116): 19, (86, 85): 4, (85, 84): 20, (79, 78): 12, (10, 7): 48, (4, 5): 26, (5, 7): 10, (8, 7): 37, (10, 32): 24, (83, 84): 10, (0, 0): 0], 'cost': 986, 'remain_cap': 0}\n",
       "{'tasks': [(0, 0): 0, (83, 81): 13, (81, 79): 16, (78, 77): 12, (77, 76): 15, (76, 45): 16, (42, 45): 5, (43, 72): 36, (72, 71): 18, (71, 70): 9, (70, 68): 6, (101, 103): 21, (104, 105): 15, (105, 106): 28, (0, 0): 0], 'cost': 592, 'remain_cap': 0}\n",
       "{'tasks': [(0, 0): 0, (113, 112): 12, (111, 109): 13, (110, 109): 7, (109, 106): 8, (108, 107): 103, (107, 106): 25, (106, 111): 13, (111, 112): 4, (115, 0): 18, (0, 0): 0], 'cost': 464, 'remain_cap': 7}\n",
       "{'tasks': [(0, 0): 0, (116, 1): 16, (116, 118): 24, (125, 129): 35, (125, 123): 11, (117, 113): 58, (0, 0): 0], 'cost': 451, 'remain_cap': 66}"
      ]
     },
     "execution_count": 6,
     "metadata": {},
     "output_type": "execute_result"
    }
   ],
   "source": [
    "# !debug\n",
    "file_path = \"T:\\CS311-AI\\Proj-CARP\\datasets\\egl\\egl-s1-A.dat\"\n",
    "# timeout = 10\n",
    "# seed = 10\n",
    "# !####\n",
    "info = read_file(file_path)\n",
    "# random.seed(16)\n",
    "main(30, 1645135, 60, info)\n",
    "# cProfile.run(\"print(main(30, random.randint(0, 10000), 90, info))\")"
   ]
  },
  {
   "cell_type": "code",
   "execution_count": null,
   "metadata": {},
   "outputs": [],
   "source": []
  }
 ],
 "metadata": {
  "kernelspec": {
   "display_name": "venv",
   "language": "python",
   "name": "python3"
  },
  "language_info": {
   "codemirror_mode": {
    "name": "ipython",
    "version": 3
   },
   "file_extension": ".py",
   "mimetype": "text/x-python",
   "name": "python",
   "nbconvert_exporter": "python",
   "pygments_lexer": "ipython3",
   "version": "3.8.8"
  },
  "orig_nbformat": 4
 },
 "nbformat": 4,
 "nbformat_minor": 2
}
