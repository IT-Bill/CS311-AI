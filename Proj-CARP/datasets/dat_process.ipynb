{
 "cells": [
  {
   "cell_type": "code",
   "execution_count": 20,
   "metadata": {},
   "outputs": [],
   "source": [
    "import sys\n",
    "def convert(src, dist):\n",
    "    fout = open(dist, \"a\")\n",
    "    fout.truncate(0)\n",
    "    sys.stdout = fout\n",
    "\n",
    "    with open(src, \"r\") as f:\n",
    "        contents = f.readlines()\n",
    "\n",
    "    info = {}\n",
    "    info[\"NAME\"] = contents[0].split(\":\")[1].strip()\n",
    "    info[\"VERTICES\"] = int(contents[2].split(\":\")[1])\n",
    "    depot_line = 10 + int(contents[3].split(\":\")[1]) + 1 + int(contents[4].split(\":\")[1])\n",
    "    if int(contents[4].split(\":\")[1]) == 0:\n",
    "        depot_line -= 1\n",
    "\n",
    "    info['DEPOT'] = depot_line\n",
    "    info[\"REQUIRED EDGES\"] = int(contents[3].split(\":\")[1])\n",
    "    info[\"NON-REQUIRED EDGES\"] = int(contents[4].split(\":\")[1])\n",
    "    info[\"VEHICLES\"] = int(contents[5].split(\":\")[1])\n",
    "    info[\"CAPACITY\"] = int(contents[6].split(\":\")[1])\n",
    "    info[\"TOTAL COST OF REQUIRED EDGES\"] = int(contents[8].split(\":\")[1])\n",
    "\n",
    "    for key, val in info.items():\n",
    "        print(key, \":\", val)\n",
    "\n",
    "    print(\"NODES  COST  DEMAND\")\n",
    "    for line in contents[10: 10 + info[\"REQUIRED EDGES\"]]:\n",
    "        s = line.split()\n",
    "        n1 = s[1][:-1]\n",
    "        n2 = s[2][:-1]\n",
    "        cost = s[4]\n",
    "        demand = s[6]\n",
    "        print(n1, n2, cost, demand)\n",
    "\n",
    "    for line in contents[10 + info[\"REQUIRED EDGES\"] + 1: \n",
    "                        10 + info[\"REQUIRED EDGES\"] + 1 + info[\"NON-REQUIRED EDGES\"]]:\n",
    "        s = line.split()\n",
    "        n1 = s[1][:-1]\n",
    "        n2 = s[2][:-1]\n",
    "        cost = s[4]\n",
    "        print(n1, n2, cost, 0)\n",
    "    print(\"END\")\n",
    "\n",
    "    # fout.close()"
   ]
  },
  {
   "cell_type": "code",
   "execution_count": 21,
   "metadata": {},
   "outputs": [],
   "source": [
    "import os\n",
    "files = os.listdir(\"egl\")[:-1]\n",
    "\n",
    "for file in files:\n",
    "    convert(\"egl/\" + file, \"egl2/\" + file)"
   ]
  }
 ],
 "metadata": {
  "kernelspec": {
   "display_name": "venv",
   "language": "python",
   "name": "python3"
  },
  "language_info": {
   "codemirror_mode": {
    "name": "ipython",
    "version": 3
   },
   "file_extension": ".py",
   "mimetype": "text/x-python",
   "name": "python",
   "nbconvert_exporter": "python",
   "pygments_lexer": "ipython3",
   "version": "3.8.8"
  },
  "orig_nbformat": 4
 },
 "nbformat": 4,
 "nbformat_minor": 2
}
