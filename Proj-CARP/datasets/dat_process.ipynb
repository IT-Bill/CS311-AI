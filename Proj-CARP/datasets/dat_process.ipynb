{
 "cells": [
  {
   "cell_type": "code",
   "execution_count": 1,
   "metadata": {},
   "outputs": [],
   "source": [
    "import sys\n",
    "def convert(src, dist):\n",
    "    fout = open(dist, \"a\")\n",
    "    fout.truncate(0)\n",
    "    sys.stdout = fout\n",
    "\n",
    "    with open(src, \"r\") as f:\n",
    "        contents = f.readlines()\n",
    "\n",
    "    info = {}\n",
    "    info[\"NAME\"] = contents[0].split(\":\")[1].strip()\n",
    "    info[\"VERTICES\"] = int(contents[2].split(\":\")[1])\n",
    "    depot_line = 10 + int(contents[3].split(\":\")[1]) + 1 + int(contents[4].split(\":\")[1])\n",
    "    if int(contents[4].split(\":\")[1]) == 0:\n",
    "        depot_line -= 1\n",
    "\n",
    "    info['DEPOT'] = int(contents[depot_line].split(\":\")[1])\n",
    "    info[\"REQUIRED EDGES\"] = int(contents[3].split(\":\")[1])\n",
    "    info[\"NON-REQUIRED EDGES\"] = int(contents[4].split(\":\")[1])\n",
    "    info[\"VEHICLES\"] = int(contents[5].split(\":\")[1])\n",
    "    info[\"CAPACITY\"] = int(contents[6].split(\":\")[1])\n",
    "    info[\"TOTAL COST OF REQUIRED EDGES\"] = int(contents[8].split(\":\")[1])\n",
    "\n",
    "    for key, val in info.items():\n",
    "        print(key, \":\", val)\n",
    "\n",
    "    print(\"NODES  COST  DEMAND\")\n",
    "    for line in contents[10: 10 + info[\"REQUIRED EDGES\"]]:\n",
    "        s = line.split()\n",
    "        n1 = s[1][:-1]\n",
    "        n2 = s[2][:-1]\n",
    "        cost = s[4]\n",
    "        demand = s[6]\n",
    "        print(n1, n2, cost, demand)\n",
    "\n",
    "    for line in contents[10 + info[\"REQUIRED EDGES\"] + 1: \n",
    "                        10 + info[\"REQUIRED EDGES\"] + 1 + info[\"NON-REQUIRED EDGES\"]]:\n",
    "        s = line.split()\n",
    "        n1 = s[1][:-1]\n",
    "        n2 = s[2][:-1]\n",
    "        cost = s[4]\n",
    "        print(n1, n2, cost, 0)\n",
    "    print(\"END\")\n",
    "\n",
    "    # fout.close()"
   ]
  },
  {
   "cell_type": "code",
   "execution_count": 2,
   "metadata": {},
   "outputs": [
    {
     "ename": "IndexError",
     "evalue": "list index out of range",
     "output_type": "error",
     "traceback": [
      "\u001b[1;31m---------------------------------------------------------------------------\u001b[0m",
      "\u001b[1;31mIndexError\u001b[0m                                Traceback (most recent call last)",
      "Cell \u001b[1;32mIn[2], line 5\u001b[0m\n\u001b[0;32m      2\u001b[0m files \u001b[39m=\u001b[39m os\u001b[39m.\u001b[39mlistdir(\u001b[39m\"\u001b[39m\u001b[39mgdb\u001b[39m\u001b[39m\"\u001b[39m)[:\u001b[39m-\u001b[39m\u001b[39m1\u001b[39m]\n\u001b[0;32m      4\u001b[0m \u001b[39mfor\u001b[39;00m file \u001b[39min\u001b[39;00m files:\n\u001b[1;32m----> 5\u001b[0m     convert(\u001b[39m\"\u001b[39;49m\u001b[39mgdb/\u001b[39;49m\u001b[39m\"\u001b[39;49m \u001b[39m+\u001b[39;49m file, \u001b[39m\"\u001b[39;49m\u001b[39mgdb/\u001b[39;49m\u001b[39m\"\u001b[39;49m \u001b[39m+\u001b[39;49m file)\n",
      "Cell \u001b[1;32mIn[1], line 11\u001b[0m, in \u001b[0;36mconvert\u001b[1;34m(src, dist)\u001b[0m\n\u001b[0;32m      8\u001b[0m     contents \u001b[39m=\u001b[39m f\u001b[39m.\u001b[39mreadlines()\n\u001b[0;32m     10\u001b[0m info \u001b[39m=\u001b[39m {}\n\u001b[1;32m---> 11\u001b[0m info[\u001b[39m\"\u001b[39m\u001b[39mNAME\u001b[39m\u001b[39m\"\u001b[39m] \u001b[39m=\u001b[39m contents[\u001b[39m0\u001b[39;49m]\u001b[39m.\u001b[39msplit(\u001b[39m\"\u001b[39m\u001b[39m:\u001b[39m\u001b[39m\"\u001b[39m)[\u001b[39m1\u001b[39m]\u001b[39m.\u001b[39mstrip()\n\u001b[0;32m     12\u001b[0m info[\u001b[39m\"\u001b[39m\u001b[39mVERTICES\u001b[39m\u001b[39m\"\u001b[39m] \u001b[39m=\u001b[39m \u001b[39mint\u001b[39m(contents[\u001b[39m2\u001b[39m]\u001b[39m.\u001b[39msplit(\u001b[39m\"\u001b[39m\u001b[39m:\u001b[39m\u001b[39m\"\u001b[39m)[\u001b[39m1\u001b[39m])\n\u001b[0;32m     13\u001b[0m depot_line \u001b[39m=\u001b[39m \u001b[39m10\u001b[39m \u001b[39m+\u001b[39m \u001b[39mint\u001b[39m(contents[\u001b[39m3\u001b[39m]\u001b[39m.\u001b[39msplit(\u001b[39m\"\u001b[39m\u001b[39m:\u001b[39m\u001b[39m\"\u001b[39m)[\u001b[39m1\u001b[39m]) \u001b[39m+\u001b[39m \u001b[39m1\u001b[39m \u001b[39m+\u001b[39m \u001b[39mint\u001b[39m(contents[\u001b[39m4\u001b[39m]\u001b[39m.\u001b[39msplit(\u001b[39m\"\u001b[39m\u001b[39m:\u001b[39m\u001b[39m\"\u001b[39m)[\u001b[39m1\u001b[39m])\n",
      "\u001b[1;31mIndexError\u001b[0m: list index out of range"
     ]
    }
   ],
   "source": [
    "import os\n",
    "files = os.listdir(\"gdb\")[:-1]\n",
    "\n",
    "for file in files:\n",
    "    convert(\"gdb/\" + file, \"gdb/\" + file)"
   ]
  }
 ],
 "metadata": {
  "kernelspec": {
   "display_name": "venv",
   "language": "python",
   "name": "python3"
  },
  "language_info": {
   "codemirror_mode": {
    "name": "ipython",
    "version": 3
   },
   "file_extension": ".py",
   "mimetype": "text/x-python",
   "name": "python",
   "nbconvert_exporter": "python",
   "pygments_lexer": "ipython3",
   "version": "3.8.8"
  },
  "orig_nbformat": 4
 },
 "nbformat": 4,
 "nbformat_minor": 2
}
