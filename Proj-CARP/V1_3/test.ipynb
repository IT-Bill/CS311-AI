{
 "cells": [
  {
   "cell_type": "code",
   "execution_count": 27,
   "metadata": {},
   "outputs": [],
   "source": [
    "from CARP_solver import *"
   ]
  },
  {
   "cell_type": "code",
   "execution_count": 28,
   "metadata": {},
   "outputs": [],
   "source": [
    "def decode_to_solu(s):\n",
    "    s = s[2:-2]\n",
    "    routes_str = s.split(\",0,0,\")\n",
    "    solu = []\n",
    "    for route_str in routes_str:\n",
    "        ss = route_str.split(\",\")\n",
    "        route = []\n",
    "        for i in range(0, len(ss), 2):\n",
    "            s, t = ss[i], ss[i + 1]\n",
    "            route.append((int(s[1:]), int(t[:-1])))\n",
    "        solu.append(route)\n",
    "    return solu"
   ]
  },
  {
   "cell_type": "code",
   "execution_count": 29,
   "metadata": {},
   "outputs": [],
   "source": [
    "info = read_file(\"gdb10.dat\")\n",
    "gv.init(info)\n",
    "def list_to_solu(arr):\n",
    "    solu = Solution()\n",
    "    for r in arr:\n",
    "        route = Route()\n",
    "        for s, t in r:\n",
    "            s -= 1\n",
    "            t -= 1\n",
    "            for no, task in gv.task_dict.items():\n",
    "                if (s, t) == task.st:\n",
    "                    route.append_task(task)\n",
    "                    break\n",
    "\n",
    "    return solu\n"
   ]
  },
  {
   "cell_type": "code",
   "execution_count": 30,
   "metadata": {},
   "outputs": [
    {
     "data": {
      "text/plain": [
       "solution cost:0, infeasible"
      ]
     },
     "execution_count": 30,
     "metadata": {},
     "output_type": "execute_result"
    }
   ],
   "source": [
    "s = \"0,(1,8),(8,3),(3,4),(4,11),(11,12),(10,1),0,0,(1,11),(11,6),(6,4),(4,1),(9,1),0,0,(1,2),(2,4),(4,7),(7,2),(2,5),(5,1),0,0,(6,5),(5,7),(2,3),(3,9),(9,8),(8,12),(12,10),(10,9),0\"\n",
    "list_to_solu(decode_to_solu(s))"
   ]
  }
 ],
 "metadata": {
  "kernelspec": {
   "display_name": "venv",
   "language": "python",
   "name": "python3"
  },
  "language_info": {
   "codemirror_mode": {
    "name": "ipython",
    "version": 3
   },
   "file_extension": ".py",
   "mimetype": "text/x-python",
   "name": "python",
   "nbconvert_exporter": "python",
   "pygments_lexer": "ipython3",
   "version": "3.10.9"
  },
  "orig_nbformat": 4
 },
 "nbformat": 4,
 "nbformat_minor": 2
}
