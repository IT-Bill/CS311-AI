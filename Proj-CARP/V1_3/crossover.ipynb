{
 "cells": [
  {
   "cell_type": "code",
   "execution_count": 18,
   "metadata": {},
   "outputs": [],
   "source": [
    "from main import *"
   ]
  },
  {
   "cell_type": "code",
   "execution_count": 19,
   "metadata": {},
   "outputs": [
    {
     "data": {
      "text/plain": [
       "([{'cost': 29, 'routes': [{'remain_cap': 1, 'task_ids': [0, 2, 5, 0]}, {'remain_cap': 1, 'task_ids': [0, 1, 9, 0]}]},\n",
       "  {'cost': 28, 'routes': [{'remain_cap': 1, 'task_ids': [0, 4, 1, 0]}, {'remain_cap': 2, 'task_ids': [0, 5, 8, 0]}]}],\n",
       " {'cost': 28, 'routes': [{'remain_cap': 1, 'task_ids': [0, 4, 1, 0]}, {'remain_cap': 2, 'task_ids': [0, 5, 8, 0]}]})"
      ]
     },
     "execution_count": 19,
     "metadata": {},
     "output_type": "execute_result"
    }
   ],
   "source": [
    "info = read_file(\"sample1.dat\")\n",
    "pop = init_pop(2, **info)\n",
    "best_solu = min(pop, key=lambda x: x.cost)\n",
    "pop, best_solu"
   ]
  },
  {
   "cell_type": "code",
   "execution_count": null,
   "metadata": {},
   "outputs": [],
   "source": [
    "def rev_id(id, num_tasks):\n",
    "    \"\"\"另一个方向的task id\"\"\"\n",
    "    if id == 0:\n",
    "        return 0\n",
    "    return id + num_tasks if id <= num_tasks else id - num_tasks\n",
    "\n",
    "def double(task_ids, num_tasks):\n",
    "    \"\"\"补全两个方向的task_id\"\"\"\n",
    "    new_ids = [task_ids] + [rev_id(id, num_tasks) for id in task_ids]\n",
    "    return new_ids"
   ]
  },
  {
   "cell_type": "code",
   "execution_count": 20,
   "metadata": {},
   "outputs": [],
   "source": [
    "def crossover(sp, tasks, s1: Solution, s2: Solution):\n",
    "    def eval(route: Route, id):\n",
    "        idx = route.task_ids.index(id)\n",
    "        v1 = tasks[route.task_ids[idx - 1]][0][1]\n",
    "        v2 = tasks[route.task_ids[idx]][0][0]\n",
    "        v3 = tasks[route.task_ids[idx]][0][1]\n",
    "        v4 = tasks[route.task_ids[idx + 1]][0][0]\n",
    "        return sp[v1, v2] + sp[v3, v4] - sp[v2, v3]\n",
    "    \n",
    "    s1r, s2r = s1.routes, s2.routes\n",
    "    a, b = randint(0, len(s1r) - 1), randint(0, len(s2r) - 1)\n",
    "    old, new = set(double(s1r[a].task_ids)), set(double(s2r[b].task_ids))\n",
    "    s0r = s1r[:a] + s1r[a + 1:]  # 不加入 s2r[b]\n",
    "\n",
    "    common = old & new\n",
    "    unserved = old - common\n",
    "    duplicated = new - common\n",
    "\n",
    "    for id in duplicated:\n",
    "        for r in s0r:\n",
    "            if id in r.task_ids:\n",
    "                # 判断应该移除哪一个\n",
    "                eval1 = eval(s2r[b], id)\n",
    "                eval2 = eval(r, id)\n",
    "\n",
    "                if eval1 > eval2:\n",
    "                    s2r[b].remove_id(id, tasks[id][1])\n",
    "                else:\n",
    "                    r.remove_id(id, tasks[id][1])\n",
    "                \n",
    "                duplicated.remove(id)\n",
    "                duplicated.remove(rev_id(id))\n",
    "                break\n",
    "    \n",
    "    s0r.append(s2r[b])  # 放入new\n",
    "    for id in unserved:\n",
    "        # 对于每一个没有被服务的task\n",
    "        min_saving = MAX_COST\n",
    "        insert_route, insert_idx = None, None\n",
    "        for route in s0r:\n",
    "            # 搜索每一条route，首先看看容量是否够\n",
    "            if tasks[id][1] <= route.remain_cap:\n",
    "                # 容量够了，遍历这个路线的所有位置，看看cost如何\n",
    "                for idx in range(len(route.task_ids) - 1): # 不能插在最后，所以-1\n",
    "                    v1 = tasks[route[idx]][0][1]\n",
    "                    v2 = tasks[id][0][0]\n",
    "                    v3 = tasks[id][0][1]\n",
    "                    v4 = tasks[route[idx + 1]][0][0]\n",
    "                    saving = sp[v1, v2] + sp[v3, v4] - sp[v2, v3]\n",
    "                    if saving < min_saving:\n",
    "                        min_saving = saving\n",
    "                        insert_route, insert_idx = route, idx\n",
    "        \n",
    "        if insert_route is not None:\n",
    "            # 找到了插入位置\n",
    "            insert_route.insert(insert_idx, id)\n",
    "        \n",
    "    \n",
    "\n",
    "                \n",
    "        \n"
   ]
  },
  {
   "cell_type": "code",
   "execution_count": 21,
   "metadata": {},
   "outputs": [
    {
     "ename": "TypeError",
     "evalue": "min expected at least 1 argument, got 0",
     "output_type": "error",
     "traceback": [
      "\u001b[1;31m---------------------------------------------------------------------------\u001b[0m",
      "\u001b[1;31mTypeError\u001b[0m                                 Traceback (most recent call last)",
      "Cell \u001b[1;32mIn[21], line 1\u001b[0m\n\u001b[1;32m----> 1\u001b[0m crossover(info[\u001b[39m\"\u001b[39;49m\u001b[39msp\u001b[39;49m\u001b[39m\"\u001b[39;49m], info[\u001b[39m\"\u001b[39;49m\u001b[39mtasks\u001b[39;49m\u001b[39m\"\u001b[39;49m], pop[\u001b[39m0\u001b[39;49m], pop[\u001b[39m1\u001b[39;49m])\n",
      "Cell \u001b[1;32mIn[20], line 41\u001b[0m, in \u001b[0;36mcrossover\u001b[1;34m(sp, tasks, s1, s2)\u001b[0m\n\u001b[0;32m     38\u001b[0m \u001b[39mfor\u001b[39;00m route \u001b[39min\u001b[39;00m s0r:\n\u001b[0;32m     39\u001b[0m     route\u001b[39m.\u001b[39mtask_ids\n\u001b[1;32m---> 41\u001b[0m \u001b[39mmin\u001b[39;49m()\n",
      "\u001b[1;31mTypeError\u001b[0m: min expected at least 1 argument, got 0"
     ]
    }
   ],
   "source": [
    "crossover(info[\"sp\"], info[\"tasks\"], pop[0], pop[1])"
   ]
  }
 ],
 "metadata": {
  "kernelspec": {
   "display_name": "venv",
   "language": "python",
   "name": "python3"
  },
  "language_info": {
   "codemirror_mode": {
    "name": "ipython",
    "version": 3
   },
   "file_extension": ".py",
   "mimetype": "text/x-python",
   "name": "python",
   "nbconvert_exporter": "python",
   "pygments_lexer": "ipython3",
   "version": "3.10.9"
  },
  "orig_nbformat": 4
 },
 "nbformat": 4,
 "nbformat_minor": 2
}
